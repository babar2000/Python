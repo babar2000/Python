{
 "cells": [
  {
   "cell_type": "markdown",
   "metadata": {},
   "source": [
    "# pandas\n",
    "* filtering\n",
    "* sorting\n",
    "* useful methods\n",
    "* groupby\n",
    "* merge"
   ]
  },
  {
   "cell_type": "code",
   "execution_count": 11,
   "metadata": {},
   "outputs": [
    {
     "name": "stdout",
     "output_type": "stream",
     "text": [
      "   roll no       name    subject\n",
      "0     7174   Student1       Math\n",
      "1     1463   Student2    Science\n",
      "2     2400   Student3    History\n",
      "3     8468   Student4  Geography\n",
      "4     7581   Student5    English\n",
      "5     6326   Student6       Math\n",
      "6     5313   Student7    Science\n",
      "7     4349   Student8    History\n",
      "8     9788   Student9  Geography\n",
      "9     3308  Student10    English\n"
     ]
    }
   ],
   "source": [
    "import pandas as pd\n",
    "import random\n",
    "\n",
    "# Generate random student data\n",
    "data = {\n",
    "    'roll no': [random.randint(1000, 9999) for _ in range(10)],\n",
    "    'name': ['Student{}'.format(i) for i in range(1, 11)],\n",
    "    'subject': ['Math', 'Science', 'History', 'Geography', 'English'] * 2,\n",
    "    # You can add more columns as needed\n",
    "}\n",
    "\n",
    "# Create DataFrame\n",
    "students_df = pd.DataFrame(data)\n",
    "\n",
    "# Display DataFrame\n",
    "print(students_df)\n"
   ]
  },
  {
   "cell_type": "code",
   "execution_count": 3,
   "metadata": {},
   "outputs": [
    {
     "data": {
      "text/plain": [
       "subject\n",
       "Math         2\n",
       "Science      2\n",
       "History      2\n",
       "Geography    2\n",
       "English      2\n",
       "Name: count, dtype: int64"
      ]
     },
     "execution_count": 3,
     "metadata": {},
     "output_type": "execute_result"
    }
   ],
   "source": [
    "\n",
    "students_df.subject.value_counts()"
   ]
  },
  {
   "cell_type": "code",
   "execution_count": 4,
   "metadata": {},
   "outputs": [
    {
     "data": {
      "text/plain": [
       "subject\n",
       "Math         20.0\n",
       "Science      20.0\n",
       "History      20.0\n",
       "Geography    20.0\n",
       "English      20.0\n",
       "Name: proportion, dtype: float64"
      ]
     },
     "execution_count": 4,
     "metadata": {},
     "output_type": "execute_result"
    }
   ],
   "source": [
    "\n",
    "students_df.subject.value_counts(dropna=False , normalize=True)*100"
   ]
  },
  {
   "cell_type": "code",
   "execution_count": 1,
   "metadata": {},
   "outputs": [
    {
     "name": "stdout",
     "output_type": "stream",
     "text": [
      "          date   fee\n",
      "0   2024-06-28  2260\n",
      "1   2024-08-08   141\n",
      "2   2024-06-03  1474\n",
      "3   2024-08-24  1739\n",
      "4   2024-07-24  1928\n",
      "..         ...   ...\n",
      "995 2024-12-12  4238\n",
      "996 2024-08-14  1251\n",
      "997 2024-08-25  1825\n",
      "998 2024-07-03  4451\n",
      "999 2024-04-10   474\n",
      "\n",
      "[1000 rows x 2 columns]\n"
     ]
    }
   ],
   "source": [
    "import pandas as pd\n",
    "import numpy as np\n",
    "from datetime import datetime, timedelta\n",
    "\n",
    "# Generate random fee transactions data for 1000 transactions\n",
    "start_date = datetime(2024, 1, 1)\n",
    "end_date = datetime(2024, 12, 31)\n",
    "date_range = [start_date + timedelta(days=x) for x in range((end_date - start_date).days)]\n",
    "dates = np.random.choice(date_range, size=1000)\n",
    "fees = np.random.randint(1, 5000, size=1000)\n",
    "\n",
    "# Create DataFrame\n",
    "fee_transactions_df = pd.DataFrame({'date': dates, 'fee': fees})\n",
    "\n",
    "# Display DataFrame\n",
    "print(fee_transactions_df)\n"
   ]
  },
  {
   "cell_type": "code",
   "execution_count": 2,
   "metadata": {},
   "outputs": [
    {
     "data": {
      "text/plain": [
       "0      (1000, 3000]\n",
       "1          (1, 500]\n",
       "2      (1000, 3000]\n",
       "3      (1000, 3000]\n",
       "4      (1000, 3000]\n",
       "           ...     \n",
       "995    (4000, 5000]\n",
       "996    (1000, 3000]\n",
       "997    (1000, 3000]\n",
       "998    (4000, 5000]\n",
       "999        (1, 500]\n",
       "Name: fee, Length: 1000, dtype: category\n",
       "Categories (5, interval[int64, right]): [(1, 500] < (500, 1000] < (1000, 3000] < (3000, 4000] < (4000, 5000]]"
      ]
     },
     "execution_count": 2,
     "metadata": {},
     "output_type": "execute_result"
    }
   ],
   "source": [
    "pd.cut(fee_transactions_df.fee, \n",
    "       [1,500,1000,3000,4000,5000])"
   ]
  },
  {
   "cell_type": "code",
   "execution_count": 3,
   "metadata": {},
   "outputs": [
    {
     "data": {
      "text/plain": [
       "fee\n",
       "(1000, 3000]    401\n",
       "(4000, 5000]    194\n",
       "(3000, 4000]    193\n",
       "(1, 500]        106\n",
       "(500, 1000]     106\n",
       "Name: count, dtype: int64"
      ]
     },
     "execution_count": 3,
     "metadata": {},
     "output_type": "execute_result"
    }
   ],
   "source": [
    "pd.cut(fee_transactions_df.fee, \n",
    "       [1,500,1000,3000,4000,5000]).value_counts()"
   ]
  },
  {
   "cell_type": "code",
   "execution_count": 4,
   "metadata": {},
   "outputs": [
    {
     "data": {
      "text/plain": [
       "fee\n",
       "(1000, 3000]    40.1\n",
       "(4000, 5000]    19.4\n",
       "(3000, 4000]    19.3\n",
       "(1, 500]        10.6\n",
       "(500, 1000]     10.6\n",
       "Name: proportion, dtype: float64"
      ]
     },
     "execution_count": 4,
     "metadata": {},
     "output_type": "execute_result"
    }
   ],
   "source": [
    "pd.cut(fee_transactions_df.fee, \n",
    "       [1,500,1000,3000,4000,5000]).value_counts(normalize=True)*100"
   ]
  },
  {
   "cell_type": "code",
   "execution_count": 5,
   "metadata": {},
   "outputs": [
    {
     "data": {
      "text/plain": [
       "0      (1450.8990000000001, 2476.0]\n",
       "1                               NaN\n",
       "2      (1450.8990000000001, 2476.0]\n",
       "3      (1450.8990000000001, 2476.0]\n",
       "4      (1450.8990000000001, 2476.0]\n",
       "                   ...             \n",
       "995                (3479.6, 4530.2]\n",
       "996                             NaN\n",
       "997    (1450.8990000000001, 2476.0]\n",
       "998                (3479.6, 4530.2]\n",
       "999                             NaN\n",
       "Name: fee, Length: 1000, dtype: category\n",
       "Categories (4, interval[float64, right]): [(1450.8990000000001, 2476.0] < (2476.0, 3479.6] < (3479.6, 4530.2] < (4530.2, 4996.0]]"
      ]
     },
     "execution_count": 5,
     "metadata": {},
     "output_type": "execute_result"
    }
   ],
   "source": [
    "pd.qcut(fee_transactions_df.fee, [0.3,.5,.7,.9,1])"
   ]
  },
  {
   "cell_type": "code",
   "execution_count": 7,
   "metadata": {},
   "outputs": [
    {
     "data": {
      "text/plain": [
       "fee\n",
       "(3.999, 1450.9]     300\n",
       "(1450.9, 2476.0]    200\n",
       "(2476.0, 3479.6]    200\n",
       "(3479.6, 4530.2]    200\n",
       "(4530.2, 4996.0]    100\n",
       "Name: count, dtype: int64"
      ]
     },
     "execution_count": 7,
     "metadata": {},
     "output_type": "execute_result"
    }
   ],
   "source": [
    "pd.qcut(fee_transactions_df.fee, [0,0.3,.5,.7,.9,1]).value_counts()"
   ]
  },
  {
   "cell_type": "code",
   "execution_count": 8,
   "metadata": {},
   "outputs": [
    {
     "data": {
      "text/plain": [
       "fee\n",
       "(3.999, 1450.9]     30.0\n",
       "(1450.9, 2476.0]    20.0\n",
       "(2476.0, 3479.6]    20.0\n",
       "(3479.6, 4530.2]    20.0\n",
       "(4530.2, 4996.0]    10.0\n",
       "Name: proportion, dtype: float64"
      ]
     },
     "execution_count": 8,
     "metadata": {},
     "output_type": "execute_result"
    }
   ],
   "source": [
    "pd.qcut(fee_transactions_df.fee, [0,0.3,.5,.7,.9,1]).value_counts(normalize=True)*100"
   ]
  },
  {
   "cell_type": "code",
   "execution_count": 12,
   "metadata": {},
   "outputs": [
    {
     "data": {
      "text/html": [
       "<div>\n",
       "<style scoped>\n",
       "    .dataframe tbody tr th:only-of-type {\n",
       "        vertical-align: middle;\n",
       "    }\n",
       "\n",
       "    .dataframe tbody tr th {\n",
       "        vertical-align: top;\n",
       "    }\n",
       "\n",
       "    .dataframe thead th {\n",
       "        text-align: right;\n",
       "    }\n",
       "</style>\n",
       "<table border=\"1\" class=\"dataframe\">\n",
       "  <thead>\n",
       "    <tr style=\"text-align: right;\">\n",
       "      <th></th>\n",
       "      <th>roll no</th>\n",
       "      <th>name</th>\n",
       "      <th>subject</th>\n",
       "    </tr>\n",
       "  </thead>\n",
       "  <tbody>\n",
       "    <tr>\n",
       "      <th>0</th>\n",
       "      <td>7174</td>\n",
       "      <td>Student1</td>\n",
       "      <td>Math</td>\n",
       "    </tr>\n",
       "    <tr>\n",
       "      <th>1</th>\n",
       "      <td>1463</td>\n",
       "      <td>Student2</td>\n",
       "      <td>Science</td>\n",
       "    </tr>\n",
       "    <tr>\n",
       "      <th>2</th>\n",
       "      <td>2400</td>\n",
       "      <td>Student3</td>\n",
       "      <td>History</td>\n",
       "    </tr>\n",
       "    <tr>\n",
       "      <th>3</th>\n",
       "      <td>8468</td>\n",
       "      <td>Student4</td>\n",
       "      <td>Geography</td>\n",
       "    </tr>\n",
       "    <tr>\n",
       "      <th>4</th>\n",
       "      <td>7581</td>\n",
       "      <td>Student5</td>\n",
       "      <td>English</td>\n",
       "    </tr>\n",
       "  </tbody>\n",
       "</table>\n",
       "</div>"
      ],
      "text/plain": [
       "   roll no      name    subject\n",
       "0     7174  Student1       Math\n",
       "1     1463  Student2    Science\n",
       "2     2400  Student3    History\n",
       "3     8468  Student4  Geography\n",
       "4     7581  Student5    English"
      ]
     },
     "execution_count": 12,
     "metadata": {},
     "output_type": "execute_result"
    }
   ],
   "source": [
    "students_df.head()"
   ]
  },
  {
   "cell_type": "markdown",
   "metadata": {},
   "source": [
    "# filter on columns \n",
    "* & , | , ~\n",
    "syntax:\n",
    "'''\n",
    "dataframe[(data.frame.column1=='value1') & (dataframe.column2=='value2') ]\n",
    "'''\n",
    "\n",
    "* string columns\n",
    "* numeric columns\n",
    "* datatime columns"
   ]
  },
  {
   "cell_type": "code",
   "execution_count": 14,
   "metadata": {},
   "outputs": [
    {
     "data": {
      "text/html": [
       "<div>\n",
       "<style scoped>\n",
       "    .dataframe tbody tr th:only-of-type {\n",
       "        vertical-align: middle;\n",
       "    }\n",
       "\n",
       "    .dataframe tbody tr th {\n",
       "        vertical-align: top;\n",
       "    }\n",
       "\n",
       "    .dataframe thead th {\n",
       "        text-align: right;\n",
       "    }\n",
       "</style>\n",
       "<table border=\"1\" class=\"dataframe\">\n",
       "  <thead>\n",
       "    <tr style=\"text-align: right;\">\n",
       "      <th></th>\n",
       "      <th>roll no</th>\n",
       "      <th>name</th>\n",
       "      <th>subject</th>\n",
       "    </tr>\n",
       "  </thead>\n",
       "  <tbody>\n",
       "    <tr>\n",
       "      <th>0</th>\n",
       "      <td>7174</td>\n",
       "      <td>Student1</td>\n",
       "      <td>Math</td>\n",
       "    </tr>\n",
       "    <tr>\n",
       "      <th>1</th>\n",
       "      <td>1463</td>\n",
       "      <td>Student2</td>\n",
       "      <td>Science</td>\n",
       "    </tr>\n",
       "    <tr>\n",
       "      <th>2</th>\n",
       "      <td>2400</td>\n",
       "      <td>Student3</td>\n",
       "      <td>History</td>\n",
       "    </tr>\n",
       "    <tr>\n",
       "      <th>3</th>\n",
       "      <td>8468</td>\n",
       "      <td>Student4</td>\n",
       "      <td>Geography</td>\n",
       "    </tr>\n",
       "    <tr>\n",
       "      <th>4</th>\n",
       "      <td>7581</td>\n",
       "      <td>Student5</td>\n",
       "      <td>English</td>\n",
       "    </tr>\n",
       "    <tr>\n",
       "      <th>5</th>\n",
       "      <td>6326</td>\n",
       "      <td>Student6</td>\n",
       "      <td>Math</td>\n",
       "    </tr>\n",
       "    <tr>\n",
       "      <th>6</th>\n",
       "      <td>5313</td>\n",
       "      <td>Student7</td>\n",
       "      <td>Science</td>\n",
       "    </tr>\n",
       "    <tr>\n",
       "      <th>7</th>\n",
       "      <td>4349</td>\n",
       "      <td>Student8</td>\n",
       "      <td>History</td>\n",
       "    </tr>\n",
       "    <tr>\n",
       "      <th>8</th>\n",
       "      <td>9788</td>\n",
       "      <td>Student9</td>\n",
       "      <td>Geography</td>\n",
       "    </tr>\n",
       "    <tr>\n",
       "      <th>9</th>\n",
       "      <td>3308</td>\n",
       "      <td>Student10</td>\n",
       "      <td>English</td>\n",
       "    </tr>\n",
       "  </tbody>\n",
       "</table>\n",
       "</div>"
      ],
      "text/plain": [
       "   roll no       name    subject\n",
       "0     7174   Student1       Math\n",
       "1     1463   Student2    Science\n",
       "2     2400   Student3    History\n",
       "3     8468   Student4  Geography\n",
       "4     7581   Student5    English\n",
       "5     6326   Student6       Math\n",
       "6     5313   Student7    Science\n",
       "7     4349   Student8    History\n",
       "8     9788   Student9  Geography\n",
       "9     3308  Student10    English"
      ]
     },
     "execution_count": 14,
     "metadata": {},
     "output_type": "execute_result"
    }
   ],
   "source": [
    "students_df.head(10)"
   ]
  },
  {
   "cell_type": "code",
   "execution_count": 16,
   "metadata": {},
   "outputs": [
    {
     "data": {
      "text/plain": [
       "0     True\n",
       "1    False\n",
       "2    False\n",
       "3    False\n",
       "4    False\n",
       "5     True\n",
       "6    False\n",
       "7    False\n",
       "8    False\n",
       "9    False\n",
       "Name: subject, dtype: bool"
      ]
     },
     "execution_count": 16,
     "metadata": {},
     "output_type": "execute_result"
    }
   ],
   "source": [
    "students_df['subject']=='Math'"
   ]
  },
  {
   "cell_type": "code",
   "execution_count": 18,
   "metadata": {},
   "outputs": [
    {
     "data": {
      "text/html": [
       "<div>\n",
       "<style scoped>\n",
       "    .dataframe tbody tr th:only-of-type {\n",
       "        vertical-align: middle;\n",
       "    }\n",
       "\n",
       "    .dataframe tbody tr th {\n",
       "        vertical-align: top;\n",
       "    }\n",
       "\n",
       "    .dataframe thead th {\n",
       "        text-align: right;\n",
       "    }\n",
       "</style>\n",
       "<table border=\"1\" class=\"dataframe\">\n",
       "  <thead>\n",
       "    <tr style=\"text-align: right;\">\n",
       "      <th></th>\n",
       "      <th>roll no</th>\n",
       "      <th>name</th>\n",
       "      <th>subject</th>\n",
       "    </tr>\n",
       "  </thead>\n",
       "  <tbody>\n",
       "    <tr>\n",
       "      <th>0</th>\n",
       "      <td>7174</td>\n",
       "      <td>Student1</td>\n",
       "      <td>Math</td>\n",
       "    </tr>\n",
       "    <tr>\n",
       "      <th>5</th>\n",
       "      <td>6326</td>\n",
       "      <td>Student6</td>\n",
       "      <td>Math</td>\n",
       "    </tr>\n",
       "  </tbody>\n",
       "</table>\n",
       "</div>"
      ],
      "text/plain": [
       "   roll no      name subject\n",
       "0     7174  Student1    Math\n",
       "5     6326  Student6    Math"
      ]
     },
     "execution_count": 18,
     "metadata": {},
     "output_type": "execute_result"
    }
   ],
   "source": [
    "students_df[students_df['subject']=='Math']"
   ]
  }
 ],
 "metadata": {
  "kernelspec": {
   "display_name": "Python 3",
   "language": "python",
   "name": "python3"
  },
  "language_info": {
   "codemirror_mode": {
    "name": "ipython",
    "version": 3
   },
   "file_extension": ".py",
   "mimetype": "text/x-python",
   "name": "python",
   "nbconvert_exporter": "python",
   "pygments_lexer": "ipython3",
   "version": "3.12.2"
  }
 },
 "nbformat": 4,
 "nbformat_minor": 2
}
