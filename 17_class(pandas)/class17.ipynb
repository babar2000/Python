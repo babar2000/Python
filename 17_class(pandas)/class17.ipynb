{
 "cells": [
  {
   "cell_type": "code",
   "execution_count": 4,
   "metadata": {},
   "outputs": [],
   "source": [
    "import pandas as pd\n",
    "import pandera as pa"
   ]
  },
  {
   "cell_type": "markdown",
   "metadata": {},
   "source": [
    "# pandas core components\n",
    "* Series Types\n",
    "* DataFrames Types"
   ]
  },
  {
   "cell_type": "code",
   "execution_count": 10,
   "metadata": {},
   "outputs": [
    {
     "data": {
      "text/plain": [
       "[1, 2, 3, 4, 5, 6, 7, 8, 9]"
      ]
     },
     "execution_count": 10,
     "metadata": {},
     "output_type": "execute_result"
    }
   ],
   "source": [
    "l1 : list[int] = [1,2,3,4,5,6,7,8,9]\n",
    "l1"
   ]
  },
  {
   "cell_type": "code",
   "execution_count": 5,
   "metadata": {},
   "outputs": [
    {
     "data": {
      "text/plain": [
       "0    1\n",
       "1    2\n",
       "2    3\n",
       "3    4\n",
       "4    5\n",
       "dtype: int64"
      ]
     },
     "execution_count": 5,
     "metadata": {},
     "output_type": "execute_result"
    }
   ],
   "source": [
    "# we can use list for creating series\n",
    "\n",
    "s1 : pd.Series = pd.Series([1, 2, 3, 4, 5])\n",
    "s1"
   ]
  },
  {
   "cell_type": "code",
   "execution_count": 7,
   "metadata": {},
   "outputs": [
    {
     "ename": "TypeError",
     "evalue": "'set' type is unordered",
     "output_type": "error",
     "traceback": [
      "\u001b[1;31m---------------------------------------------------------------------------\u001b[0m",
      "\u001b[1;31mTypeError\u001b[0m                                 Traceback (most recent call last)",
      "Cell \u001b[1;32mIn[7], line 3\u001b[0m\n\u001b[0;32m      1\u001b[0m \u001b[38;5;66;03m# we cannot use set  for creating series\u001b[39;00m\n\u001b[1;32m----> 3\u001b[0m s1 : pd\u001b[38;5;241m.\u001b[39mSeries \u001b[38;5;241m=\u001b[39m \u001b[43mpd\u001b[49m\u001b[38;5;241;43m.\u001b[39;49m\u001b[43mSeries\u001b[49m\u001b[43m(\u001b[49m\u001b[43m{\u001b[49m\u001b[38;5;241;43m1\u001b[39;49m\u001b[43m,\u001b[49m\u001b[43m \u001b[49m\u001b[38;5;241;43m2\u001b[39;49m\u001b[43m,\u001b[49m\u001b[43m \u001b[49m\u001b[38;5;241;43m3\u001b[39;49m\u001b[43m,\u001b[49m\u001b[43m \u001b[49m\u001b[38;5;241;43m4\u001b[39;49m\u001b[43m,\u001b[49m\u001b[43m \u001b[49m\u001b[38;5;241;43m5\u001b[39;49m\u001b[43m}\u001b[49m\u001b[43m)\u001b[49m\n\u001b[0;32m      4\u001b[0m s1\n",
      "File \u001b[1;32mc:\\Users\\zain baber\\AppData\\Local\\Programs\\Python\\Python312\\Lib\\site-packages\\pandas\\core\\series.py:584\u001b[0m, in \u001b[0;36mSeries.__init__\u001b[1;34m(self, data, index, dtype, name, copy, fastpath)\u001b[0m\n\u001b[0;32m    582\u001b[0m         data \u001b[38;5;241m=\u001b[39m data\u001b[38;5;241m.\u001b[39mcopy()\n\u001b[0;32m    583\u001b[0m \u001b[38;5;28;01melse\u001b[39;00m:\n\u001b[1;32m--> 584\u001b[0m     data \u001b[38;5;241m=\u001b[39m \u001b[43msanitize_array\u001b[49m\u001b[43m(\u001b[49m\u001b[43mdata\u001b[49m\u001b[43m,\u001b[49m\u001b[43m \u001b[49m\u001b[43mindex\u001b[49m\u001b[43m,\u001b[49m\u001b[43m \u001b[49m\u001b[43mdtype\u001b[49m\u001b[43m,\u001b[49m\u001b[43m \u001b[49m\u001b[43mcopy\u001b[49m\u001b[43m)\u001b[49m\n\u001b[0;32m    586\u001b[0m     manager \u001b[38;5;241m=\u001b[39m _get_option(\u001b[38;5;124m\"\u001b[39m\u001b[38;5;124mmode.data_manager\u001b[39m\u001b[38;5;124m\"\u001b[39m, silent\u001b[38;5;241m=\u001b[39m\u001b[38;5;28;01mTrue\u001b[39;00m)\n\u001b[0;32m    587\u001b[0m     \u001b[38;5;28;01mif\u001b[39;00m manager \u001b[38;5;241m==\u001b[39m \u001b[38;5;124m\"\u001b[39m\u001b[38;5;124mblock\u001b[39m\u001b[38;5;124m\"\u001b[39m:\n",
      "File \u001b[1;32mc:\\Users\\zain baber\\AppData\\Local\\Programs\\Python\\Python312\\Lib\\site-packages\\pandas\\core\\construction.py:639\u001b[0m, in \u001b[0;36msanitize_array\u001b[1;34m(data, index, dtype, copy, allow_2d)\u001b[0m\n\u001b[0;32m    630\u001b[0m     \u001b[38;5;28;01mreturn\u001b[39;00m sanitize_array(\n\u001b[0;32m    631\u001b[0m         data,\n\u001b[0;32m    632\u001b[0m         index\u001b[38;5;241m=\u001b[39mindex,\n\u001b[1;32m   (...)\u001b[0m\n\u001b[0;32m    635\u001b[0m         allow_2d\u001b[38;5;241m=\u001b[39mallow_2d,\n\u001b[0;32m    636\u001b[0m     )\n\u001b[0;32m    638\u001b[0m \u001b[38;5;28;01melse\u001b[39;00m:\n\u001b[1;32m--> 639\u001b[0m     \u001b[43m_sanitize_non_ordered\u001b[49m\u001b[43m(\u001b[49m\u001b[43mdata\u001b[49m\u001b[43m)\u001b[49m\n\u001b[0;32m    640\u001b[0m     \u001b[38;5;66;03m# materialize e.g. generators, convert e.g. tuples, abc.ValueView\u001b[39;00m\n\u001b[0;32m    641\u001b[0m     data \u001b[38;5;241m=\u001b[39m \u001b[38;5;28mlist\u001b[39m(data)\n",
      "File \u001b[1;32mc:\\Users\\zain baber\\AppData\\Local\\Programs\\Python\\Python312\\Lib\\site-packages\\pandas\\core\\construction.py:690\u001b[0m, in \u001b[0;36m_sanitize_non_ordered\u001b[1;34m(data)\u001b[0m\n\u001b[0;32m    686\u001b[0m \u001b[38;5;250m\u001b[39m\u001b[38;5;124;03m\"\"\"\u001b[39;00m\n\u001b[0;32m    687\u001b[0m \u001b[38;5;124;03mRaise only for unordered sets, e.g., not for dict_keys\u001b[39;00m\n\u001b[0;32m    688\u001b[0m \u001b[38;5;124;03m\"\"\"\u001b[39;00m\n\u001b[0;32m    689\u001b[0m \u001b[38;5;28;01mif\u001b[39;00m \u001b[38;5;28misinstance\u001b[39m(data, (\u001b[38;5;28mset\u001b[39m, \u001b[38;5;28mfrozenset\u001b[39m)):\n\u001b[1;32m--> 690\u001b[0m     \u001b[38;5;28;01mraise\u001b[39;00m \u001b[38;5;167;01mTypeError\u001b[39;00m(\u001b[38;5;124mf\u001b[39m\u001b[38;5;124m\"\u001b[39m\u001b[38;5;124m'\u001b[39m\u001b[38;5;132;01m{\u001b[39;00m\u001b[38;5;28mtype\u001b[39m(data)\u001b[38;5;241m.\u001b[39m\u001b[38;5;18m__name__\u001b[39m\u001b[38;5;132;01m}\u001b[39;00m\u001b[38;5;124m'\u001b[39m\u001b[38;5;124m type is unordered\u001b[39m\u001b[38;5;124m\"\u001b[39m)\n",
      "\u001b[1;31mTypeError\u001b[0m: 'set' type is unordered"
     ]
    }
   ],
   "source": [
    "# we cannot use set  for creating series\n",
    "\n",
    "s1 : pd.Series = pd.Series({1, 2, 3, 4, 5})\n",
    "s1"
   ]
  },
  {
   "cell_type": "code",
   "execution_count": 9,
   "metadata": {},
   "outputs": [
    {
     "data": {
      "text/plain": [
       "0    1\n",
       "1    2\n",
       "2    3\n",
       "3    4\n",
       "4    5\n",
       "dtype: int64"
      ]
     },
     "execution_count": 9,
     "metadata": {},
     "output_type": "execute_result"
    }
   ],
   "source": [
    "# we can use set  for creating series\n",
    "\n",
    "s1 : pd.Series = pd.Series((1, 2, 3, 4, 5))\n",
    "s1"
   ]
  },
  {
   "cell_type": "code",
   "execution_count": 11,
   "metadata": {},
   "outputs": [
    {
     "data": {
      "text/plain": [
       "a     10\n",
       "b     20\n",
       "c     30\n",
       "d     40\n",
       "e     50\n",
       "f     60\n",
       "g     70\n",
       "h     80\n",
       "i     90\n",
       "j    100\n",
       "dtype: int64"
      ]
     },
     "execution_count": 11,
     "metadata": {},
     "output_type": "execute_result"
    }
   ],
   "source": [
    "# we can use Dict for creating series\n",
    "\n",
    "s1 : pd.Series = pd.Series({\"a\":10,\n",
    "                            \"b\":20,\n",
    "                            \"c\":30,\n",
    "                            \"d\":40,\n",
    "                            \"e\":50,\n",
    "                            \"f\":60,\n",
    "                            \"g\":70,\n",
    "                            \"h\":80,\n",
    "                            \"i\":90,\n",
    "                            \"j\":100,})\n",
    "s1"
   ]
  },
  {
   "cell_type": "code",
   "execution_count": 12,
   "metadata": {},
   "outputs": [
    {
     "data": {
      "text/plain": [
       "a    1\n",
       "b    2\n",
       "c    3\n",
       "d    4\n",
       "e    5\n",
       "dtype: int64"
      ]
     },
     "execution_count": 12,
     "metadata": {},
     "output_type": "execute_result"
    }
   ],
   "source": [
    "values : list[int] = [1, 2, 3, 4, 5]\n",
    "index1 : list[str] = ['a','b','c','d','e']\n",
    "\n",
    "s1 : pd.Series = pd.Series(values, index=index1)\n",
    "s1"
   ]
  },
  {
   "cell_type": "code",
   "execution_count": 13,
   "metadata": {},
   "outputs": [
    {
     "data": {
      "text/plain": [
       "a1  a    1\n",
       "    b    2\n",
       "    c    3\n",
       "b1  d    4\n",
       "    e    5\n",
       "dtype: int64"
      ]
     },
     "execution_count": 13,
     "metadata": {},
     "output_type": "execute_result"
    }
   ],
   "source": [
    "values : list[int] = [1, 2, 3, 4, 5]\n",
    "index1 : list[list[str]] = [['a1','a1','a1','b1','b1'],\n",
    "                            ['a','b','c','d','e']]\n",
    "\n",
    "s1 : pd.Series = pd.Series(values, index=index1)\n",
    "s1"
   ]
  },
  {
   "cell_type": "code",
   "execution_count": 14,
   "metadata": {},
   "outputs": [
    {
     "data": {
      "text/plain": [
       "a1  a    1\n",
       "    b    2\n",
       "    c    3\n",
       "b1  d    4\n",
       "    e    5\n",
       "Name: Student_Data, dtype: int64"
      ]
     },
     "execution_count": 14,
     "metadata": {},
     "output_type": "execute_result"
    }
   ],
   "source": [
    "values : list[int] = [1, 2, 3, 4, 5]\n",
    "index1 : list[list[str]] = [['a1','a1','a1','b1','b1'],\n",
    "                            ['a','b','c','d','e']]\n",
    "\n",
    "s1 : pd.Series = pd.Series(values, index=index1,name=\"Student_Data\")\n",
    "s1"
   ]
  },
  {
   "cell_type": "code",
   "execution_count": 17,
   "metadata": {},
   "outputs": [
    {
     "ename": "AttributeError",
     "evalue": "module 'numpy' has no attribute 'Int32'",
     "output_type": "error",
     "traceback": [
      "\u001b[1;31m---------------------------------------------------------------------------\u001b[0m",
      "\u001b[1;31mAttributeError\u001b[0m                            Traceback (most recent call last)",
      "Cell \u001b[1;32mIn[17], line 9\u001b[0m\n\u001b[0;32m      2\u001b[0m values : \u001b[38;5;28mlist\u001b[39m[\u001b[38;5;28mint\u001b[39m] \u001b[38;5;241m=\u001b[39m [\u001b[38;5;241m1\u001b[39m, \u001b[38;5;241m2\u001b[39m, \u001b[38;5;241m3\u001b[39m, \u001b[38;5;241m4\u001b[39m, \u001b[38;5;241m5\u001b[39m]\n\u001b[0;32m      3\u001b[0m index1 : \u001b[38;5;28mlist\u001b[39m[\u001b[38;5;28mlist\u001b[39m[\u001b[38;5;28mstr\u001b[39m]] \u001b[38;5;241m=\u001b[39m [[\u001b[38;5;124m'\u001b[39m\u001b[38;5;124ma1\u001b[39m\u001b[38;5;124m'\u001b[39m,\u001b[38;5;124m'\u001b[39m\u001b[38;5;124ma1\u001b[39m\u001b[38;5;124m'\u001b[39m,\u001b[38;5;124m'\u001b[39m\u001b[38;5;124ma1\u001b[39m\u001b[38;5;124m'\u001b[39m,\u001b[38;5;124m'\u001b[39m\u001b[38;5;124mb1\u001b[39m\u001b[38;5;124m'\u001b[39m,\u001b[38;5;124m'\u001b[39m\u001b[38;5;124mb1\u001b[39m\u001b[38;5;124m'\u001b[39m],\n\u001b[0;32m      4\u001b[0m                             [\u001b[38;5;124m'\u001b[39m\u001b[38;5;124ma\u001b[39m\u001b[38;5;124m'\u001b[39m,\u001b[38;5;124m'\u001b[39m\u001b[38;5;124mb\u001b[39m\u001b[38;5;124m'\u001b[39m,\u001b[38;5;124m'\u001b[39m\u001b[38;5;124mc\u001b[39m\u001b[38;5;124m'\u001b[39m,\u001b[38;5;124m'\u001b[39m\u001b[38;5;124md\u001b[39m\u001b[38;5;124m'\u001b[39m,\u001b[38;5;124m'\u001b[39m\u001b[38;5;124me\u001b[39m\u001b[38;5;124m'\u001b[39m]]\n\u001b[0;32m      6\u001b[0m s1 : pd\u001b[38;5;241m.\u001b[39mSeries \u001b[38;5;241m=\u001b[39m pd\u001b[38;5;241m.\u001b[39mSeries(values,\n\u001b[0;32m      7\u001b[0m                            index\u001b[38;5;241m=\u001b[39mindex1,\n\u001b[0;32m      8\u001b[0m                            name\u001b[38;5;241m=\u001b[39m\u001b[38;5;124m\"\u001b[39m\u001b[38;5;124mStudent_Data\u001b[39m\u001b[38;5;124m\"\u001b[39m,\n\u001b[1;32m----> 9\u001b[0m                            dtype\u001b[38;5;241m=\u001b[39m\u001b[43mnp\u001b[49m\u001b[38;5;241;43m.\u001b[39;49m\u001b[43mInt32\u001b[49m)\n\u001b[0;32m     10\u001b[0m s1\n",
      "File \u001b[1;32mc:\\Users\\zain baber\\AppData\\Local\\Programs\\Python\\Python312\\Lib\\site-packages\\numpy\\__init__.py:347\u001b[0m, in \u001b[0;36m__getattr__\u001b[1;34m(attr)\u001b[0m\n\u001b[0;32m    344\u001b[0m     \u001b[38;5;124m\"\u001b[39m\u001b[38;5;124mRemoved in NumPy 1.25.0\u001b[39m\u001b[38;5;124m\"\u001b[39m\n\u001b[0;32m    345\u001b[0m     \u001b[38;5;28;01mraise\u001b[39;00m \u001b[38;5;167;01mRuntimeError\u001b[39;00m(\u001b[38;5;124m\"\u001b[39m\u001b[38;5;124mTester was removed in NumPy 1.25.\u001b[39m\u001b[38;5;124m\"\u001b[39m)\n\u001b[1;32m--> 347\u001b[0m \u001b[38;5;28;01mraise\u001b[39;00m \u001b[38;5;167;01mAttributeError\u001b[39;00m(\u001b[38;5;124m\"\u001b[39m\u001b[38;5;124mmodule \u001b[39m\u001b[38;5;132;01m{!r}\u001b[39;00m\u001b[38;5;124m has no attribute \u001b[39m\u001b[38;5;124m\"\u001b[39m\n\u001b[0;32m    348\u001b[0m                      \u001b[38;5;124m\"\u001b[39m\u001b[38;5;132;01m{!r}\u001b[39;00m\u001b[38;5;124m\"\u001b[39m\u001b[38;5;241m.\u001b[39mformat(\u001b[38;5;18m__name__\u001b[39m, attr))\n",
      "\u001b[1;31mAttributeError\u001b[0m: module 'numpy' has no attribute 'Int32'"
     ]
    }
   ],
   "source": [
    "import numpy as np\n",
    "values : list[int] = [1, 2, 3, 4, 5]\n",
    "\n",
    "index1 : list[list[str]] = [['a1','a1','a1','b1','b1'],\n",
    "                            ['a','b','c','d','e']]\n",
    "\n",
    "s1 : pd.Series = pd.Series(values,\n",
    "                           index=index1,\n",
    "                           name=\"Student_Data\",\n",
    "                           dtype=np.Int32)\n",
    "s1"
   ]
  },
  {
   "cell_type": "code",
   "execution_count": 18,
   "metadata": {},
   "outputs": [
    {
     "name": "stdout",
     "output_type": "stream",
     "text": [
      "   column1  column2  column3\n",
      "0        1     -1.3  value_1\n",
      "1        4     -1.4  value_2\n",
      "2        0     -2.9  value_3\n",
      "3       10    -10.1  value_2\n",
      "4        9    -20.4  value_1\n"
     ]
    }
   ],
   "source": [
    "import pandas as pd\n",
    "import pandera as pa\n",
    "\n",
    "# data to validate\n",
    "df = pd.DataFrame({\n",
    "    \"column1\": [1, 4, 0, 10, 9],\n",
    "    \"column2\": [-1.3, -1.4, -2.9, -10.1, -20.4],\n",
    "    \"column3\": [\"value_1\", \"value_2\", \"value_3\", \"value_2\", \"value_1\"],\n",
    "})\n",
    "\n",
    "# define schema\n",
    "schema = pa.DataFrameSchema({\n",
    "    \"column1\": pa.Column(int, checks=pa.Check.le(10)),\n",
    "    \"column2\": pa.Column(float, checks=pa.Check.lt(-1.2)),\n",
    "    \"column3\": pa.Column(str, checks=[\n",
    "        pa.Check.str_startswith(\"value_\"),\n",
    "        # define custom checks as functions that take a series as input and\n",
    "        # outputs a boolean or boolean Series\n",
    "        pa.Check(lambda s: s.str.split(\"_\", expand=True).shape[1] == 2)\n",
    "    ]),\n",
    "})\n",
    "\n",
    "validated_df = schema(df)\n",
    "print(validated_df)"
   ]
  },
  {
   "cell_type": "markdown",
   "metadata": {},
   "source": [
    "# Dataframe"
   ]
  },
  {
   "cell_type": "code",
   "execution_count": 20,
   "metadata": {},
   "outputs": [
    {
     "data": {
      "text/html": [
       "<div>\n",
       "<style scoped>\n",
       "    .dataframe tbody tr th:only-of-type {\n",
       "        vertical-align: middle;\n",
       "    }\n",
       "\n",
       "    .dataframe tbody tr th {\n",
       "        vertical-align: top;\n",
       "    }\n",
       "\n",
       "    .dataframe thead th {\n",
       "        text-align: right;\n",
       "    }\n",
       "</style>\n",
       "<table border=\"1\" class=\"dataframe\">\n",
       "  <thead>\n",
       "    <tr style=\"text-align: right;\">\n",
       "      <th></th>\n",
       "      <th>student id</th>\n",
       "      <th>score</th>\n",
       "      <th>student name</th>\n",
       "    </tr>\n",
       "  </thead>\n",
       "  <tbody>\n",
       "    <tr>\n",
       "      <th>0</th>\n",
       "      <td>1</td>\n",
       "      <td>10</td>\n",
       "      <td>Hamza</td>\n",
       "    </tr>\n",
       "    <tr>\n",
       "      <th>1</th>\n",
       "      <td>2</td>\n",
       "      <td>20</td>\n",
       "      <td>Ali</td>\n",
       "    </tr>\n",
       "    <tr>\n",
       "      <th>2</th>\n",
       "      <td>3</td>\n",
       "      <td>30</td>\n",
       "      <td>Junaid</td>\n",
       "    </tr>\n",
       "    <tr>\n",
       "      <th>3</th>\n",
       "      <td>4</td>\n",
       "      <td>40</td>\n",
       "      <td>Rashid</td>\n",
       "    </tr>\n",
       "    <tr>\n",
       "      <th>4</th>\n",
       "      <td>5</td>\n",
       "      <td>50</td>\n",
       "      <td>Konain</td>\n",
       "    </tr>\n",
       "  </tbody>\n",
       "</table>\n",
       "</div>"
      ],
      "text/plain": [
       "   student id  score student name\n",
       "0           1     10        Hamza\n",
       "1           2     20          Ali\n",
       "2           3     30       Junaid\n",
       "3           4     40       Rashid\n",
       "4           5     50       Konain"
      ]
     },
     "execution_count": 20,
     "metadata": {},
     "output_type": "execute_result"
    }
   ],
   "source": [
    "s1 : pd.Series = pd.Series([1,2,3,4,5],name=\"student id\")\n",
    "s2 : pd.Series = pd.Series([10,20,30,40,50],name=\"score\")\n",
    "s3 : pd.Series = pd.Series([\"Hamza\",\"Ali\",\"Junaid\",\"Rashid\",\"Konain\"],name=\"student name\")\n",
    "\n",
    "df1 : pd.DataFrame = pd.DataFrame({\"student id\":s1,\"score\":s2,\"student name\":s3})\n",
    "df1"
   ]
  },
  {
   "cell_type": "code",
   "execution_count": 4,
   "metadata": {},
   "outputs": [
    {
     "data": {
      "text/html": [
       "<div>\n",
       "<style scoped>\n",
       "    .dataframe tbody tr th:only-of-type {\n",
       "        vertical-align: middle;\n",
       "    }\n",
       "\n",
       "    .dataframe tbody tr th {\n",
       "        vertical-align: top;\n",
       "    }\n",
       "\n",
       "    .dataframe thead th {\n",
       "        text-align: right;\n",
       "    }\n",
       "</style>\n",
       "<table border=\"1\" class=\"dataframe\">\n",
       "  <thead>\n",
       "    <tr style=\"text-align: right;\">\n",
       "      <th></th>\n",
       "      <th>student id</th>\n",
       "      <th>score</th>\n",
       "      <th>student name</th>\n",
       "    </tr>\n",
       "  </thead>\n",
       "  <tbody>\n",
       "    <tr>\n",
       "      <th>0</th>\n",
       "      <td>1</td>\n",
       "      <td>10</td>\n",
       "      <td>Hamza</td>\n",
       "    </tr>\n",
       "    <tr>\n",
       "      <th>1</th>\n",
       "      <td>2</td>\n",
       "      <td>20</td>\n",
       "      <td>Ali</td>\n",
       "    </tr>\n",
       "    <tr>\n",
       "      <th>2</th>\n",
       "      <td>3</td>\n",
       "      <td>30</td>\n",
       "      <td>Junaid</td>\n",
       "    </tr>\n",
       "    <tr>\n",
       "      <th>3</th>\n",
       "      <td>4</td>\n",
       "      <td>40</td>\n",
       "      <td>Rashid</td>\n",
       "    </tr>\n",
       "    <tr>\n",
       "      <th>4</th>\n",
       "      <td>5</td>\n",
       "      <td>50</td>\n",
       "      <td>Konain</td>\n",
       "    </tr>\n",
       "  </tbody>\n",
       "</table>\n",
       "</div>"
      ],
      "text/plain": [
       "   student id  score student name\n",
       "0           1     10        Hamza\n",
       "1           2     20          Ali\n",
       "2           3     30       Junaid\n",
       "3           4     40       Rashid\n",
       "4           5     50       Konain"
      ]
     },
     "execution_count": 4,
     "metadata": {},
     "output_type": "execute_result"
    }
   ],
   "source": [
    "s1 : pd.Series = pd.Series([1,2,3,4,5],name=\"student id\")\n",
    "s2 : pd.Series = pd.Series([10,20,30,40,50],name=\"score\")\n",
    "s3 : pd.Series = pd.Series([\"Hamza\",\"Ali\",\"Junaid\",\"Rashid\",\"Konain\"],name=\"student name\")\n",
    "\n",
    "df1 : pd.DataFrame = pd.concat([s1,s2,s3],axis=1)\n",
    "df1"
   ]
  },
  {
   "cell_type": "code",
   "execution_count": 5,
   "metadata": {},
   "outputs": [
    {
     "data": {
      "text/html": [
       "<div>\n",
       "<style scoped>\n",
       "    .dataframe tbody tr th:only-of-type {\n",
       "        vertical-align: middle;\n",
       "    }\n",
       "\n",
       "    .dataframe tbody tr th {\n",
       "        vertical-align: top;\n",
       "    }\n",
       "\n",
       "    .dataframe thead th {\n",
       "        text-align: right;\n",
       "    }\n",
       "</style>\n",
       "<table border=\"1\" class=\"dataframe\">\n",
       "  <thead>\n",
       "    <tr style=\"text-align: right;\">\n",
       "      <th></th>\n",
       "      <th>0</th>\n",
       "      <th>1</th>\n",
       "      <th>2</th>\n",
       "    </tr>\n",
       "  </thead>\n",
       "  <tbody>\n",
       "    <tr>\n",
       "      <th>0</th>\n",
       "      <td>1</td>\n",
       "      <td>2</td>\n",
       "      <td>3</td>\n",
       "    </tr>\n",
       "    <tr>\n",
       "      <th>1</th>\n",
       "      <td>4</td>\n",
       "      <td>5</td>\n",
       "      <td>6</td>\n",
       "    </tr>\n",
       "    <tr>\n",
       "      <th>2</th>\n",
       "      <td>7</td>\n",
       "      <td>8</td>\n",
       "      <td>9</td>\n",
       "    </tr>\n",
       "  </tbody>\n",
       "</table>\n",
       "</div>"
      ],
      "text/plain": [
       "   0  1  2\n",
       "0  1  2  3\n",
       "1  4  5  6\n",
       "2  7  8  9"
      ]
     },
     "execution_count": 5,
     "metadata": {},
     "output_type": "execute_result"
    }
   ],
   "source": [
    "\n",
    "data : list[list[int]] = [[1,2,3],\n",
    "                          [4,5,6],\n",
    "                          [7,8,9]]\n",
    "df : pd.DataFrame = pd.DataFrame(data)\n",
    "df"
   ]
  },
  {
   "cell_type": "code",
   "execution_count": 7,
   "metadata": {},
   "outputs": [
    {
     "data": {
      "text/html": [
       "<div>\n",
       "<style scoped>\n",
       "    .dataframe tbody tr th:only-of-type {\n",
       "        vertical-align: middle;\n",
       "    }\n",
       "\n",
       "    .dataframe tbody tr th {\n",
       "        vertical-align: top;\n",
       "    }\n",
       "\n",
       "    .dataframe thead th {\n",
       "        text-align: right;\n",
       "    }\n",
       "</style>\n",
       "<table border=\"1\" class=\"dataframe\">\n",
       "  <thead>\n",
       "    <tr style=\"text-align: right;\">\n",
       "      <th></th>\n",
       "      <th>A</th>\n",
       "      <th>B</th>\n",
       "      <th>C</th>\n",
       "    </tr>\n",
       "  </thead>\n",
       "  <tbody>\n",
       "    <tr>\n",
       "      <th>x</th>\n",
       "      <td>1</td>\n",
       "      <td>2</td>\n",
       "      <td>3</td>\n",
       "    </tr>\n",
       "    <tr>\n",
       "      <th>y</th>\n",
       "      <td>4</td>\n",
       "      <td>5</td>\n",
       "      <td>6</td>\n",
       "    </tr>\n",
       "    <tr>\n",
       "      <th>z</th>\n",
       "      <td>7</td>\n",
       "      <td>8</td>\n",
       "      <td>9</td>\n",
       "    </tr>\n",
       "  </tbody>\n",
       "</table>\n",
       "</div>"
      ],
      "text/plain": [
       "   A  B  C\n",
       "x  1  2  3\n",
       "y  4  5  6\n",
       "z  7  8  9"
      ]
     },
     "execution_count": 7,
     "metadata": {},
     "output_type": "execute_result"
    }
   ],
   "source": [
    "\n",
    "data : list[list[int]] = [[1,2,3],\n",
    "                          [4,5,6],\n",
    "                          [7,8,9]]\n",
    "df : pd.DataFrame = pd.DataFrame(data, columns=[\"A\",\"B\",\"C\"], index=[\"x\",\"y\",\"z\"])\n",
    "df"
   ]
  },
  {
   "cell_type": "code",
   "execution_count": 8,
   "metadata": {},
   "outputs": [
    {
     "data": {
      "text/plain": [
       "Index(['A', 'B', 'C'], dtype='object')"
      ]
     },
     "execution_count": 8,
     "metadata": {},
     "output_type": "execute_result"
    }
   ],
   "source": [
    "df.columns"
   ]
  },
  {
   "cell_type": "code",
   "execution_count": 9,
   "metadata": {},
   "outputs": [
    {
     "data": {
      "text/plain": [
       "Index(['x', 'y', 'z'], dtype='object')"
      ]
     },
     "execution_count": 9,
     "metadata": {},
     "output_type": "execute_result"
    }
   ],
   "source": [
    "df.index"
   ]
  },
  {
   "cell_type": "code",
   "execution_count": 10,
   "metadata": {},
   "outputs": [
    {
     "data": {
      "text/plain": [
       "array([[1, 2, 3],\n",
       "       [4, 5, 6],\n",
       "       [7, 8, 9]], dtype=int64)"
      ]
     },
     "execution_count": 10,
     "metadata": {},
     "output_type": "execute_result"
    }
   ],
   "source": [
    "df.values"
   ]
  },
  {
   "cell_type": "code",
   "execution_count": 20,
   "metadata": {},
   "outputs": [
    {
     "data": {
      "text/plain": [
       "array([[ 0,  1,  2,  3,  4,  5,  6,  7,  8,  9],\n",
       "       [10, 11, 12, 13, 14, 15, 16, 17, 18, 19],\n",
       "       [20, 21, 22, 23, 24, 25, 26, 27, 28, 29],\n",
       "       [30, 31, 32, 33, 34, 35, 36, 37, 38, 39],\n",
       "       [40, 41, 42, 43, 44, 45, 46, 47, 48, 49],\n",
       "       [50, 51, 52, 53, 54, 55, 56, 57, 58, 59],\n",
       "       [60, 61, 62, 63, 64, 65, 66, 67, 68, 69],\n",
       "       [70, 71, 72, 73, 74, 75, 76, 77, 78, 79],\n",
       "       [80, 81, 82, 83, 84, 85, 86, 87, 88, 89],\n",
       "       [90, 91, 92, 93, 94, 95, 96, 97, 98, 99]])"
      ]
     },
     "execution_count": 20,
     "metadata": {},
     "output_type": "execute_result"
    }
   ],
   "source": [
    "from nptyping import NDArray, Shape, UInt32\n",
    "\n",
    "data : NDArray[Shape[\"10,10\"],UInt32] = np.arange(10*10).reshape(10,10)\n",
    "data"
   ]
  },
  {
   "cell_type": "code",
   "execution_count": 24,
   "metadata": {},
   "outputs": [
    {
     "data": {
      "text/html": [
       "<div>\n",
       "<style scoped>\n",
       "    .dataframe tbody tr th:only-of-type {\n",
       "        vertical-align: middle;\n",
       "    }\n",
       "\n",
       "    .dataframe tbody tr th {\n",
       "        vertical-align: top;\n",
       "    }\n",
       "\n",
       "    .dataframe thead th {\n",
       "        text-align: right;\n",
       "    }\n",
       "</style>\n",
       "<table border=\"1\" class=\"dataframe\">\n",
       "  <thead>\n",
       "    <tr style=\"text-align: right;\">\n",
       "      <th></th>\n",
       "      <th>A</th>\n",
       "      <th>B</th>\n",
       "      <th>C</th>\n",
       "      <th>D</th>\n",
       "      <th>E</th>\n",
       "      <th>F</th>\n",
       "      <th>G</th>\n",
       "      <th>H</th>\n",
       "      <th>I</th>\n",
       "      <th>J</th>\n",
       "    </tr>\n",
       "  </thead>\n",
       "  <tbody>\n",
       "    <tr>\n",
       "      <th>0</th>\n",
       "      <td>0</td>\n",
       "      <td>1</td>\n",
       "      <td>2</td>\n",
       "      <td>3</td>\n",
       "      <td>4</td>\n",
       "      <td>5</td>\n",
       "      <td>6</td>\n",
       "      <td>7</td>\n",
       "      <td>8</td>\n",
       "      <td>9</td>\n",
       "    </tr>\n",
       "    <tr>\n",
       "      <th>1</th>\n",
       "      <td>10</td>\n",
       "      <td>11</td>\n",
       "      <td>12</td>\n",
       "      <td>13</td>\n",
       "      <td>14</td>\n",
       "      <td>15</td>\n",
       "      <td>16</td>\n",
       "      <td>17</td>\n",
       "      <td>18</td>\n",
       "      <td>19</td>\n",
       "    </tr>\n",
       "    <tr>\n",
       "      <th>2</th>\n",
       "      <td>20</td>\n",
       "      <td>21</td>\n",
       "      <td>22</td>\n",
       "      <td>23</td>\n",
       "      <td>24</td>\n",
       "      <td>25</td>\n",
       "      <td>26</td>\n",
       "      <td>27</td>\n",
       "      <td>28</td>\n",
       "      <td>29</td>\n",
       "    </tr>\n",
       "    <tr>\n",
       "      <th>3</th>\n",
       "      <td>30</td>\n",
       "      <td>31</td>\n",
       "      <td>32</td>\n",
       "      <td>33</td>\n",
       "      <td>34</td>\n",
       "      <td>35</td>\n",
       "      <td>36</td>\n",
       "      <td>37</td>\n",
       "      <td>38</td>\n",
       "      <td>39</td>\n",
       "    </tr>\n",
       "    <tr>\n",
       "      <th>4</th>\n",
       "      <td>40</td>\n",
       "      <td>41</td>\n",
       "      <td>42</td>\n",
       "      <td>43</td>\n",
       "      <td>44</td>\n",
       "      <td>45</td>\n",
       "      <td>46</td>\n",
       "      <td>47</td>\n",
       "      <td>48</td>\n",
       "      <td>49</td>\n",
       "    </tr>\n",
       "    <tr>\n",
       "      <th>5</th>\n",
       "      <td>50</td>\n",
       "      <td>51</td>\n",
       "      <td>52</td>\n",
       "      <td>53</td>\n",
       "      <td>54</td>\n",
       "      <td>55</td>\n",
       "      <td>56</td>\n",
       "      <td>57</td>\n",
       "      <td>58</td>\n",
       "      <td>59</td>\n",
       "    </tr>\n",
       "    <tr>\n",
       "      <th>6</th>\n",
       "      <td>60</td>\n",
       "      <td>61</td>\n",
       "      <td>62</td>\n",
       "      <td>63</td>\n",
       "      <td>64</td>\n",
       "      <td>65</td>\n",
       "      <td>66</td>\n",
       "      <td>67</td>\n",
       "      <td>68</td>\n",
       "      <td>69</td>\n",
       "    </tr>\n",
       "    <tr>\n",
       "      <th>7</th>\n",
       "      <td>70</td>\n",
       "      <td>71</td>\n",
       "      <td>72</td>\n",
       "      <td>73</td>\n",
       "      <td>74</td>\n",
       "      <td>75</td>\n",
       "      <td>76</td>\n",
       "      <td>77</td>\n",
       "      <td>78</td>\n",
       "      <td>79</td>\n",
       "    </tr>\n",
       "    <tr>\n",
       "      <th>8</th>\n",
       "      <td>80</td>\n",
       "      <td>81</td>\n",
       "      <td>82</td>\n",
       "      <td>83</td>\n",
       "      <td>84</td>\n",
       "      <td>85</td>\n",
       "      <td>86</td>\n",
       "      <td>87</td>\n",
       "      <td>88</td>\n",
       "      <td>89</td>\n",
       "    </tr>\n",
       "    <tr>\n",
       "      <th>9</th>\n",
       "      <td>90</td>\n",
       "      <td>91</td>\n",
       "      <td>92</td>\n",
       "      <td>93</td>\n",
       "      <td>94</td>\n",
       "      <td>95</td>\n",
       "      <td>96</td>\n",
       "      <td>97</td>\n",
       "      <td>98</td>\n",
       "      <td>99</td>\n",
       "    </tr>\n",
       "  </tbody>\n",
       "</table>\n",
       "</div>"
      ],
      "text/plain": [
       "    A   B   C   D   E   F   G   H   I   J\n",
       "0   0   1   2   3   4   5   6   7   8   9\n",
       "1  10  11  12  13  14  15  16  17  18  19\n",
       "2  20  21  22  23  24  25  26  27  28  29\n",
       "3  30  31  32  33  34  35  36  37  38  39\n",
       "4  40  41  42  43  44  45  46  47  48  49\n",
       "5  50  51  52  53  54  55  56  57  58  59\n",
       "6  60  61  62  63  64  65  66  67  68  69\n",
       "7  70  71  72  73  74  75  76  77  78  79\n",
       "8  80  81  82  83  84  85  86  87  88  89\n",
       "9  90  91  92  93  94  95  96  97  98  99"
      ]
     },
     "execution_count": 24,
     "metadata": {},
     "output_type": "execute_result"
    }
   ],
   "source": [
    "from nptyping import NDArray, Shape, UInt32\n",
    "\n",
    "data : NDArray[Shape[\"10,10\"],UInt32] = np.arange(10*10).reshape(10,10)\n",
    "df : pd.DataFrame = pd.DataFrame(data,columns=list(\"ABCDEFGHIJ\"))\n",
    "df"
   ]
  },
  {
   "cell_type": "code",
   "execution_count": 26,
   "metadata": {},
   "outputs": [
    {
     "name": "stdout",
     "output_type": "stream",
     "text": [
      "Collecting lxml\n",
      "  Downloading lxml-5.1.0-cp312-cp312-win_amd64.whl.metadata (3.6 kB)\n",
      "Downloading lxml-5.1.0-cp312-cp312-win_amd64.whl (3.9 MB)\n",
      "   ---------------------------------------- 0.0/3.9 MB ? eta -:--:--\n",
      "   ---------------------------------------- 0.0/3.9 MB ? eta -:--:--\n",
      "   ---------------------------------------- 0.0/3.9 MB ? eta -:--:--\n",
      "   ---------------------------------------- 0.0/3.9 MB 330.3 kB/s eta 0:00:12\n",
      "    --------------------------------------- 0.1/3.9 MB 409.6 kB/s eta 0:00:10\n",
      "    --------------------------------------- 0.1/3.9 MB 438.1 kB/s eta 0:00:09\n",
      "    --------------------------------------- 0.1/3.9 MB 438.1 kB/s eta 0:00:09\n",
      "   - -------------------------------------- 0.1/3.9 MB 450.6 kB/s eta 0:00:09\n",
      "   - -------------------------------------- 0.1/3.9 MB 405.9 kB/s eta 0:00:10\n",
      "   - -------------------------------------- 0.1/3.9 MB 405.9 kB/s eta 0:00:10\n",
      "   - -------------------------------------- 0.2/3.9 MB 393.8 kB/s eta 0:00:10\n",
      "   - -------------------------------------- 0.2/3.9 MB 393.8 kB/s eta 0:00:10\n",
      "   - -------------------------------------- 0.2/3.9 MB 393.8 kB/s eta 0:00:10\n",
      "   - -------------------------------------- 0.2/3.9 MB 393.8 kB/s eta 0:00:10\n",
      "   - -------------------------------------- 0.2/3.9 MB 393.8 kB/s eta 0:00:10\n",
      "   - -------------------------------------- 0.2/3.9 MB 256.0 kB/s eta 0:00:15\n",
      "   -- ------------------------------------- 0.2/3.9 MB 305.9 kB/s eta 0:00:13\n",
      "   -- ------------------------------------- 0.2/3.9 MB 305.9 kB/s eta 0:00:13\n",
      "   -- ------------------------------------- 0.3/3.9 MB 354.0 kB/s eta 0:00:11\n",
      "   --- ------------------------------------ 0.3/3.9 MB 376.1 kB/s eta 0:00:10\n",
      "   --- ------------------------------------ 0.3/3.9 MB 376.1 kB/s eta 0:00:10\n",
      "   --- ------------------------------------ 0.4/3.9 MB 377.6 kB/s eta 0:00:10\n",
      "   --- ------------------------------------ 0.4/3.9 MB 369.9 kB/s eta 0:00:10\n",
      "   --- ------------------------------------ 0.4/3.9 MB 378.9 kB/s eta 0:00:10\n",
      "   ---- ----------------------------------- 0.4/3.9 MB 381.4 kB/s eta 0:00:10\n",
      "   ---- ----------------------------------- 0.4/3.9 MB 387.8 kB/s eta 0:00:09\n",
      "   ---- ----------------------------------- 0.5/3.9 MB 375.7 kB/s eta 0:00:10\n",
      "   ---- ----------------------------------- 0.5/3.9 MB 375.7 kB/s eta 0:00:10\n",
      "   ---- ----------------------------------- 0.5/3.9 MB 375.7 kB/s eta 0:00:10\n",
      "   ---- ----------------------------------- 0.5/3.9 MB 375.7 kB/s eta 0:00:10\n",
      "   ---- ----------------------------------- 0.5/3.9 MB 375.7 kB/s eta 0:00:10\n",
      "   ---- ----------------------------------- 0.5/3.9 MB 324.1 kB/s eta 0:00:11\n",
      "   ---- ----------------------------------- 0.5/3.9 MB 324.1 kB/s eta 0:00:11\n",
      "   ----- ---------------------------------- 0.5/3.9 MB 351.9 kB/s eta 0:00:10\n",
      "   ------ --------------------------------- 0.6/3.9 MB 373.7 kB/s eta 0:00:09\n",
      "   ------ --------------------------------- 0.6/3.9 MB 378.1 kB/s eta 0:00:09\n",
      "   ------ --------------------------------- 0.6/3.9 MB 378.1 kB/s eta 0:00:09\n",
      "   ------ --------------------------------- 0.6/3.9 MB 376.3 kB/s eta 0:00:09\n",
      "   ------ --------------------------------- 0.6/3.9 MB 376.3 kB/s eta 0:00:09\n",
      "   ------ --------------------------------- 0.6/3.9 MB 376.3 kB/s eta 0:00:09\n",
      "   ------ --------------------------------- 0.6/3.9 MB 376.3 kB/s eta 0:00:09\n",
      "   ------ --------------------------------- 0.6/3.9 MB 376.3 kB/s eta 0:00:09\n",
      "   ------ --------------------------------- 0.6/3.9 MB 376.3 kB/s eta 0:00:09\n",
      "   ------ --------------------------------- 0.6/3.9 MB 376.3 kB/s eta 0:00:09\n",
      "   ------ --------------------------------- 0.6/3.9 MB 376.3 kB/s eta 0:00:09\n",
      "   ------ --------------------------------- 0.6/3.9 MB 376.3 kB/s eta 0:00:09\n",
      "   ------ --------------------------------- 0.6/3.9 MB 376.3 kB/s eta 0:00:09\n",
      "   ------ --------------------------------- 0.6/3.9 MB 376.3 kB/s eta 0:00:09\n",
      "   ------ --------------------------------- 0.6/3.9 MB 376.3 kB/s eta 0:00:09\n",
      "   ------- -------------------------------- 0.7/3.9 MB 316.7 kB/s eta 0:00:10\n",
      "   ------- -------------------------------- 0.8/3.9 MB 316.9 kB/s eta 0:00:10\n",
      "   ------- -------------------------------- 0.8/3.9 MB 319.2 kB/s eta 0:00:10\n",
      "   -------- ------------------------------- 0.8/3.9 MB 315.2 kB/s eta 0:00:10\n",
      "   -------- ------------------------------- 0.8/3.9 MB 321.6 kB/s eta 0:00:10\n",
      "   -------- ------------------------------- 0.8/3.9 MB 323.7 kB/s eta 0:00:10\n",
      "   -------- ------------------------------- 0.9/3.9 MB 325.8 kB/s eta 0:00:10\n",
      "   --------- ------------------------------ 0.9/3.9 MB 329.6 kB/s eta 0:00:10\n",
      "   --------- ------------------------------ 0.9/3.9 MB 329.6 kB/s eta 0:00:10\n",
      "   --------- ------------------------------ 0.9/3.9 MB 333.3 kB/s eta 0:00:09\n",
      "   --------- ------------------------------ 0.9/3.9 MB 333.2 kB/s eta 0:00:09\n",
      "   --------- ------------------------------ 1.0/3.9 MB 331.3 kB/s eta 0:00:09\n",
      "   --------- ------------------------------ 1.0/3.9 MB 331.3 kB/s eta 0:00:09\n",
      "   --------- ------------------------------ 1.0/3.9 MB 331.2 kB/s eta 0:00:09\n",
      "   ---------- ----------------------------- 1.0/3.9 MB 334.6 kB/s eta 0:00:09\n",
      "   ---------- ----------------------------- 1.0/3.9 MB 334.6 kB/s eta 0:00:09\n",
      "   ---------- ----------------------------- 1.0/3.9 MB 332.7 kB/s eta 0:00:09\n",
      "   ---------- ----------------------------- 1.0/3.9 MB 332.7 kB/s eta 0:00:09\n",
      "   ---------- ----------------------------- 1.1/3.9 MB 332.6 kB/s eta 0:00:09\n",
      "   ----------- ---------------------------- 1.1/3.9 MB 339.0 kB/s eta 0:00:09\n",
      "   ----------- ---------------------------- 1.1/3.9 MB 339.0 kB/s eta 0:00:09\n",
      "   ----------- ---------------------------- 1.1/3.9 MB 335.4 kB/s eta 0:00:09\n",
      "   ----------- ---------------------------- 1.1/3.9 MB 335.4 kB/s eta 0:00:09\n",
      "   ----------- ---------------------------- 1.1/3.9 MB 335.4 kB/s eta 0:00:09\n",
      "   ----------- ---------------------------- 1.1/3.9 MB 335.4 kB/s eta 0:00:09\n",
      "   ----------- ---------------------------- 1.1/3.9 MB 324.7 kB/s eta 0:00:09\n",
      "   ------------ --------------------------- 1.2/3.9 MB 335.0 kB/s eta 0:00:09\n",
      "   ------------ --------------------------- 1.2/3.9 MB 334.9 kB/s eta 0:00:09\n",
      "   ------------ --------------------------- 1.2/3.9 MB 336.2 kB/s eta 0:00:09\n",
      "   ------------ --------------------------- 1.2/3.9 MB 337.6 kB/s eta 0:00:08\n",
      "   ------------ --------------------------- 1.2/3.9 MB 336.1 kB/s eta 0:00:08\n",
      "   ------------ --------------------------- 1.3/3.9 MB 337.3 kB/s eta 0:00:08\n",
      "   ------------- -------------------------- 1.3/3.9 MB 338.6 kB/s eta 0:00:08\n",
      "   ------------- -------------------------- 1.3/3.9 MB 343.8 kB/s eta 0:00:08\n",
      "   ------------- -------------------------- 1.3/3.9 MB 340.9 kB/s eta 0:00:08\n",
      "   ------------- -------------------------- 1.3/3.9 MB 340.9 kB/s eta 0:00:08\n",
      "   ------------- -------------------------- 1.4/3.9 MB 343.3 kB/s eta 0:00:08\n",
      "   -------------- ------------------------- 1.4/3.9 MB 341.8 kB/s eta 0:00:08\n",
      "   -------------- ------------------------- 1.4/3.9 MB 341.8 kB/s eta 0:00:08\n",
      "   -------------- ------------------------- 1.4/3.9 MB 344.0 kB/s eta 0:00:08\n",
      "   -------------- ------------------------- 1.4/3.9 MB 343.8 kB/s eta 0:00:08\n",
      "   -------------- ------------------------- 1.4/3.9 MB 341.1 kB/s eta 0:00:08\n",
      "   -------------- ------------------------- 1.4/3.9 MB 341.1 kB/s eta 0:00:08\n",
      "   --------------- ------------------------ 1.5/3.9 MB 345.7 kB/s eta 0:00:08\n",
      "   --------------- ------------------------ 1.5/3.9 MB 343.1 kB/s eta 0:00:08\n",
      "   --------------- ------------------------ 1.5/3.9 MB 343.1 kB/s eta 0:00:08\n",
      "   --------------- ------------------------ 1.5/3.9 MB 342.9 kB/s eta 0:00:07\n",
      "   --------------- ------------------------ 1.5/3.9 MB 344.9 kB/s eta 0:00:07\n",
      "   --------------- ------------------------ 1.6/3.9 MB 341.3 kB/s eta 0:00:07\n",
      "   --------------- ------------------------ 1.6/3.9 MB 341.3 kB/s eta 0:00:07\n",
      "   ---------------- ----------------------- 1.6/3.9 MB 343.3 kB/s eta 0:00:07\n",
      "   ---------------- ----------------------- 1.6/3.9 MB 343.1 kB/s eta 0:00:07\n",
      "   ---------------- ----------------------- 1.6/3.9 MB 343.9 kB/s eta 0:00:07\n",
      "   ---------------- ----------------------- 1.6/3.9 MB 343.9 kB/s eta 0:00:07\n",
      "   ---------------- ----------------------- 1.6/3.9 MB 341.5 kB/s eta 0:00:07\n",
      "   ----------------- ---------------------- 1.7/3.9 MB 341.4 kB/s eta 0:00:07\n",
      "   ----------------- ---------------------- 1.7/3.9 MB 343.3 kB/s eta 0:00:07\n",
      "   ----------------- ---------------------- 1.7/3.9 MB 343.3 kB/s eta 0:00:07\n",
      "   ----------------- ---------------------- 1.7/3.9 MB 342.0 kB/s eta 0:00:07\n",
      "   ----------------- ---------------------- 1.8/3.9 MB 343.9 kB/s eta 0:00:07\n",
      "   ------------------ --------------------- 1.8/3.9 MB 343.7 kB/s eta 0:00:07\n",
      "   ------------------ --------------------- 1.8/3.9 MB 343.7 kB/s eta 0:00:07\n",
      "   ------------------ --------------------- 1.8/3.9 MB 345.5 kB/s eta 0:00:07\n",
      "   ------------------ --------------------- 1.8/3.9 MB 342.3 kB/s eta 0:00:07\n",
      "   ------------------ --------------------- 1.9/3.9 MB 345.9 kB/s eta 0:00:06\n",
      "   ------------------ --------------------- 1.9/3.9 MB 345.9 kB/s eta 0:00:06\n",
      "   ------------------- -------------------- 1.9/3.9 MB 343.9 kB/s eta 0:00:06\n",
      "   ------------------- -------------------- 1.9/3.9 MB 343.6 kB/s eta 0:00:06\n",
      "   ------------------- -------------------- 1.9/3.9 MB 344.4 kB/s eta 0:00:06\n",
      "   ------------------- -------------------- 1.9/3.9 MB 344.4 kB/s eta 0:00:06\n",
      "   ------------------- -------------------- 1.9/3.9 MB 344.1 kB/s eta 0:00:06\n",
      "   -------------------- ------------------- 2.0/3.9 MB 345.8 kB/s eta 0:00:06\n",
      "   -------------------- ------------------- 2.0/3.9 MB 345.8 kB/s eta 0:00:06\n",
      "   -------------------- ------------------- 2.0/3.9 MB 342.9 kB/s eta 0:00:06\n",
      "   -------------------- ------------------- 2.0/3.9 MB 346.2 kB/s eta 0:00:06\n",
      "   -------------------- ------------------- 2.0/3.9 MB 344.3 kB/s eta 0:00:06\n",
      "   -------------------- ------------------- 2.0/3.9 MB 344.1 kB/s eta 0:00:06\n",
      "   -------------------- ------------------- 2.0/3.9 MB 344.1 kB/s eta 0:00:06\n",
      "   --------------------- ------------------ 2.1/3.9 MB 345.7 kB/s eta 0:00:06\n",
      "   --------------------- ------------------ 2.1/3.9 MB 345.5 kB/s eta 0:00:06\n",
      "   --------------------- ------------------ 2.1/3.9 MB 345.5 kB/s eta 0:00:06\n",
      "   --------------------- ------------------ 2.1/3.9 MB 346.1 kB/s eta 0:00:06\n",
      "   --------------------- ------------------ 2.1/3.9 MB 344.3 kB/s eta 0:00:06\n",
      "   ---------------------- ----------------- 2.2/3.9 MB 344.1 kB/s eta 0:00:06\n",
      "   ---------------------- ----------------- 2.2/3.9 MB 345.6 kB/s eta 0:00:06\n",
      "   ---------------------- ----------------- 2.2/3.9 MB 347.0 kB/s eta 0:00:05\n",
      "   ---------------------- ----------------- 2.2/3.9 MB 345.3 kB/s eta 0:00:05\n",
      "   ---------------------- ----------------- 2.2/3.9 MB 345.3 kB/s eta 0:00:05\n",
      "   ----------------------- ---------------- 2.3/3.9 MB 348.2 kB/s eta 0:00:05\n",
      "   ----------------------- ---------------- 2.3/3.9 MB 345.7 kB/s eta 0:00:05\n",
      "   ----------------------- ---------------- 2.3/3.9 MB 345.7 kB/s eta 0:00:05\n",
      "   ----------------------- ---------------- 2.3/3.9 MB 347.1 kB/s eta 0:00:05\n",
      "   ----------------------- ---------------- 2.3/3.9 MB 346.9 kB/s eta 0:00:05\n",
      "   ----------------------- ---------------- 2.3/3.9 MB 346.9 kB/s eta 0:00:05\n",
      "   ----------------------- ---------------- 2.3/3.9 MB 345.9 kB/s eta 0:00:05\n",
      "   ------------------------ --------------- 2.4/3.9 MB 347.2 kB/s eta 0:00:05\n",
      "   ------------------------ --------------- 2.4/3.9 MB 348.5 kB/s eta 0:00:05\n",
      "   ------------------------ --------------- 2.4/3.9 MB 348.5 kB/s eta 0:00:05\n",
      "   ------------------------ --------------- 2.4/3.9 MB 348.4 kB/s eta 0:00:05\n",
      "   ------------------------- -------------- 2.5/3.9 MB 349.6 kB/s eta 0:00:05\n",
      "   ------------------------- -------------- 2.5/3.9 MB 347.2 kB/s eta 0:00:05\n",
      "   ------------------------- -------------- 2.5/3.9 MB 347.8 kB/s eta 0:00:05\n",
      "   ------------------------- -------------- 2.5/3.9 MB 348.3 kB/s eta 0:00:04\n",
      "   ------------------------- -------------- 2.5/3.9 MB 348.3 kB/s eta 0:00:04\n",
      "   ------------------------- -------------- 2.5/3.9 MB 348.3 kB/s eta 0:00:04\n",
      "   ------------------------- -------------- 2.5/3.9 MB 348.3 kB/s eta 0:00:04\n",
      "   ------------------------- -------------- 2.5/3.9 MB 348.3 kB/s eta 0:00:04\n",
      "   ------------------------- -------------- 2.5/3.9 MB 348.3 kB/s eta 0:00:04\n",
      "   ------------------------- -------------- 2.5/3.9 MB 348.3 kB/s eta 0:00:04\n",
      "   ------------------------- -------------- 2.5/3.9 MB 348.3 kB/s eta 0:00:04\n",
      "   ------------------------- -------------- 2.5/3.9 MB 348.3 kB/s eta 0:00:04\n",
      "   -------------------------- ------------- 2.6/3.9 MB 340.4 kB/s eta 0:00:04\n",
      "   -------------------------- ------------- 2.6/3.9 MB 341.0 kB/s eta 0:00:04\n",
      "   --------------------------- ------------ 2.6/3.9 MB 340.3 kB/s eta 0:00:04\n",
      "   --------------------------- ------------ 2.7/3.9 MB 340.9 kB/s eta 0:00:04\n",
      "   --------------------------- ------------ 2.7/3.9 MB 342.0 kB/s eta 0:00:04\n",
      "   --------------------------- ------------ 2.7/3.9 MB 343.3 kB/s eta 0:00:04\n",
      "   --------------------------- ------------ 2.7/3.9 MB 341.9 kB/s eta 0:00:04\n",
      "   ---------------------------- ----------- 2.8/3.9 MB 343.7 kB/s eta 0:00:04\n",
      "   ---------------------------- ----------- 2.8/3.9 MB 346.1 kB/s eta 0:00:04\n",
      "   ---------------------------- ----------- 2.8/3.9 MB 344.7 kB/s eta 0:00:04\n",
      "   ---------------------------- ----------- 2.8/3.9 MB 344.7 kB/s eta 0:00:04\n",
      "   ----------------------------- ---------- 2.8/3.9 MB 346.5 kB/s eta 0:00:04\n",
      "   ----------------------------- ---------- 2.9/3.9 MB 345.1 kB/s eta 0:00:04\n",
      "   ----------------------------- ---------- 2.9/3.9 MB 344.9 kB/s eta 0:00:03\n",
      "   ----------------------------- ---------- 2.9/3.9 MB 346.0 kB/s eta 0:00:03\n",
      "   ----------------------------- ---------- 2.9/3.9 MB 346.0 kB/s eta 0:00:03\n",
      "   ------------------------------ --------- 2.9/3.9 MB 346.5 kB/s eta 0:00:03\n",
      "   ------------------------------ --------- 3.0/3.9 MB 346.3 kB/s eta 0:00:03\n",
      "   ------------------------------ --------- 3.0/3.9 MB 346.3 kB/s eta 0:00:03\n",
      "   ------------------------------ --------- 3.0/3.9 MB 344.4 kB/s eta 0:00:03\n",
      "   ------------------------------ --------- 3.0/3.9 MB 346.6 kB/s eta 0:00:03\n",
      "   ------------------------------ --------- 3.0/3.9 MB 345.3 kB/s eta 0:00:03\n",
      "   ------------------------------- -------- 3.1/3.9 MB 346.3 kB/s eta 0:00:03\n",
      "   ------------------------------- -------- 3.1/3.9 MB 346.3 kB/s eta 0:00:03\n",
      "   ------------------------------- -------- 3.1/3.9 MB 346.2 kB/s eta 0:00:03\n",
      "   ------------------------------- -------- 3.1/3.9 MB 346.6 kB/s eta 0:00:03\n",
      "   -------------------------------- ------- 3.1/3.9 MB 347.6 kB/s eta 0:00:03\n",
      "   -------------------------------- ------- 3.1/3.9 MB 347.6 kB/s eta 0:00:03\n",
      "   -------------------------------- ------- 3.1/3.9 MB 346.4 kB/s eta 0:00:03\n",
      "   -------------------------------- ------- 3.2/3.9 MB 348.5 kB/s eta 0:00:03\n",
      "   -------------------------------- ------- 3.2/3.9 MB 348.5 kB/s eta 0:00:03\n",
      "   -------------------------------- ------- 3.2/3.9 MB 346.6 kB/s eta 0:00:03\n",
      "   -------------------------------- ------- 3.2/3.9 MB 346.5 kB/s eta 0:00:03\n",
      "   --------------------------------- ------ 3.2/3.9 MB 347.5 kB/s eta 0:00:02\n",
      "   --------------------------------- ------ 3.3/3.9 MB 347.9 kB/s eta 0:00:02\n",
      "   --------------------------------- ------ 3.3/3.9 MB 347.7 kB/s eta 0:00:02\n",
      "   --------------------------------- ------ 3.3/3.9 MB 347.7 kB/s eta 0:00:02\n",
      "   --------------------------------- ------ 3.3/3.9 MB 346.5 kB/s eta 0:00:02\n",
      "   ---------------------------------- ----- 3.3/3.9 MB 348.5 kB/s eta 0:00:02\n",
      "   ---------------------------------- ----- 3.4/3.9 MB 347.4 kB/s eta 0:00:02\n",
      "   ---------------------------------- ----- 3.4/3.9 MB 347.4 kB/s eta 0:00:02\n",
      "   ---------------------------------- ----- 3.4/3.9 MB 347.7 kB/s eta 0:00:02\n",
      "   ---------------------------------- ----- 3.4/3.9 MB 347.6 kB/s eta 0:00:02\n",
      "   ----------------------------------- ---- 3.4/3.9 MB 348.5 kB/s eta 0:00:02\n",
      "   ----------------------------------- ---- 3.4/3.9 MB 348.5 kB/s eta 0:00:02\n",
      "   ----------------------------------- ---- 3.5/3.9 MB 347.8 kB/s eta 0:00:02\n",
      "   ----------------------------------- ---- 3.5/3.9 MB 348.7 kB/s eta 0:00:02\n",
      "   ----------------------------------- ---- 3.5/3.9 MB 348.7 kB/s eta 0:00:02\n",
      "   ----------------------------------- ---- 3.5/3.9 MB 348.6 kB/s eta 0:00:02\n",
      "   ------------------------------------ --- 3.5/3.9 MB 349.5 kB/s eta 0:00:02\n",
      "   ------------------------------------ --- 3.6/3.9 MB 348.3 kB/s eta 0:00:02\n",
      "   ------------------------------------ --- 3.6/3.9 MB 348.3 kB/s eta 0:00:02\n",
      "   ------------------------------------ --- 3.6/3.9 MB 347.7 kB/s eta 0:00:01\n",
      "   ------------------------------------ --- 3.6/3.9 MB 348.5 kB/s eta 0:00:01\n",
      "   ------------------------------------- -- 3.6/3.9 MB 349.4 kB/s eta 0:00:01\n",
      "   ------------------------------------- -- 3.6/3.9 MB 349.4 kB/s eta 0:00:01\n",
      "   ------------------------------------- -- 3.6/3.9 MB 348.3 kB/s eta 0:00:01\n",
      "   ------------------------------------- -- 3.7/3.9 MB 348.6 kB/s eta 0:00:01\n",
      "   ------------------------------------- -- 3.7/3.9 MB 348.5 kB/s eta 0:00:01\n",
      "   -------------------------------------- - 3.7/3.9 MB 349.8 kB/s eta 0:00:01\n",
      "   -------------------------------------- - 3.7/3.9 MB 349.7 kB/s eta 0:00:01\n",
      "   -------------------------------------- - 3.7/3.9 MB 349.7 kB/s eta 0:00:01\n",
      "   -------------------------------------- - 3.8/3.9 MB 348.6 kB/s eta 0:00:01\n",
      "   -------------------------------------- - 3.8/3.9 MB 349.9 kB/s eta 0:00:01\n",
      "   -------------------------------------- - 3.8/3.9 MB 348.9 kB/s eta 0:00:01\n",
      "   -------------------------------------- - 3.8/3.9 MB 348.9 kB/s eta 0:00:01\n",
      "   ---------------------------------------  3.8/3.9 MB 349.1 kB/s eta 0:00:01\n",
      "   ---------------------------------------  3.9/3.9 MB 350.5 kB/s eta 0:00:01\n",
      "   ---------------------------------------  3.9/3.9 MB 349.8 kB/s eta 0:00:01\n",
      "   ---------------------------------------  3.9/3.9 MB 349.8 kB/s eta 0:00:01\n",
      "   ---------------------------------------  3.9/3.9 MB 348.3 kB/s eta 0:00:01\n",
      "   ---------------------------------------- 3.9/3.9 MB 347.7 kB/s eta 0:00:00\n",
      "Installing collected packages: lxml\n",
      "Successfully installed lxml-5.1.0\n",
      "Note: you may need to restart the kernel to use updated packages.\n"
     ]
    },
    {
     "data": {
      "text/plain": [
       "[  Operator            Name Example    Try it\n",
       " 0        +        Addition   x + y  Try it »\n",
       " 1        -     Subtraction   x - y  Try it »\n",
       " 2        *  Multiplication   x * y  Try it »\n",
       " 3        /        Division   x / y  Try it »\n",
       " 4        %         Modulus   x % y  Try it »\n",
       " 5       **  Exponentiation  x ** y  Try it »\n",
       " 6       //  Floor division  x // y  Try it »,\n",
       "    Operator  Example     Same As    Try it\n",
       " 0         =    x = 5       x = 5  Try it »\n",
       " 1        +=   x += 3   x = x + 3  Try it »\n",
       " 2        -=   x -= 3   x = x - 3  Try it »\n",
       " 3        *=   x *= 3   x = x * 3  Try it »\n",
       " 4        /=   x /= 3   x = x / 3  Try it »\n",
       " 5        %=   x %= 3   x = x % 3  Try it »\n",
       " 6       //=  x //= 3  x = x // 3  Try it »\n",
       " 7       **=  x **= 3  x = x ** 3  Try it »\n",
       " 8        &=   x &= 3   x = x & 3  Try it »\n",
       " 9        |=   x |= 3   x = x | 3  Try it »\n",
       " 10       ^=   x ^= 3   x = x ^ 3  Try it »\n",
       " 11      >>=  x >>= 3  x = x >> 3  Try it »\n",
       " 12      <<=  x <<= 3  x = x << 3  Try it »,\n",
       "   Operator                      Name Example    Try it\n",
       " 0       ==                     Equal  x == y  Try it »\n",
       " 1       !=                 Not equal  x != y  Try it »\n",
       " 2        >              Greater than   x > y  Try it »\n",
       " 3        <                 Less than   x < y  Try it »\n",
       " 4       >=  Greater than or equal to  x >= y  Try it »\n",
       " 5       <=     Less than or equal to  x <= y  Try it »,\n",
       "   Operator                                        Description  \\\n",
       " 0      and           Returns True if both statements are true   \n",
       " 1       or      Returns True if one of the statements is true   \n",
       " 2      not  Reverse the result, returns False if the resul...   \n",
       " \n",
       "                  Example    Try it  \n",
       " 0       x < 5 and x < 10  Try it »  \n",
       " 1         x < 5 or x < 4  Try it »  \n",
       " 2  not(x < 5 and x < 10)  Try it »  ,\n",
       "   Operator                                        Description     Example  \\\n",
       " 0       is  Returns True if both variables are the same ob...      x is y   \n",
       " 1   is not  Returns True if both variables are not the sam...  x is not y   \n",
       " \n",
       "      Try it  \n",
       " 0  Try it »  \n",
       " 1  Try it »  ,\n",
       "   Operator                                        Description     Example  \\\n",
       " 0       in  Returns True if a sequence with the specified ...      x in y   \n",
       " 1   not in  Returns True if a sequence with the specified ...  x not in y   \n",
       " \n",
       "      Try it  \n",
       " 0  Try it »  \n",
       " 1  Try it »  ,\n",
       "   Operator                  Name  \\\n",
       " 0        &                   AND   \n",
       " 1        |                    OR   \n",
       " 2        ^                   XOR   \n",
       " 3        ~                   NOT   \n",
       " 4       <<  Zero fill left shift   \n",
       " 5       >>    Signed right shift   \n",
       " \n",
       "                                          Description Example    Try it  \n",
       " 0              Sets each bit to 1 if both bits are 1   x & y  Try it »  \n",
       " 1         Sets each bit to 1 if one of two bits is 1   x | y  Try it »  \n",
       " 2    Sets each bit to 1 if only one of two bits is 1   x ^ y  Try it »  \n",
       " 3                               Inverts all the bits      ~x  Try it »  \n",
       " 4  Shift left by pushing zeros in from the right ...  x << 2  Try it »  \n",
       " 5  Shift right by pushing copies of the leftmost ...  x >> 2  Try it »  ,\n",
       "                                Operator  \\\n",
       " 0                                    ()   \n",
       " 1                                    **   \n",
       " 2                              +x -x ~x   \n",
       " 3                              * / // %   \n",
       " 4                                   + -   \n",
       " 5                                 << >>   \n",
       " 6                                     &   \n",
       " 7                                     ^   \n",
       " 8                                     |   \n",
       " 9   == != > >= < <= is is not in not in   \n",
       " 10                                  not   \n",
       " 11                                  and   \n",
       " 12                                   or   \n",
       " \n",
       "                                           Description    Try it  \n",
       " 0                                         Parentheses  Try it »  \n",
       " 1                                      Exponentiation  Try it »  \n",
       " 2            Unary plus, unary minus, and bitwise NOT  Try it »  \n",
       " 3   Multiplication, division, floor division, and ...  Try it »  \n",
       " 4                            Addition and subtraction  Try it »  \n",
       " 5                       Bitwise left and right shifts  Try it »  \n",
       " 6                                         Bitwise AND  Try it »  \n",
       " 7                                         Bitwise XOR  Try it »  \n",
       " 8                                          Bitwise OR  Try it »  \n",
       " 9     Comparisons, identity, and membership operators  Try it »  \n",
       " 10                                        Logical NOT  Try it »  \n",
       " 11                                                AND  Try it »  \n",
       " 12                                                 OR  Try it »  ]"
      ]
     },
     "execution_count": 26,
     "metadata": {},
     "output_type": "execute_result"
    }
   ],
   "source": [
    "%pip install lxml\n",
    "\n",
    "dfl : list[pd.DataFrame] = pd.read_html(\"https://www.w3schools.com/python/python_operators.asp\")\n",
    "dfl"
   ]
  },
  {
   "cell_type": "code",
   "execution_count": 27,
   "metadata": {},
   "outputs": [
    {
     "data": {
      "text/html": [
       "<div>\n",
       "<style scoped>\n",
       "    .dataframe tbody tr th:only-of-type {\n",
       "        vertical-align: middle;\n",
       "    }\n",
       "\n",
       "    .dataframe tbody tr th {\n",
       "        vertical-align: top;\n",
       "    }\n",
       "\n",
       "    .dataframe thead th {\n",
       "        text-align: right;\n",
       "    }\n",
       "</style>\n",
       "<table border=\"1\" class=\"dataframe\">\n",
       "  <thead>\n",
       "    <tr style=\"text-align: right;\">\n",
       "      <th></th>\n",
       "      <th>Operator</th>\n",
       "      <th>Name</th>\n",
       "      <th>Example</th>\n",
       "      <th>Try it</th>\n",
       "    </tr>\n",
       "  </thead>\n",
       "  <tbody>\n",
       "    <tr>\n",
       "      <th>0</th>\n",
       "      <td>+</td>\n",
       "      <td>Addition</td>\n",
       "      <td>x + y</td>\n",
       "      <td>Try it »</td>\n",
       "    </tr>\n",
       "    <tr>\n",
       "      <th>1</th>\n",
       "      <td>-</td>\n",
       "      <td>Subtraction</td>\n",
       "      <td>x - y</td>\n",
       "      <td>Try it »</td>\n",
       "    </tr>\n",
       "    <tr>\n",
       "      <th>2</th>\n",
       "      <td>*</td>\n",
       "      <td>Multiplication</td>\n",
       "      <td>x * y</td>\n",
       "      <td>Try it »</td>\n",
       "    </tr>\n",
       "    <tr>\n",
       "      <th>3</th>\n",
       "      <td>/</td>\n",
       "      <td>Division</td>\n",
       "      <td>x / y</td>\n",
       "      <td>Try it »</td>\n",
       "    </tr>\n",
       "    <tr>\n",
       "      <th>4</th>\n",
       "      <td>%</td>\n",
       "      <td>Modulus</td>\n",
       "      <td>x % y</td>\n",
       "      <td>Try it »</td>\n",
       "    </tr>\n",
       "    <tr>\n",
       "      <th>5</th>\n",
       "      <td>**</td>\n",
       "      <td>Exponentiation</td>\n",
       "      <td>x ** y</td>\n",
       "      <td>Try it »</td>\n",
       "    </tr>\n",
       "    <tr>\n",
       "      <th>6</th>\n",
       "      <td>//</td>\n",
       "      <td>Floor division</td>\n",
       "      <td>x // y</td>\n",
       "      <td>Try it »</td>\n",
       "    </tr>\n",
       "  </tbody>\n",
       "</table>\n",
       "</div>"
      ],
      "text/plain": [
       "  Operator            Name Example    Try it\n",
       "0        +        Addition   x + y  Try it »\n",
       "1        -     Subtraction   x - y  Try it »\n",
       "2        *  Multiplication   x * y  Try it »\n",
       "3        /        Division   x / y  Try it »\n",
       "4        %         Modulus   x % y  Try it »\n",
       "5       **  Exponentiation  x ** y  Try it »\n",
       "6       //  Floor division  x // y  Try it »"
      ]
     },
     "execution_count": 27,
     "metadata": {},
     "output_type": "execute_result"
    }
   ],
   "source": [
    "dfl[0]"
   ]
  },
  {
   "cell_type": "code",
   "execution_count": 28,
   "metadata": {},
   "outputs": [
    {
     "data": {
      "text/html": [
       "<div>\n",
       "<style scoped>\n",
       "    .dataframe tbody tr th:only-of-type {\n",
       "        vertical-align: middle;\n",
       "    }\n",
       "\n",
       "    .dataframe tbody tr th {\n",
       "        vertical-align: top;\n",
       "    }\n",
       "\n",
       "    .dataframe thead th {\n",
       "        text-align: right;\n",
       "    }\n",
       "</style>\n",
       "<table border=\"1\" class=\"dataframe\">\n",
       "  <thead>\n",
       "    <tr style=\"text-align: right;\">\n",
       "      <th></th>\n",
       "      <th>Duration</th>\n",
       "      <th>Pulse</th>\n",
       "      <th>Maxpulse</th>\n",
       "      <th>Calories</th>\n",
       "    </tr>\n",
       "  </thead>\n",
       "  <tbody>\n",
       "    <tr>\n",
       "      <th>0</th>\n",
       "      <td>60</td>\n",
       "      <td>110</td>\n",
       "      <td>130</td>\n",
       "      <td>409.1</td>\n",
       "    </tr>\n",
       "    <tr>\n",
       "      <th>1</th>\n",
       "      <td>60</td>\n",
       "      <td>117</td>\n",
       "      <td>145</td>\n",
       "      <td>479.0</td>\n",
       "    </tr>\n",
       "    <tr>\n",
       "      <th>2</th>\n",
       "      <td>60</td>\n",
       "      <td>103</td>\n",
       "      <td>135</td>\n",
       "      <td>340.0</td>\n",
       "    </tr>\n",
       "    <tr>\n",
       "      <th>3</th>\n",
       "      <td>45</td>\n",
       "      <td>109</td>\n",
       "      <td>175</td>\n",
       "      <td>282.4</td>\n",
       "    </tr>\n",
       "    <tr>\n",
       "      <th>4</th>\n",
       "      <td>45</td>\n",
       "      <td>117</td>\n",
       "      <td>148</td>\n",
       "      <td>406.0</td>\n",
       "    </tr>\n",
       "    <tr>\n",
       "      <th>...</th>\n",
       "      <td>...</td>\n",
       "      <td>...</td>\n",
       "      <td>...</td>\n",
       "      <td>...</td>\n",
       "    </tr>\n",
       "    <tr>\n",
       "      <th>164</th>\n",
       "      <td>60</td>\n",
       "      <td>105</td>\n",
       "      <td>140</td>\n",
       "      <td>290.8</td>\n",
       "    </tr>\n",
       "    <tr>\n",
       "      <th>165</th>\n",
       "      <td>60</td>\n",
       "      <td>110</td>\n",
       "      <td>145</td>\n",
       "      <td>300.4</td>\n",
       "    </tr>\n",
       "    <tr>\n",
       "      <th>166</th>\n",
       "      <td>60</td>\n",
       "      <td>115</td>\n",
       "      <td>145</td>\n",
       "      <td>310.2</td>\n",
       "    </tr>\n",
       "    <tr>\n",
       "      <th>167</th>\n",
       "      <td>75</td>\n",
       "      <td>120</td>\n",
       "      <td>150</td>\n",
       "      <td>320.4</td>\n",
       "    </tr>\n",
       "    <tr>\n",
       "      <th>168</th>\n",
       "      <td>75</td>\n",
       "      <td>125</td>\n",
       "      <td>150</td>\n",
       "      <td>330.4</td>\n",
       "    </tr>\n",
       "  </tbody>\n",
       "</table>\n",
       "<p>169 rows × 4 columns</p>\n",
       "</div>"
      ],
      "text/plain": [
       "     Duration  Pulse  Maxpulse  Calories\n",
       "0          60    110       130     409.1\n",
       "1          60    117       145     479.0\n",
       "2          60    103       135     340.0\n",
       "3          45    109       175     282.4\n",
       "4          45    117       148     406.0\n",
       "..        ...    ...       ...       ...\n",
       "164        60    105       140     290.8\n",
       "165        60    110       145     300.4\n",
       "166        60    115       145     310.2\n",
       "167        75    120       150     320.4\n",
       "168        75    125       150     330.4\n",
       "\n",
       "[169 rows x 4 columns]"
      ]
     },
     "execution_count": 28,
     "metadata": {},
     "output_type": "execute_result"
    }
   ],
   "source": [
    "df : pd.DataFrame = pd.read_json(\"https://www.w3schools.com/python/pandas/data.js\")\n",
    "df"
   ]
  },
  {
   "cell_type": "code",
   "execution_count": 29,
   "metadata": {},
   "outputs": [
    {
     "name": "stdout",
     "output_type": "stream",
     "text": [
      "   column1  column2  column3\n",
      "0        1     -1.3  value_1\n",
      "1        4     -1.4  value_2\n",
      "2        0     -2.9  value_3\n",
      "3       10    -10.1  value_2\n",
      "4        9    -20.4  value_1\n"
     ]
    }
   ],
   "source": [
    "import pandas as pd\n",
    "import pandera as pa\n",
    "\n",
    "# data to validate\n",
    "df = pd.DataFrame({\n",
    "    \"column1\": [1, 4, 0, 10, 9],\n",
    "    \"column2\": [-1.3, -1.4, -2.9, -10.1, -20.4],\n",
    "    \"column3\": [\"value_1\", \"value_2\", \"value_3\", \"value_2\", \"value_1\"],\n",
    "})\n",
    "\n",
    "# define schema\n",
    "schema = pa.DataFrameSchema({\n",
    "    \"column1\": pa.Column(int, checks=pa.Check.le(10)),\n",
    "    \"column2\": pa.Column(float, checks=pa.Check.lt(-1.2)),\n",
    "    \"column3\": pa.Column(str, checks=[\n",
    "        pa.Check.str_startswith(\"value_\"),\n",
    "        # define custom checks as functions that take a series as input and\n",
    "        # outputs a boolean or boolean Series\n",
    "        pa.Check(lambda s: s.str.split(\"_\", expand=True).shape[1] == 2)\n",
    "    ]),\n",
    "})\n",
    "\n",
    "validated_df = schema(df)\n",
    "print(validated_df)"
   ]
  },
  {
   "cell_type": "markdown",
   "metadata": {},
   "source": [
    "# Slicing and Indexing\n",
    "* Series_variable[index]\n",
    "* dataframe\n",
    "    * loc\n",
    "    * iloc\n",
    "    * at\n",
    "    * iat"
   ]
  },
  {
   "cell_type": "code",
   "execution_count": 31,
   "metadata": {},
   "outputs": [
    {
     "data": {
      "text/plain": [
       "0    1\n",
       "1    2\n",
       "2    3\n",
       "3    4\n",
       "4    5\n",
       "dtype: int64"
      ]
     },
     "metadata": {},
     "output_type": "display_data"
    },
    {
     "name": "stdout",
     "output_type": "stream",
     "text": [
      "Applying Slicing\n"
     ]
    },
    {
     "data": {
      "text/plain": [
       "2"
      ]
     },
     "metadata": {},
     "output_type": "display_data"
    }
   ],
   "source": [
    "s1 : pd.Series = pd.Series([1,2,3,4,5])\n",
    "display(s1)\n",
    "print(\"Applying Slicing\")\n",
    "display(s1[1]) # index"
   ]
  },
  {
   "cell_type": "code",
   "execution_count": 32,
   "metadata": {},
   "outputs": [
    {
     "data": {
      "text/plain": [
       "0    1\n",
       "1    2\n",
       "2    3\n",
       "3    4\n",
       "4    5\n",
       "dtype: int64"
      ]
     },
     "metadata": {},
     "output_type": "display_data"
    },
    {
     "name": "stdout",
     "output_type": "stream",
     "text": [
      "Applying Slicing\n"
     ]
    },
    {
     "data": {
      "text/plain": [
       "1    2\n",
       "2    3\n",
       "3    4\n",
       "dtype: int64"
      ]
     },
     "metadata": {},
     "output_type": "display_data"
    }
   ],
   "source": [
    "s1 : pd.Series = pd.Series([1,2,3,4,5])\n",
    "display(s1)\n",
    "print(\"Applying Slicing\")\n",
    "display(s1[1:4]) # index"
   ]
  },
  {
   "cell_type": "code",
   "execution_count": 34,
   "metadata": {},
   "outputs": [
    {
     "data": {
      "text/plain": [
       "0    1\n",
       "1    2\n",
       "2    3\n",
       "3    4\n",
       "4    5\n",
       "dtype: int64"
      ]
     },
     "metadata": {},
     "output_type": "display_data"
    },
    {
     "name": "stdout",
     "output_type": "stream",
     "text": [
      "Applying Slicing\n"
     ]
    },
    {
     "data": {
      "text/plain": [
       "1    2\n",
       "2    3\n",
       "3    4\n",
       "dtype: int64"
      ]
     },
     "metadata": {},
     "output_type": "display_data"
    }
   ],
   "source": [
    "s1 : pd.Series = pd.Series([1,2,3,4,5])\n",
    "display(s1)\n",
    "print(\"Applying Slicing\")\n",
    "display(s1.iloc[1:4]) # index location always pass numbers same as numpy slicing"
   ]
  },
  {
   "cell_type": "code",
   "execution_count": 35,
   "metadata": {},
   "outputs": [
    {
     "data": {
      "text/plain": [
       "a    1\n",
       "b    2\n",
       "c    3\n",
       "d    4\n",
       "e    5\n",
       "dtype: int64"
      ]
     },
     "metadata": {},
     "output_type": "display_data"
    },
    {
     "name": "stdout",
     "output_type": "stream",
     "text": [
      "Applying Slicing\n"
     ]
    },
    {
     "data": {
      "text/plain": [
       "b    2\n",
       "c    3\n",
       "d    4\n",
       "dtype: int64"
      ]
     },
     "metadata": {},
     "output_type": "display_data"
    }
   ],
   "source": [
    "s1 : pd.Series = pd.Series([1,2,3,4,5], index=['a','b','c','d','e'])\n",
    "display(s1)\n",
    "print(\"Applying Slicing\")\n",
    "display(s1.iloc[1:4]) # index location always pass numbers same as numpy slicing"
   ]
  },
  {
   "cell_type": "code",
   "execution_count": 36,
   "metadata": {},
   "outputs": [
    {
     "data": {
      "text/plain": [
       "a    1\n",
       "b    2\n",
       "c    3\n",
       "d    4\n",
       "e    5\n",
       "dtype: int64"
      ]
     },
     "metadata": {},
     "output_type": "display_data"
    },
    {
     "name": "stdout",
     "output_type": "stream",
     "text": [
      "Applying Slicing\n"
     ]
    },
    {
     "data": {
      "text/plain": [
       "a    1\n",
       "b    2\n",
       "c    3\n",
       "d    4\n",
       "dtype: int64"
      ]
     },
     "metadata": {},
     "output_type": "display_data"
    }
   ],
   "source": [
    "s1 : pd.Series = pd.Series([1,2,3,4,5], index=['a','b','c','d','e'])\n",
    "display(s1)\n",
    "print(\"Applying Slicing\")\n",
    "display(s1.loc[\"a\":\"d\"]) # index location (label) end included"
   ]
  },
  {
   "cell_type": "code",
   "execution_count": 37,
   "metadata": {},
   "outputs": [
    {
     "data": {
      "text/plain": [
       "a    1\n",
       "b    2\n",
       "c    3\n",
       "d    4\n",
       "e    5\n",
       "dtype: int64"
      ]
     },
     "metadata": {},
     "output_type": "display_data"
    },
    {
     "name": "stdout",
     "output_type": "stream",
     "text": [
      "Applying Slicing\n"
     ]
    },
    {
     "data": {
      "text/plain": [
       "2"
      ]
     },
     "metadata": {},
     "output_type": "display_data"
    }
   ],
   "source": [
    "s1 : pd.Series = pd.Series([1,2,3,4,5], index=['a','b','c','d','e'])\n",
    "display(s1)\n",
    "print(\"Applying Slicing\")\n",
    "display(s1.iat[1]) # index location (number) extract one cell value and you can update it"
   ]
  },
  {
   "cell_type": "code",
   "execution_count": 38,
   "metadata": {},
   "outputs": [
    {
     "data": {
      "text/plain": [
       "a    1\n",
       "b    2\n",
       "c    3\n",
       "d    4\n",
       "e    5\n",
       "dtype: int64"
      ]
     },
     "metadata": {},
     "output_type": "display_data"
    },
    {
     "name": "stdout",
     "output_type": "stream",
     "text": [
      "Applying Slicing\n"
     ]
    },
    {
     "data": {
      "text/plain": [
       "4"
      ]
     },
     "metadata": {},
     "output_type": "display_data"
    }
   ],
   "source": [
    "s1 : pd.Series = pd.Series([1,2,3,4,5], index=['a','b','c','d','e'])\n",
    "display(s1)\n",
    "print(\"Applying Slicing\")\n",
    "display(s1.at[\"d\"]) # index location (label) extract one cell value and you can update it"
   ]
  },
  {
   "cell_type": "markdown",
   "metadata": {},
   "source": [
    "# Regex\n",
    "                 time <-    regex       \n",
    "* Time example 12:45:32   \\d{2}: \\d{2}: \\d{2}\n",
    "* name example zain         (.*) # any character other than backslash n\n",
    "* space and minus sign optional     ? ?\n",
    "* number example 1234   \\d{5,6} min length 5 and max length 6"
   ]
  },
  {
   "cell_type": "code",
   "execution_count": 43,
   "metadata": {},
   "outputs": [
    {
     "name": "stderr",
     "output_type": "stream",
     "text": [
      "<>:16: SyntaxWarning: invalid escape sequence '\\d'\n",
      "<>:16: SyntaxWarning: invalid escape sequence '\\d'\n",
      "C:\\Users\\zain baber\\AppData\\Local\\Temp\\ipykernel_5872\\4096488017.py:16: SyntaxWarning: invalid escape sequence '\\d'\n",
      "  patterns : str = \"\"\"\n"
     ]
    },
    {
     "data": {
      "text/plain": [
       "[]"
      ]
     },
     "execution_count": 43,
     "metadata": {},
     "output_type": "execute_result"
    }
   ],
   "source": [
    "x : str = \"\"\"\n",
    "PIAIC\tzain\t1233\n",
    "PIAIC\thsge\t3455\n",
    "PIAIC\tsjhe\t6677\n",
    "PIAIC\tlskje\t87665\n",
    "PIAIC\tsjhehe\t4433\n",
    "PIAIC\tsiugda\t676879\n",
    "PIAIC\tndbdaq\t854\n",
    "PIAIC\tpljs\t324556\n",
    "PIAIC\tmagdguw\t4335\n",
    "\n",
    "\"\"\"\n",
    "\n",
    "import re\n",
    "\n",
    "patterns : str = \"\"\"\n",
    "PIAIC\t(.*)  ?\t\\d{5,6}\n",
    "\"\"\"\n",
    "\n",
    "data : list[list[str]] = re.findall(patterns, x)\n",
    "data"
   ]
  }
 ],
 "metadata": {
  "kernelspec": {
   "display_name": "Python 3",
   "language": "python",
   "name": "python3"
  },
  "language_info": {
   "codemirror_mode": {
    "name": "ipython",
    "version": 3
   },
   "file_extension": ".py",
   "mimetype": "text/x-python",
   "name": "python",
   "nbconvert_exporter": "python",
   "pygments_lexer": "ipython3",
   "version": "3.12.2"
  }
 },
 "nbformat": 4,
 "nbformat_minor": 2
}
