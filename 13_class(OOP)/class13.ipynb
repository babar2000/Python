{
 "cells": [
  {
   "cell_type": "code",
   "execution_count": 1,
   "metadata": {},
   "outputs": [],
   "source": [
    "def obj1_speak():pass\n",
    "def obj2_speak():pass\n",
    "\n",
    "obj1_name : str = \"Sir Zia\"\n",
    "obj2_name : str = \"Zain Babar\""
   ]
  },
  {
   "cell_type": "markdown",
   "metadata": {},
   "source": [
    "# OOP(Object Oriented Programming)\n",
    "* class \n",
    "    * method\n",
    "        * first argument must be additional variable (self,this or eanything else)\n",
    "    * attribute\n",
    "    * class variables\n",
    "    * constructor\n",
    "        * def ```--init--(self,arg1,arg2)```\n",
    "    * class variable\n",
    "        * this value use for all objects\n",
    "            * `ClassName.class_variable`\n",
    "            * `object_name.class_variable`\n",
    "## syntax of class variable\n",
    "```\n",
    "class ClassName():\n",
    "    class_variable1 : type = Value\n",
    "```\n",
    "## syntax of class\n",
    "```\n",
    "class ClassName():\n",
    "    pass\n",
    "```"
   ]
  },
  {
   "cell_type": "code",
   "execution_count": 20,
   "metadata": {},
   "outputs": [],
   "source": [
    "class Teacher():\n",
    "    def __init__(self,teacher_id : int, teacher_name : str) -> None: # method/constructor\n",
    "        self.name : str = teacher_name  # attributes\n",
    "        self.teacher_id : int = teacher_id # attributes\n",
    "        self.organization_name : str = \"PIAIC\" # attributes\n",
    "\n",
    "    def speak(self,words : str)-> None: # method\n",
    "        display(f\"{self.name} is speaking {words}\")\n",
    "\n",
    "    def teaching(self,subject : str)->None: # method    \n",
    "        display(f\"{self.name} is teaching {subject}...!\")"
   ]
  },
  {
   "cell_type": "code",
   "execution_count": 16,
   "metadata": {},
   "outputs": [],
   "source": [
    "obj1 : Teacher = Teacher(1,\"Sir Zia\")\n",
    "obj2 : Teacher = Teacher(2,\"Muhammad Qasim\")"
   ]
  },
  {
   "cell_type": "code",
   "execution_count": 15,
   "metadata": {},
   "outputs": [
    {
     "data": {
      "text/plain": [
       "'Sir Zia'"
      ]
     },
     "metadata": {},
     "output_type": "display_data"
    },
    {
     "data": {
      "text/plain": [
       "1"
      ]
     },
     "metadata": {},
     "output_type": "display_data"
    },
    {
     "data": {
      "text/plain": [
       "'PIAIC'"
      ]
     },
     "metadata": {},
     "output_type": "display_data"
    },
    {
     "data": {
      "text/plain": [
       "'Muhammad Qasim'"
      ]
     },
     "metadata": {},
     "output_type": "display_data"
    },
    {
     "data": {
      "text/plain": [
       "2"
      ]
     },
     "metadata": {},
     "output_type": "display_data"
    },
    {
     "data": {
      "text/plain": [
       "'PIAIC'"
      ]
     },
     "metadata": {},
     "output_type": "display_data"
    }
   ],
   "source": [
    "display(obj1.name)\n",
    "display(obj1.teacher_id)\n",
    "display(obj1.organization_name)\n",
    "\n",
    "display(obj2.name)\n",
    "display(obj2.teacher_id)\n",
    "display(obj2.organization_name)"
   ]
  },
  {
   "cell_type": "code",
   "execution_count": 17,
   "metadata": {},
   "outputs": [
    {
     "data": {
      "text/plain": [
       "'Sir Zia is teaching Generative AI...!'"
      ]
     },
     "metadata": {},
     "output_type": "display_data"
    }
   ],
   "source": [
    "obj1.teaching(\"Generative AI\")"
   ]
  },
  {
   "cell_type": "code",
   "execution_count": 18,
   "metadata": {},
   "outputs": [
    {
     "data": {
      "text/plain": [
       "'Muhammad Qasim is teaching Deep Learning...!'"
      ]
     },
     "metadata": {},
     "output_type": "display_data"
    }
   ],
   "source": [
    "obj2.teaching(\"Deep Learning\")\n"
   ]
  },
  {
   "cell_type": "code",
   "execution_count": 4,
   "metadata": {},
   "outputs": [
    {
     "data": {
      "text/plain": [
       "['__class__',\n",
       " '__delattr__',\n",
       " '__dict__',\n",
       " '__dir__',\n",
       " '__doc__',\n",
       " '__eq__',\n",
       " '__format__',\n",
       " '__ge__',\n",
       " '__getattribute__',\n",
       " '__getstate__',\n",
       " '__gt__',\n",
       " '__hash__',\n",
       " '__init__',\n",
       " '__init_subclass__',\n",
       " '__le__',\n",
       " '__lt__',\n",
       " '__module__',\n",
       " '__ne__',\n",
       " '__new__',\n",
       " '__reduce__',\n",
       " '__reduce_ex__',\n",
       " '__repr__',\n",
       " '__setattr__',\n",
       " '__sizeof__',\n",
       " '__str__',\n",
       " '__subclasshook__',\n",
       " '__weakref__',\n",
       " 'name',\n",
       " 'organization_name',\n",
       " 'speak',\n",
       " 'teacher_id',\n",
       " 'teaching']"
      ]
     },
     "execution_count": 4,
     "metadata": {},
     "output_type": "execute_result"
    }
   ],
   "source": [
    "dir(obj1)"
   ]
  },
  {
   "cell_type": "code",
   "execution_count": 19,
   "metadata": {},
   "outputs": [],
   "source": [
    "class Teacher():\n",
    "    def __init__(this,teacher_id : int, teacher_name : str) -> None: # method/constructor\n",
    "        this.name : str = teacher_name  # attributes\n",
    "        this.teacher_id : int = teacher_id # attributes\n",
    "        this.organization_name : str = \"PIAIC\" # attributes\n",
    "\n",
    "    def speak(self,words : str)-> None: # method\n",
    "        display(f\"{self.name} is speaking {words}\")\n",
    "\n",
    "    def teaching(self,subject : str)->None: # method    \n",
    "        display(f\"{self.name} is teaching {subject}...!\")\n",
    "    \n",
    "obj1 : Teacher = Teacher(1,\"Sir Zia\") # initialize object -> calling constructor function only this time\n",
    "obj2 : Teacher = Teacher(2,\"Muhammad Qasim\")\n"
   ]
  },
  {
   "cell_type": "markdown",
   "metadata": {},
   "source": [
    "# Class Variable"
   ]
  },
  {
   "cell_type": "code",
   "execution_count": 32,
   "metadata": {},
   "outputs": [
    {
     "data": {
      "text/plain": [
       "1"
      ]
     },
     "metadata": {},
     "output_type": "display_data"
    },
    {
     "data": {
      "text/plain": [
       "1"
      ]
     },
     "metadata": {},
     "output_type": "display_data"
    }
   ],
   "source": [
    "class Teacher():\n",
    "    counter : int = 0 # class variable1\n",
    "    help_line_number : str = \"+92 323 54 602 54\" # class variable2\n",
    "    def __init__(self,teacher_id : int, teacher_name : str) -> None: # method/constructor\n",
    "        self.name : str = teacher_name  # attributes\n",
    "        self.teacher_id : int = teacher_id # attributes\n",
    "        self.organization_name : str = \"PIAIC\" # attributes\n",
    "        Teacher.counter+=1\n",
    "\n",
    "    def speak(self,words : str)-> None: # method\n",
    "        display(f\"{self.name} is speaking {words}\")\n",
    "\n",
    "    def teaching(self,subject : str)->None: # method    \n",
    "        display(f\"{self.name} is teaching {subject}...!\")\n",
    "    \n",
    "    def details(self)->None:\n",
    "        information : str = f\"\"\"\n",
    "Teacher name is {self.name}\n",
    "our help line number is {Teacher.help_line_number} \n",
    "\"\"\"\n",
    "        display(information)\n",
    "\n",
    "obj1:Teacher = Teacher(1,\"Sir Zia\")\n",
    "\n",
    "display(Teacher.counter,obj1.counter)\n"
   ]
  },
  {
   "cell_type": "code",
   "execution_count": 33,
   "metadata": {},
   "outputs": [
    {
     "data": {
      "text/plain": [
       "2"
      ]
     },
     "metadata": {},
     "output_type": "display_data"
    },
    {
     "data": {
      "text/plain": [
       "2"
      ]
     },
     "metadata": {},
     "output_type": "display_data"
    }
   ],
   "source": [
    "obj2 : Teacher = Teacher(2,\"Muhammad Qasim\")\n",
    "display(Teacher.counter,obj1.counter)"
   ]
  },
  {
   "cell_type": "code",
   "execution_count": 34,
   "metadata": {},
   "outputs": [
    {
     "data": {
      "text/plain": [
       "2"
      ]
     },
     "metadata": {},
     "output_type": "display_data"
    },
    {
     "data": {
      "text/plain": [
       "2"
      ]
     },
     "metadata": {},
     "output_type": "display_data"
    },
    {
     "data": {
      "text/plain": [
       "2"
      ]
     },
     "metadata": {},
     "output_type": "display_data"
    },
    {
     "data": {
      "text/plain": [
       "'+92 323 54 602 54'"
      ]
     },
     "metadata": {},
     "output_type": "display_data"
    },
    {
     "data": {
      "text/plain": [
       "'+92 323 54 602 54'"
      ]
     },
     "metadata": {},
     "output_type": "display_data"
    },
    {
     "data": {
      "text/plain": [
       "'+92 323 54 602 54'"
      ]
     },
     "metadata": {},
     "output_type": "display_data"
    }
   ],
   "source": [
    "display(obj1.counter)\n",
    "display(obj2.counter)\n",
    "display(Teacher.counter)\n",
    "\n",
    "display(obj1.help_line_number)\n",
    "display(obj2.help_line_number)\n",
    "display(Teacher.help_line_number)"
   ]
  },
  {
   "cell_type": "code",
   "execution_count": 31,
   "metadata": {},
   "outputs": [
    {
     "data": {
      "text/plain": [
       "'\\nTeacher name is Sir Zia\\nour help line number is +92 323 54 602 54 \\n'"
      ]
     },
     "metadata": {},
     "output_type": "display_data"
    }
   ],
   "source": [
    "obj1.details()"
   ]
  },
  {
   "cell_type": "code",
   "execution_count": 3,
   "metadata": {},
   "outputs": [
    {
     "data": {
      "text/plain": [
       "'Brown'"
      ]
     },
     "metadata": {},
     "output_type": "display_data"
    },
    {
     "data": {
      "text/plain": [
       "'Black'"
      ]
     },
     "metadata": {},
     "output_type": "display_data"
    },
    {
     "data": {
      "text/plain": [
       "'Parents method speak Pakistan Zindabad!'"
      ]
     },
     "metadata": {},
     "output_type": "display_data"
    },
    {
     "data": {
      "text/plain": [
       "None"
      ]
     },
     "metadata": {},
     "output_type": "display_data"
    },
    {
     "data": {
      "text/plain": [
       "'You are looking TV!'"
      ]
     },
     "metadata": {},
     "output_type": "display_data"
    },
    {
     "data": {
      "text/plain": [
       "None"
      ]
     },
     "metadata": {},
     "output_type": "display_data"
    },
    {
     "data": {
      "text/plain": [
       "'You are looking Cinema!'"
      ]
     },
     "metadata": {},
     "output_type": "display_data"
    },
    {
     "data": {
      "text/plain": [
       "'Parents method speak Hello World'"
      ]
     },
     "metadata": {},
     "output_type": "display_data"
    },
    {
     "data": {
      "text/plain": [
       "'Brown'"
      ]
     },
     "metadata": {},
     "output_type": "display_data"
    },
    {
     "data": {
      "text/plain": [
       "'Black'"
      ]
     },
     "metadata": {},
     "output_type": "display_data"
    },
    {
     "data": {
      "text/plain": [
       "'Child method for teaching:Generative AI'"
      ]
     },
     "metadata": {},
     "output_type": "display_data"
    }
   ],
   "source": [
    "# Inheritance\n",
    "class Parents():\n",
    "    def __init__(self) -> None:\n",
    "        self.eye_color = \"Brown\"\n",
    "        self.hair_color = \"Black\"\n",
    "    def speak(self,words:str)->None:\n",
    "        display(f\"Parents method speak {words}\")\n",
    "    def watching(self,object_name:str)->None:\n",
    "        display(f\"You are looking {object_name}!\")\n",
    "    \n",
    "class Child(Parents):\n",
    "        def teaching(self,subject:str = None)->None:\n",
    "             display(f\"Child method for teaching:{subject}\")\n",
    "\n",
    "obj1 : Parents = Parents()\n",
    "display(obj1.eye_color)\n",
    "display(obj1.hair_color)\n",
    "display(obj1.speak(\"Pakistan Zindabad!\"))\n",
    "display(obj1.watching(\"TV\"))\n",
    "\n",
    "## Child Object\n",
    "\n",
    "obj2 : Child =Child()\n",
    "obj2.watching(\"Cinema\")\n",
    "obj2.speak(\"Hello World\")\n",
    "display(obj2.eye_color)\n",
    "display(obj2.hair_color)\n",
    "obj2.teaching(\"Generative AI\")"
   ]
  },
  {
   "cell_type": "code",
   "execution_count": 1,
   "metadata": {},
   "outputs": [
    {
     "data": {
      "text/plain": [
       "'Animation Artist'"
      ]
     },
     "metadata": {},
     "output_type": "display_data"
    },
    {
     "data": {
      "text/plain": [
       "['Python']"
      ]
     },
     "metadata": {},
     "output_type": "display_data"
    }
   ],
   "source": [
    "class Employee():\n",
    "    def __init__(self) -> None:\n",
    "        self.name : str = \"\"\n",
    "        self.education : str = \"\"\n",
    "        self.department : str = \"\"\n",
    "\n",
    "class Designer(Employee):\n",
    "    def __init__(self,title: str) -> None:\n",
    "        super().__init__()\n",
    "        self.title : str = title\n",
    "\n",
    "class Developer(Employee):\n",
    "    def __init__(self,title: str) -> None:\n",
    "        super().__init__()\n",
    "        self.title: str = title\n",
    "        self.programming_skills : list[str] = [\"Python\"]\n",
    "\n",
    "\n",
    "designer1 : Designer = Designer(\"Animation Artist\")\n",
    "\n",
    "dev1 : Developer = Developer(\"GenAI Engineer\")\n",
    "\n",
    "display(designer1.title)\n",
    "\n",
    "display(dev1.programming_skills)\n"
   ]
  }
 ],
 "metadata": {
  "kernelspec": {
   "display_name": "python12",
   "language": "python",
   "name": "python3"
  },
  "language_info": {
   "codemirror_mode": {
    "name": "ipython",
    "version": 3
   },
   "file_extension": ".py",
   "mimetype": "text/x-python",
   "name": "python",
   "nbconvert_exporter": "python",
   "pygments_lexer": "ipython3",
   "version": "3.12.0"
  }
 },
 "nbformat": 4,
 "nbformat_minor": 2
}
