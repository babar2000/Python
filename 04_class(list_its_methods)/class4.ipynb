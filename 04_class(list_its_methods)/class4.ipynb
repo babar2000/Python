{
 "cells": [
  {
   "cell_type": "code",
   "execution_count": 16,
   "metadata": {},
   "outputs": [],
   "source": [
    "name1: str = \"Zain\"\n",
    "name2: str = \"Babar\"\n",
    "name3: str = \"Munib\""
   ]
  },
  {
   "cell_type": "markdown",
   "metadata": {},
   "source": [
    "# List\n",
    "* dynamic length (unlimited varaibles-no limit)\n",
    "* hetrogeneous data types (multiple types)\n",
    "* index\n",
    "    * positive 0 to n-1\n",
    "    * negative -1 to length\n",
    "# slicing always from left to right and display in form of list\n",
    "* start : int = include\n",
    "* end : int = n-1\n",
    "* step : int = sequence \n"
   ]
  },
  {
   "cell_type": "code",
   "execution_count": 17,
   "metadata": {},
   "outputs": [
    {
     "data": {
      "text/plain": [
       "'Zain'"
      ]
     },
     "metadata": {},
     "output_type": "display_data"
    },
    {
     "data": {
      "text/plain": [
       "'Zain'"
      ]
     },
     "metadata": {},
     "output_type": "display_data"
    },
    {
     "data": {
      "text/plain": [
       "'Qasim'"
      ]
     },
     "metadata": {},
     "output_type": "display_data"
    }
   ],
   "source": [
    "# ->        0       1       2\n",
    "names = [\"Zain\",\"Qasim\",\"Ali\"]\n",
    "# <-        -3      -2      -1\n",
    "display(names[0])\n",
    "display(names[-3])\n",
    "display(names[-2])"
   ]
  },
  {
   "cell_type": "code",
   "execution_count": 18,
   "metadata": {},
   "outputs": [
    {
     "data": {
      "text/plain": [
       "list"
      ]
     },
     "metadata": {},
     "output_type": "display_data"
    },
    {
     "data": {
      "text/plain": [
       "'Babar'"
      ]
     },
     "metadata": {},
     "output_type": "display_data"
    },
    {
     "data": {
      "text/plain": [
       "'founder of PIAIC ZAIN'"
      ]
     },
     "metadata": {},
     "output_type": "display_data"
    },
    {
     "data": {
      "text/plain": [
       "str"
      ]
     },
     "metadata": {},
     "output_type": "display_data"
    }
   ],
   "source": [
    "from typing import Any\n",
    "names: list[Any] = [\"Zain\",\"Babar\",\"Ali\"]\n",
    "display(type(names))\n",
    "display(names[-2])\n",
    "display(f\"founder of PIAIC {names[-3].upper()}\")\n",
    "display(type(names[-2]))"
   ]
  },
  {
   "cell_type": "code",
   "execution_count": 19,
   "metadata": {},
   "outputs": [
    {
     "data": {
      "text/plain": [
       "['A',\n",
       " 'B',\n",
       " 'C',\n",
       " 'D',\n",
       " 'E',\n",
       " 'F',\n",
       " 'G',\n",
       " 'H',\n",
       " 'I',\n",
       " 'J',\n",
       " 'K',\n",
       " 'L',\n",
       " 'M',\n",
       " 'N',\n",
       " 'O',\n",
       " 'P',\n",
       " 'Q',\n",
       " 'R',\n",
       " 'S',\n",
       " 'T',\n",
       " 'U',\n",
       " 'V',\n",
       " 'W',\n",
       " 'X',\n",
       " 'Y',\n",
       " 'Z']"
      ]
     },
     "metadata": {},
     "output_type": "display_data"
    }
   ],
   "source": [
    "characters: list[str] = list(\"ABCDEFGHIJKLMNOPQRSTUVWXYZ\")\n",
    "display(characters)"
   ]
  },
  {
   "cell_type": "code",
   "execution_count": 20,
   "metadata": {},
   "outputs": [
    {
     "data": {
      "text/plain": [
       "['A', 'B']"
      ]
     },
     "metadata": {},
     "output_type": "display_data"
    },
    {
     "data": {
      "text/plain": [
       "['A', 'B']"
      ]
     },
     "metadata": {},
     "output_type": "display_data"
    },
    {
     "data": {
      "text/plain": [
       "['A', 'B']"
      ]
     },
     "metadata": {},
     "output_type": "display_data"
    },
    {
     "data": {
      "text/plain": [
       "['A', 'B']"
      ]
     },
     "metadata": {},
     "output_type": "display_data"
    },
    {
     "data": {
      "text/plain": [
       "['A', 'B']"
      ]
     },
     "metadata": {},
     "output_type": "display_data"
    },
    {
     "data": {
      "text/plain": [
       "['A', 'C', 'E', 'G', 'I', 'K', 'M', 'O', 'Q', 'S', 'U', 'W', 'Y']"
      ]
     },
     "metadata": {},
     "output_type": "display_data"
    },
    {
     "data": {
      "text/plain": [
       "['Z',\n",
       " 'Y',\n",
       " 'X',\n",
       " 'W',\n",
       " 'V',\n",
       " 'U',\n",
       " 'T',\n",
       " 'S',\n",
       " 'R',\n",
       " 'Q',\n",
       " 'P',\n",
       " 'O',\n",
       " 'N',\n",
       " 'M',\n",
       " 'L',\n",
       " 'K',\n",
       " 'J',\n",
       " 'I',\n",
       " 'H',\n",
       " 'G',\n",
       " 'F',\n",
       " 'E',\n",
       " 'D',\n",
       " 'C',\n",
       " 'B',\n",
       " 'A']"
      ]
     },
     "metadata": {},
     "output_type": "display_data"
    }
   ],
   "source": [
    "characters: list[str] = (['A',\n",
    " 'B',\n",
    " 'C',\n",
    " 'D',\n",
    " 'E',\n",
    " 'F',\n",
    " 'G',\n",
    " 'H',\n",
    " 'I',\n",
    " 'J',\n",
    " 'K',\n",
    " 'L',\n",
    " 'M',\n",
    " 'N',\n",
    " 'O',\n",
    " 'P',\n",
    " 'Q',\n",
    " 'R',\n",
    " 'S',\n",
    " 'T',\n",
    " 'U',\n",
    " 'V',\n",
    " 'W',\n",
    " 'X',\n",
    " 'Y',\n",
    " 'Z'])\n",
    "\n",
    "display(characters[0:2]) # 0=include : index 2-1=1\n",
    "display(characters[:2]) # not pass any number = all\n",
    "display(characters[-26:-24]) # 0-include : index -24-1=-25\n",
    "display(characters[0:2:1]) \n",
    "display(characters[0:2])\n",
    "display(characters[::2])\n",
    "display(characters[::-1])"
   ]
  },
  {
   "cell_type": "code",
   "execution_count": 22,
   "metadata": {},
   "outputs": [
    {
     "data": {
      "text/plain": [
       "['B', 'C', 'D', 'E']"
      ]
     },
     "metadata": {},
     "output_type": "display_data"
    },
    {
     "data": {
      "text/plain": [
       "['G', 'F', 'E']"
      ]
     },
     "metadata": {},
     "output_type": "display_data"
    }
   ],
   "source": [
    "characters: list[str] = (['A',\n",
    " 'B',\n",
    " 'C',\n",
    " 'D',\n",
    " 'E',\n",
    " 'F',\n",
    " 'G',\n",
    " 'H',])\n",
    "display(characters[1:-3])\n",
    "display(characters[-2:-5:-1])"
   ]
  },
  {
   "cell_type": "markdown",
   "metadata": {},
   "source": [
    "List Methods"
   ]
  },
  {
   "cell_type": "code",
   "execution_count": 26,
   "metadata": {},
   "outputs": [
    {
     "data": {
      "text/plain": [
       "['Zain', 'Babar', 'Ali', 20, True]"
      ]
     },
     "metadata": {},
     "output_type": "display_data"
    },
    {
     "data": {
      "text/plain": [
       "['Zain Babar', 'Babar', 'Ali', 20, True]"
      ]
     },
     "metadata": {},
     "output_type": "display_data"
    }
   ],
   "source": [
    "names : list[Any] = [\"Zain\",\"Babar\",\"Ali\",20,True]\n",
    "display(names)\n",
    "names[0] = \"Zain Babar\" # mutable-> editable\n",
    "display(names)"
   ]
  }
 ],
 "metadata": {
  "kernelspec": {
   "display_name": "python12",
   "language": "python",
   "name": "python3"
  },
  "language_info": {
   "codemirror_mode": {
    "name": "ipython",
    "version": 3
   },
   "file_extension": ".py",
   "mimetype": "text/x-python",
   "name": "python",
   "nbconvert_exporter": "python",
   "pygments_lexer": "ipython3",
   "version": "3.12.0"
  }
 },
 "nbformat": 4,
 "nbformat_minor": 2
}
