{
 "cells": [
  {
   "cell_type": "markdown",
   "metadata": {},
   "source": [
    "# if-else-elif\n",
    "* if logic:\n",
    "        True_block\n",
    "    else:\n",
    "        False_block\n",
    "# comprehensive if-else\n",
    "* True_block if logic else False_bock"
   ]
  },
  {
   "cell_type": "code",
   "execution_count": 1,
   "metadata": {},
   "outputs": [
    {
     "data": {
      "text/plain": [
       "'Pakistan Zindabad'"
      ]
     },
     "metadata": {},
     "output_type": "display_data"
    }
   ],
   "source": [
    "if True:\n",
    "        display(\"Pakistan Zindabad\")\n",
    "\n",
    "else:\n",
    "        display(\"Hello World\")\n"
   ]
  },
  {
   "cell_type": "code",
   "execution_count": 2,
   "metadata": {},
   "outputs": [
    {
     "data": {
      "text/plain": [
       "'Hello World'"
      ]
     },
     "metadata": {},
     "output_type": "display_data"
    }
   ],
   "source": [
    "if False:\n",
    "        display(\"Pakistan Zindabad\")\n",
    "\n",
    "else:\n",
    "        display(\"Hello World\")\n"
   ]
  },
  {
   "cell_type": "code",
   "execution_count": 3,
   "metadata": {},
   "outputs": [
    {
     "data": {
      "text/plain": [
       "'Pakistan Zindabad'"
      ]
     },
     "metadata": {},
     "output_type": "display_data"
    }
   ],
   "source": [
    "# comprehensive if else\n",
    "display(\"Pakistan Zindabad\") if True else display(\"Hello World\")"
   ]
  },
  {
   "cell_type": "code",
   "execution_count": 5,
   "metadata": {},
   "outputs": [
    {
     "data": {
      "text/plain": [
       "'Hello World'"
      ]
     },
     "metadata": {},
     "output_type": "display_data"
    }
   ],
   "source": [
    "# comprehensive if else\n",
    "#   True_block                  logic           False_block\n",
    "display(\"Pakistan Zindabad\") if False else display(\"Hello World\")"
   ]
  },
  {
   "cell_type": "markdown",
   "metadata": {},
   "source": [
    "# Comparison Operator\n",
    "* ==\n",
    "* '>='\n",
    "* <=\n",
    "## logic\n",
    "* and\n",
    "* or\n",
    "* not"
   ]
  },
  {
   "cell_type": "code",
   "execution_count": 10,
   "metadata": {},
   "outputs": [
    {
     "data": {
      "text/plain": [
       "'elif logic1'"
      ]
     },
     "metadata": {},
     "output_type": "display_data"
    },
    {
     "data": {
      "text/plain": [
       "'Pakistan'"
      ]
     },
     "metadata": {},
     "output_type": "display_data"
    }
   ],
   "source": [
    "if False:\n",
    "    display(\"True_block\")\n",
    "elif True:\n",
    "    display(\"elif logic1\")\n",
    "elif True:\n",
    "    display(\"elif logic2\")\n",
    "elif False:\n",
    "    display(\"elif logic3\")\n",
    "else:\n",
    "    display(\"final else block\")\n",
    "display(\"Pakistan\")\n"
   ]
  },
  {
   "cell_type": "markdown",
   "metadata": {},
   "source": [
    "Grading Rule"
   ]
  },
  {
   "cell_type": "code",
   "execution_count": 2,
   "metadata": {},
   "outputs": [
    {
     "name": "stdout",
     "output_type": "stream",
     "text": [
      "Dear Student your percentage is 88 now your calculated grade is: \tA+\n"
     ]
    }
   ],
   "source": [
    "# union type (assign multiple types)\n",
    "from typing import Union\n",
    "\n",
    "percentage : Union[int,float] = 88\n",
    "grade : Union[str,None] = 7\n",
    "\n",
    "if percentage >= 80:\n",
    "    grade = \"A+\"\n",
    "elif percentage >= 70:\n",
    "    grade = \"A\"\n",
    "elif percentage >= 60:\n",
    "    grade = \"B\"\n",
    "elif percentage >= 50:\n",
    "    grade = \"C\"\n",
    "elif percentage >= 40:\n",
    "    grade = \"D\"\n",
    "elif percentage >= 33:\n",
    "    grade = \"E\"\n",
    "else:\n",
    "    grade = \"Fail\"\n",
    "print(f\"Dear Student your percentage is {percentage} now your calculated grade is: \\t{grade}\")\n"
   ]
  },
  {
   "cell_type": "code",
   "execution_count": 1,
   "metadata": {},
   "outputs": [
    {
     "name": "stdout",
     "output_type": "stream",
     "text": [
      "Dear Student your percentage is 88.0 now your calculated grade is: \tA+\n"
     ]
    }
   ],
   "source": [
    "# union type (assign multiple types)\n",
    "from typing import Union\n",
    "\n",
    "percentage : Union[int,float] = float(input(\"Enter your percentage:\\t\"))\n",
    "# per : int | float = 88\n",
    "grade : Union[str,None] = 7 \n",
    "\n",
    "if percentage >= 80:\n",
    "    grade = \"A+\"\n",
    "elif percentage >= 70:\n",
    "    grade = \"A\"\n",
    "elif percentage >= 60:\n",
    "    grade = \"B\"\n",
    "elif percentage >= 50:\n",
    "    grade = \"C\"\n",
    "elif percentage >= 40:\n",
    "    grade = \"D\"\n",
    "elif percentage >= 33:\n",
    "    grade = \"E\"\n",
    "else:\n",
    "    grade = \"Fail\"\n",
    "print(f\"Dear Student your percentage is {percentage} now your calculated grade is: \\t{grade}\")\n"
   ]
  },
  {
   "cell_type": "code",
   "execution_count": 26,
   "metadata": {},
   "outputs": [
    {
     "name": "stdout",
     "output_type": "stream",
     "text": [
      "Dear Student your peercentage is 89.9 now your calculated grade is: \tA+\n"
     ]
    }
   ],
   "source": [
    "# union type (assign multiple types)\n",
    "from typing import Union\n",
    "\n",
    "percentage : Union[int,float] = float(input(\"Enter your percentage\"))\n",
    "grade : Union[str,None] = 7 \n",
    "\n",
    "if (percentage >= 80) and (percentage <100):\n",
    "    grade = \"A+\"\n",
    "elif (percentage >= 70) and (percentage < 80):\n",
    "    grade = \"A\"\n",
    "elif (percentage >= 60) and (percentage < 70):\n",
    "    grade = \"B\"\n",
    "elif (percentage >= 50) and (percentage < 60):\n",
    "    grade = \"C\"\n",
    "elif (percentage >= 40) and (percentage < 50):\n",
    "    grade = \"D\"\n",
    "elif (percentage >= 33 and percentage < 40):\n",
    "    grade = \"E\"\n",
    "else:\n",
    "    grade = \"Fail\"\n",
    "print(f\"Dear Student your peercentage is {percentage} now your calculated grade is: \\t{grade}\")\n"
   ]
  },
  {
   "cell_type": "markdown",
   "metadata": {},
   "source": [
    "Student percentage Alias type"
   ]
  },
  {
   "cell_type": "code",
   "execution_count": 62,
   "metadata": {},
   "outputs": [
    {
     "name": "stdout",
     "output_type": "stream",
     "text": [
      "[88, 99.9, 50, 51, 65, 70]\n",
      "['A+', 'A+', 'C', 'C', 'B', 'A']\n"
     ]
    }
   ],
   "source": [
    "from typing import Union\n",
    "PerType = Union[float,int]\n",
    "percentages : list[PerType] = [88,99.9,50,51,65,70]\n",
    "grades : list[str] = []\n",
    "\n",
    "for per in percentages:\n",
    "    grade : str = \"\"\n",
    "\n",
    "    if (per >= 0) and (per <33):\n",
    "        grade = \"Fail\"\n",
    "    elif (per >= 33) and (per < 40):\n",
    "        grade = \"E\"\n",
    "    elif (per >= 40) and (per < 50):\n",
    "        grade = \"D\"\n",
    "    elif (per >= 50) and (per < 60):\n",
    "        grade = \"C\"\n",
    "    elif (per >= 60) and (per < 70):\n",
    "        grade = \"B\"\n",
    "    elif (per >= 70 and per < 80):\n",
    "        grade = \"A\"\n",
    "    elif (per >= 80 and per < 100):\n",
    "        grade = \"A+\"\n",
    "\n",
    "    grades.append(grade)\n",
    "\n",
    "print(percentages)\n",
    "print(grades)"
   ]
  },
  {
   "cell_type": "code",
   "execution_count": 65,
   "metadata": {},
   "outputs": [
    {
     "data": {
      "text/plain": [
       "[(88, 'A+'), (99.9, 'A+'), (50, 'C'), (51, 'C'), (65, 'B'), (70, 'A')]"
      ]
     },
     "execution_count": 65,
     "metadata": {},
     "output_type": "execute_result"
    }
   ],
   "source": [
    "list(zip(percentages,grades))"
   ]
  },
  {
   "cell_type": "code",
   "execution_count": 68,
   "metadata": {},
   "outputs": [
    {
     "data": {
      "text/plain": [
       "[0, 1, 2, 3, 4, 5]"
      ]
     },
     "execution_count": 68,
     "metadata": {},
     "output_type": "execute_result"
    }
   ],
   "source": [
    "roll_no : list[int] = list(range(len(percentages)))\n",
    "roll_no"
   ]
  },
  {
   "cell_type": "code",
   "execution_count": 70,
   "metadata": {},
   "outputs": [
    {
     "data": {
      "text/plain": [
       "[(0, 88, 'A+'),\n",
       " (1, 99.9, 'A+'),\n",
       " (2, 50, 'C'),\n",
       " (3, 51, 'C'),\n",
       " (4, 65, 'B'),\n",
       " (5, 70, 'A')]"
      ]
     },
     "execution_count": 70,
     "metadata": {},
     "output_type": "execute_result"
    }
   ],
   "source": [
    "data_base = list(zip(roll_no,percentages,grades))\n",
    "data_base"
   ]
  },
  {
   "cell_type": "code",
   "execution_count": 73,
   "metadata": {},
   "outputs": [
    {
     "data": {
      "text/plain": [
       "[(0, 88, 'A+'),\n",
       " (1, 99.9, 'A+'),\n",
       " (2, 50, 'C'),\n",
       " (3, 51, 'C'),\n",
       " (4, 65, 'B'),\n",
       " (5, 70, 'A')]"
      ]
     },
     "execution_count": 73,
     "metadata": {},
     "output_type": "execute_result"
    }
   ],
   "source": [
    "sorted(data_base)"
   ]
  },
  {
   "cell_type": "code",
   "execution_count": 74,
   "metadata": {},
   "outputs": [
    {
     "data": {
      "text/plain": [
       "[(2, 50, 'C'),\n",
       " (3, 51, 'C'),\n",
       " (4, 65, 'B'),\n",
       " (5, 70, 'A'),\n",
       " (0, 88, 'A+'),\n",
       " (1, 99.9, 'A+')]"
      ]
     },
     "execution_count": 74,
     "metadata": {},
     "output_type": "execute_result"
    }
   ],
   "source": [
    "sorted(data_base,key=lambda x:x[1])"
   ]
  },
  {
   "cell_type": "code",
   "execution_count": 77,
   "metadata": {},
   "outputs": [
    {
     "data": {
      "text/plain": [
       "[(1, 99.9, 'A+'),\n",
       " (0, 88, 'A+'),\n",
       " (5, 70, 'A'),\n",
       " (4, 65, 'B'),\n",
       " (3, 51, 'C'),\n",
       " (2, 50, 'C')]"
      ]
     },
     "execution_count": 77,
     "metadata": {},
     "output_type": "execute_result"
    }
   ],
   "source": [
    "sorted(data_base,key=lambda x:x[1], reverse=True)"
   ]
  },
  {
   "cell_type": "code",
   "execution_count": 81,
   "metadata": {},
   "outputs": [
    {
     "data": {
      "text/plain": [
       "'Audi'"
      ]
     },
     "metadata": {},
     "output_type": "display_data"
    },
    {
     "data": {
      "text/plain": [
       "'BMW'"
      ]
     },
     "metadata": {},
     "output_type": "display_data"
    },
    {
     "data": {
      "text/plain": [
       "'Toyota'"
      ]
     },
     "metadata": {},
     "output_type": "display_data"
    },
    {
     "data": {
      "text/plain": [
       "'Honda'"
      ]
     },
     "metadata": {},
     "output_type": "display_data"
    }
   ],
   "source": [
    "cars : list[str] = [\"audi\",\"bmw\",\"toyota\",\"honda\"]\n",
    "for car in cars:\n",
    "    if car == \"bmw\":\n",
    "        display(car.upper())\n",
    "    else:\n",
    "        display(car.title())"
   ]
  },
  {
   "cell_type": "code",
   "execution_count": 82,
   "metadata": {},
   "outputs": [
    {
     "data": {
      "text/plain": [
       "['Audi', 'BMW', 'Toyota', 'Honda']"
      ]
     },
     "execution_count": 82,
     "metadata": {},
     "output_type": "execute_result"
    }
   ],
   "source": [
    "cars : list[str] = [\"audi\",\"bmw\",\"toyota\",\"honda\"]\n",
    "[i.upper() if i == \"bmw\" else i.title() for i in cars]"
   ]
  },
  {
   "cell_type": "code",
   "execution_count": 83,
   "metadata": {},
   "outputs": [
    {
     "data": {
      "text/plain": [
       "False"
      ]
     },
     "execution_count": 83,
     "metadata": {},
     "output_type": "execute_result"
    }
   ],
   "source": [
    "cars : list[str] = [\"audi\",\"bmw\",\"toyota\",\"honda\"]\n",
    "\"changan\" in cars"
   ]
  },
  {
   "cell_type": "code",
   "execution_count": 84,
   "metadata": {},
   "outputs": [
    {
     "data": {
      "text/plain": [
       "True"
      ]
     },
     "execution_count": 84,
     "metadata": {},
     "output_type": "execute_result"
    }
   ],
   "source": [
    "cars : list[str] = [\"audi\",\"bmw\",\"toyota\",\"honda\"]\n",
    "\"honda\" in cars"
   ]
  },
  {
   "cell_type": "code",
   "execution_count": 85,
   "metadata": {},
   "outputs": [
    {
     "data": {
      "text/plain": [
       "True"
      ]
     },
     "metadata": {},
     "output_type": "display_data"
    },
    {
     "data": {
      "text/plain": [
       "'Ahmad, you can post a response if you wish.'"
      ]
     },
     "metadata": {},
     "output_type": "display_data"
    }
   ],
   "source": [
    "banned_users : list[str] = [\"zain\",\"ali\",\"nomi\"]\n",
    "user : str = \"ahmad\"\n",
    "display(user not in banned_users)\n",
    "if user not in banned_users:\n",
    "    display(f\"{user.title()}, you can post a response if you wish.\")"
   ]
  },
  {
   "cell_type": "code",
   "execution_count": 87,
   "metadata": {},
   "outputs": [
    {
     "data": {
      "text/plain": [
       "'Adding extra cheese.'"
      ]
     },
     "metadata": {},
     "output_type": "display_data"
    },
    {
     "data": {
      "text/plain": [
       "'\\n Finished making your pizza!'"
      ]
     },
     "metadata": {},
     "output_type": "display_data"
    }
   ],
   "source": [
    "requested_topings : list[str] = [\"mashrooms\",\"extra cheese\"]\n",
    "\n",
    "if \"mushrooms\" in requested_topings:\n",
    "    display(\"Adding mashrooms.\")\n",
    "if \"pepporini\" in requested_topings:\n",
    "    display(\"Adding pepporini.\")\n",
    "if \"extra cheese\" in requested_topings:\n",
    "    display(\"Adding extra cheese.\")\n",
    "\n",
    "display(\"\\nFinished making your pizza!\")"
   ]
  },
  {
   "cell_type": "code",
   "execution_count": 3,
   "metadata": {},
   "outputs": [
    {
     "data": {
      "text/plain": [
       "'Sent OTP on your registered number'"
      ]
     },
     "metadata": {},
     "output_type": "display_data"
    },
    {
     "data": {
      "text/plain": [
       "'welcome PIAIC'"
      ]
     },
     "metadata": {},
     "output_type": "display_data"
    }
   ],
   "source": [
    "user_name : str = input(\"Enter user id:\\t\")\n",
    "user_password : str = input(\"Enter Pasword:\\t\")\n",
    "\n",
    "if user_name == \"admin\" and user_password == \"admin\":\n",
    "    display(\"Sent OTP on your registered number\")\n",
    "    otp: str = input(\"Please enter OTP\")\n",
    "    if otp == \"123\":\n",
    "        display(\"welcome PIAIC\")\n",
    "else:\n",
    "    display(\"Invalid user or password\")"
   ]
  }
 ],
 "metadata": {
  "kernelspec": {
   "display_name": "python12",
   "language": "python",
   "name": "python3"
  },
  "language_info": {
   "codemirror_mode": {
    "name": "ipython",
    "version": 3
   },
   "file_extension": ".py",
   "mimetype": "text/x-python",
   "name": "python",
   "nbconvert_exporter": "python",
   "pygments_lexer": "ipython3",
   "version": "3.12.2"
  }
 },
 "nbformat": 4,
 "nbformat_minor": 2
}
