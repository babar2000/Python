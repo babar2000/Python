{
 "cells": [
  {
   "cell_type": "code",
   "execution_count": 1,
   "metadata": {},
   "outputs": [
    {
     "data": {
      "text/plain": [
       "'logic1'"
      ]
     },
     "metadata": {},
     "output_type": "display_data"
    },
    {
     "data": {
      "text/plain": [
       "'logic2'"
      ]
     },
     "metadata": {},
     "output_type": "display_data"
    },
    {
     "data": {
      "text/plain": [
       "2.5"
      ]
     },
     "metadata": {},
     "output_type": "display_data"
    },
    {
     "data": {
      "text/plain": [
       "1"
      ]
     },
     "metadata": {},
     "output_type": "display_data"
    },
    {
     "data": {
      "text/plain": [
       "'ZeroDivisionError'"
      ]
     },
     "metadata": {},
     "output_type": "display_data"
    },
    {
     "data": {
      "text/plain": [
       "'logic4'"
      ]
     },
     "metadata": {},
     "output_type": "display_data"
    },
    {
     "data": {
      "text/plain": [
       "'logic5'"
      ]
     },
     "metadata": {},
     "output_type": "display_data"
    }
   ],
   "source": [
    "display(\"logic1\")\n",
    "display(\"logic2\")\n",
    "\n",
    "l1 : list[int] = [1,2,3]\n",
    "\n",
    "try:\n",
    "    display(5/2)\n",
    "    display(l1[0])\n",
    "    display(xyz) # error\n",
    "    \n",
    "except (ZeroDivisionError,IndexError,NameError):\n",
    "    display(\"ZeroDivisionError\")\n",
    "display(\"logic4\")\n",
    "display(\"logic5\")"
   ]
  },
  {
   "cell_type": "code",
   "execution_count": 1,
   "metadata": {},
   "outputs": [
    {
     "data": {
      "text/plain": [
       "'logic1'"
      ]
     },
     "metadata": {},
     "output_type": "display_data"
    },
    {
     "data": {
      "text/plain": [
       "'logic2'"
      ]
     },
     "metadata": {},
     "output_type": "display_data"
    },
    {
     "data": {
      "text/plain": [
       "2.5"
      ]
     },
     "metadata": {},
     "output_type": "display_data"
    },
    {
     "data": {
      "text/plain": [
       "1"
      ]
     },
     "metadata": {},
     "output_type": "display_data"
    },
    {
     "data": {
      "text/plain": [
       "'ZeroDivisionError'"
      ]
     },
     "metadata": {},
     "output_type": "display_data"
    },
    {
     "data": {
      "text/plain": [
       "'logic4'"
      ]
     },
     "metadata": {},
     "output_type": "display_data"
    },
    {
     "data": {
      "text/plain": [
       "'logic5'"
      ]
     },
     "metadata": {},
     "output_type": "display_data"
    }
   ],
   "source": [
    "display(\"logic1\")\n",
    "display(\"logic2\")\n",
    "\n",
    "l1 : list[int] = [1,2,3]\n",
    "\n",
    "try:\n",
    "    display(5/2)\n",
    "    display(l1[0])\n",
    "    display(xyz) # error\n",
    "    \n",
    "except (ZeroDivisionError,IndexError,NameError):\n",
    "    display(\"ZeroDivisionError\")\n",
    "except IndexError:\n",
    "    display(\"IndexError\")\n",
    "except NameError:\n",
    "    display(\"NameError\")\n",
    "except:\n",
    "    display(\"Some thing is wrong!\")\n",
    "display(\"logic4\")\n",
    "display(\"logic5\")"
   ]
  },
  {
   "cell_type": "code",
   "execution_count": 4,
   "metadata": {},
   "outputs": [
    {
     "data": {
      "text/plain": [
       "\"Some thing is wrong!\\nname 'age' is not defined\""
      ]
     },
     "metadata": {},
     "output_type": "display_data"
    }
   ],
   "source": [
    "try:\n",
    "    display(age)\n",
    "\n",
    "except Exception as e:\n",
    "    display(f\"Some thing is wrong!\\n{e}\")"
   ]
  },
  {
   "cell_type": "code",
   "execution_count": 5,
   "metadata": {},
   "outputs": [
    {
     "ename": "TypeError",
     "evalue": "exceptions must derive from BaseException",
     "output_type": "error",
     "traceback": [
      "\u001b[1;31m---------------------------------------------------------------------------\u001b[0m",
      "\u001b[1;31mTypeError\u001b[0m                                 Traceback (most recent call last)",
      "\u001b[1;32md:\\coding\\Python\\12_class(error_and_file_handling)\\class12.ipynb Cell 4\u001b[0m line \u001b[0;36m1\n\u001b[1;32m----> <a href='vscode-notebook-cell:/d%3A/coding/Python/12_class%28error_and_file_handling%29/class12.ipynb#W3sZmlsZQ%3D%3D?line=0'>1</a>\u001b[0m \u001b[39mraise\u001b[39;00m \u001b[39m\"\u001b[39m\u001b[39maa\u001b[39m\u001b[39m\"\u001b[39m\n",
      "\u001b[1;31mTypeError\u001b[0m: exceptions must derive from BaseException"
     ]
    }
   ],
   "source": [
    "raise \"aa\""
   ]
  },
  {
   "cell_type": "code",
   "execution_count": 7,
   "metadata": {},
   "outputs": [
    {
     "data": {
      "text/plain": [
       "'Zain Babar'"
      ]
     },
     "metadata": {},
     "output_type": "display_data"
    },
    {
     "data": {
      "text/plain": [
       "1"
      ]
     },
     "metadata": {},
     "output_type": "display_data"
    },
    {
     "data": {
      "text/plain": [
       "30"
      ]
     },
     "metadata": {},
     "output_type": "display_data"
    }
   ],
   "source": [
    "class StudentCard():\n",
    "    def __init__(self,roll_no:int, name:str, age:int) -> None:\n",
    "        if age < 18 or age > 60:\n",
    "            raise StudentAgeError(\"You are not eligible for this program!\")\n",
    "        self.roll_no = roll_no\n",
    "        self.name = name\n",
    "        self.age = age\n",
    "\n",
    "class StudentAgeError(Exception): # custom error class\n",
    "    pass\n",
    "\n",
    "Student1 = StudentCard(1,\"Zain Babar\",30)\n",
    "display(Student1.name,Student1.roll_no,Student1.age)"
   ]
  },
  {
   "cell_type": "code",
   "execution_count": 8,
   "metadata": {},
   "outputs": [
    {
     "ename": "StudentAgeError",
     "evalue": "You are not eligible for this program!",
     "output_type": "error",
     "traceback": [
      "\u001b[1;31m---------------------------------------------------------------------------\u001b[0m",
      "\u001b[1;31mStudentAgeError\u001b[0m                           Traceback (most recent call last)",
      "\u001b[1;32md:\\coding\\Python\\12_class(error_and_file_handling)\\class12.ipynb Cell 6\u001b[0m line \u001b[0;36m1\n\u001b[1;32m----> <a href='vscode-notebook-cell:/d%3A/coding/Python/12_class%28error_and_file_handling%29/class12.ipynb#W5sZmlsZQ%3D%3D?line=0'>1</a>\u001b[0m Student1 \u001b[39m=\u001b[39m StudentCard(\u001b[39m1\u001b[39;49m,\u001b[39m\"\u001b[39;49m\u001b[39mAli\u001b[39;49m\u001b[39m\"\u001b[39;49m,\u001b[39m61\u001b[39;49m)\n\u001b[0;32m      <a href='vscode-notebook-cell:/d%3A/coding/Python/12_class%28error_and_file_handling%29/class12.ipynb#W5sZmlsZQ%3D%3D?line=1'>2</a>\u001b[0m display(Student1\u001b[39m.\u001b[39mname,Student1\u001b[39m.\u001b[39mroll_no,Student1\u001b[39m.\u001b[39mage)\n",
      "\u001b[1;32md:\\coding\\Python\\12_class(error_and_file_handling)\\class12.ipynb Cell 6\u001b[0m line \u001b[0;36m4\n\u001b[0;32m      <a href='vscode-notebook-cell:/d%3A/coding/Python/12_class%28error_and_file_handling%29/class12.ipynb#W5sZmlsZQ%3D%3D?line=1'>2</a>\u001b[0m \u001b[39mdef\u001b[39;00m \u001b[39m__init__\u001b[39m(\u001b[39mself\u001b[39m,roll_no:\u001b[39mint\u001b[39m, name:\u001b[39mstr\u001b[39m, age:\u001b[39mint\u001b[39m) \u001b[39m-\u001b[39m\u001b[39m>\u001b[39m \u001b[39mNone\u001b[39;00m:\n\u001b[0;32m      <a href='vscode-notebook-cell:/d%3A/coding/Python/12_class%28error_and_file_handling%29/class12.ipynb#W5sZmlsZQ%3D%3D?line=2'>3</a>\u001b[0m     \u001b[39mif\u001b[39;00m age \u001b[39m<\u001b[39m \u001b[39m18\u001b[39m \u001b[39mor\u001b[39;00m age \u001b[39m>\u001b[39m \u001b[39m60\u001b[39m:\n\u001b[1;32m----> <a href='vscode-notebook-cell:/d%3A/coding/Python/12_class%28error_and_file_handling%29/class12.ipynb#W5sZmlsZQ%3D%3D?line=3'>4</a>\u001b[0m         \u001b[39mraise\u001b[39;00m StudentAgeError(\u001b[39m\"\u001b[39m\u001b[39mYou are not eligible for this program!\u001b[39m\u001b[39m\"\u001b[39m)\n\u001b[0;32m      <a href='vscode-notebook-cell:/d%3A/coding/Python/12_class%28error_and_file_handling%29/class12.ipynb#W5sZmlsZQ%3D%3D?line=4'>5</a>\u001b[0m     \u001b[39mself\u001b[39m\u001b[39m.\u001b[39mroll_no \u001b[39m=\u001b[39m roll_no\n\u001b[0;32m      <a href='vscode-notebook-cell:/d%3A/coding/Python/12_class%28error_and_file_handling%29/class12.ipynb#W5sZmlsZQ%3D%3D?line=5'>6</a>\u001b[0m     \u001b[39mself\u001b[39m\u001b[39m.\u001b[39mname \u001b[39m=\u001b[39m name\n",
      "\u001b[1;31mStudentAgeError\u001b[0m: You are not eligible for this program!"
     ]
    }
   ],
   "source": [
    "Student1 = StudentCard(1,\"Ali\",61)\n",
    "display(Student1.name,Student1.roll_no,Student1.age)"
   ]
  },
  {
   "cell_type": "code",
   "execution_count": 9,
   "metadata": {},
   "outputs": [
    {
     "ename": "StudentAgeError",
     "evalue": "You are not eligible for this program!",
     "output_type": "error",
     "traceback": [
      "\u001b[1;31m---------------------------------------------------------------------------\u001b[0m",
      "\u001b[1;31mStudentAgeError\u001b[0m                           Traceback (most recent call last)",
      "\u001b[1;32md:\\coding\\Python\\12_class(error_and_file_handling)\\class12.ipynb Cell 7\u001b[0m line \u001b[0;36m1\n\u001b[1;32m----> <a href='vscode-notebook-cell:/d%3A/coding/Python/12_class%28error_and_file_handling%29/class12.ipynb#W6sZmlsZQ%3D%3D?line=0'>1</a>\u001b[0m Student1 \u001b[39m=\u001b[39m StudentCard(\u001b[39m1\u001b[39;49m,\u001b[39m\"\u001b[39;49m\u001b[39mAli\u001b[39;49m\u001b[39m\"\u001b[39;49m,\u001b[39m17\u001b[39;49m)\n\u001b[0;32m      <a href='vscode-notebook-cell:/d%3A/coding/Python/12_class%28error_and_file_handling%29/class12.ipynb#W6sZmlsZQ%3D%3D?line=1'>2</a>\u001b[0m display(Student1\u001b[39m.\u001b[39mname,Student1\u001b[39m.\u001b[39mroll_no,Student1\u001b[39m.\u001b[39mage)\n",
      "\u001b[1;32md:\\coding\\Python\\12_class(error_and_file_handling)\\class12.ipynb Cell 7\u001b[0m line \u001b[0;36m4\n\u001b[0;32m      <a href='vscode-notebook-cell:/d%3A/coding/Python/12_class%28error_and_file_handling%29/class12.ipynb#W6sZmlsZQ%3D%3D?line=1'>2</a>\u001b[0m \u001b[39mdef\u001b[39;00m \u001b[39m__init__\u001b[39m(\u001b[39mself\u001b[39m,roll_no:\u001b[39mint\u001b[39m, name:\u001b[39mstr\u001b[39m, age:\u001b[39mint\u001b[39m) \u001b[39m-\u001b[39m\u001b[39m>\u001b[39m \u001b[39mNone\u001b[39;00m:\n\u001b[0;32m      <a href='vscode-notebook-cell:/d%3A/coding/Python/12_class%28error_and_file_handling%29/class12.ipynb#W6sZmlsZQ%3D%3D?line=2'>3</a>\u001b[0m     \u001b[39mif\u001b[39;00m age \u001b[39m<\u001b[39m \u001b[39m18\u001b[39m \u001b[39mor\u001b[39;00m age \u001b[39m>\u001b[39m \u001b[39m60\u001b[39m:\n\u001b[1;32m----> <a href='vscode-notebook-cell:/d%3A/coding/Python/12_class%28error_and_file_handling%29/class12.ipynb#W6sZmlsZQ%3D%3D?line=3'>4</a>\u001b[0m         \u001b[39mraise\u001b[39;00m StudentAgeError(\u001b[39m\"\u001b[39m\u001b[39mYou are not eligible for this program!\u001b[39m\u001b[39m\"\u001b[39m)\n\u001b[0;32m      <a href='vscode-notebook-cell:/d%3A/coding/Python/12_class%28error_and_file_handling%29/class12.ipynb#W6sZmlsZQ%3D%3D?line=4'>5</a>\u001b[0m     \u001b[39mself\u001b[39m\u001b[39m.\u001b[39mroll_no \u001b[39m=\u001b[39m roll_no\n\u001b[0;32m      <a href='vscode-notebook-cell:/d%3A/coding/Python/12_class%28error_and_file_handling%29/class12.ipynb#W6sZmlsZQ%3D%3D?line=5'>6</a>\u001b[0m     \u001b[39mself\u001b[39m\u001b[39m.\u001b[39mname \u001b[39m=\u001b[39m name\n",
      "\u001b[1;31mStudentAgeError\u001b[0m: You are not eligible for this program!"
     ]
    }
   ],
   "source": [
    "Student1 = StudentCard(1,\"Ali\",17)\n",
    "display(Student1.name,Student1.roll_no,Student1.age)"
   ]
  },
  {
   "attachments": {
    "image.png": {
     "image/png": "[encoded data removed]"
    }
   },
   "cell_type": "markdown",
   "metadata": {},
   "source": [
    "# File Handling \n",
    "<img src =\"![image.png](attachment:image.png)\">\n",
    "![Alt text](image.png)\n",
    "open(\"./abc.txt\")"
   ]
  },
  {
   "cell_type": "code",
   "execution_count": 3,
   "metadata": {},
   "outputs": [
    {
     "data": {
      "text/plain": [
       "<_io.TextIOWrapper name='./abc.txt' mode='r' encoding='utf-8'>"
      ]
     },
     "execution_count": 3,
     "metadata": {},
     "output_type": "execute_result"
    }
   ],
   "source": [
    "data = open(\"./abc.txt\")\n",
    "data"
   ]
  },
  {
   "cell_type": "code",
   "execution_count": 4,
   "metadata": {},
   "outputs": [
    {
     "data": {
      "text/plain": [
       "['buffer',\n",
       " 'close',\n",
       " 'closed',\n",
       " 'detach',\n",
       " 'encoding',\n",
       " 'errors',\n",
       " 'fileno',\n",
       " 'flush',\n",
       " 'isatty',\n",
       " 'mode',\n",
       " 'name',\n",
       " 'newlines',\n",
       " 'read',\n",
       " 'readable',\n",
       " 'readline',\n",
       " 'readlines',\n",
       " 'reconfigure',\n",
       " 'seek',\n",
       " 'seekable',\n",
       " 'tell',\n",
       " 'truncate',\n",
       " 'writable',\n",
       " 'write',\n",
       " 'writelines']"
      ]
     },
     "execution_count": 4,
     "metadata": {},
     "output_type": "execute_result"
    }
   ],
   "source": [
    "[i for i in dir(data) if \"_\" not in i]"
   ]
  },
  {
   "cell_type": "code",
   "execution_count": 5,
   "metadata": {},
   "outputs": [
    {
     "data": {
      "text/plain": [
       "_io.TextIOWrapper"
      ]
     },
     "execution_count": 5,
     "metadata": {},
     "output_type": "execute_result"
    }
   ],
   "source": [
    "type(data)"
   ]
  },
  {
   "cell_type": "code",
   "execution_count": 7,
   "metadata": {},
   "outputs": [
    {
     "data": {
      "text/plain": [
       "'line1\\nline2'"
      ]
     },
     "metadata": {},
     "output_type": "display_data"
    }
   ],
   "source": [
    "from typing import TextIO\n",
    "data : TextIO = open(\"./abc.txt\") # connectivity with abc.txt file\n",
    "display(data.read())\n",
    "data.close() # close connectivity \n"
   ]
  },
  {
   "cell_type": "code",
   "execution_count": 10,
   "metadata": {},
   "outputs": [
    {
     "data": {
      "text/plain": [
       "_io.TextIOWrapper"
      ]
     },
     "metadata": {},
     "output_type": "display_data"
    },
    {
     "data": {
      "text/plain": [
       "'line1\\nline2\\nline3\\nline4\\nline5'"
      ]
     },
     "metadata": {},
     "output_type": "display_data"
    },
    {
     "data": {
      "text/plain": [
       "'Pakistan Zindabad'"
      ]
     },
     "metadata": {},
     "output_type": "display_data"
    }
   ],
   "source": [
    "with open (\"./abc.txt\") as file:\n",
    "    display(type(file))\n",
    "    display(file.read())\n",
    "\n",
    "display(\"Pakistan Zindabad\")"
   ]
  },
  {
   "cell_type": "code",
   "execution_count": 11,
   "metadata": {},
   "outputs": [
    {
     "data": {
      "text/plain": [
       "_io.TextIOWrapper"
      ]
     },
     "metadata": {},
     "output_type": "display_data"
    },
    {
     "data": {
      "text/plain": [
       "'line1\\n'"
      ]
     },
     "metadata": {},
     "output_type": "display_data"
    }
   ],
   "source": [
    "with open (\"./abc.txt\") as file:\n",
    "    display(type(file))\n",
    "    display(file.readline())\n",
    "\n"
   ]
  },
  {
   "cell_type": "code",
   "execution_count": 12,
   "metadata": {},
   "outputs": [
    {
     "data": {
      "text/plain": [
       "_io.TextIOWrapper"
      ]
     },
     "metadata": {},
     "output_type": "display_data"
    },
    {
     "data": {
      "text/plain": [
       "['line1\\n', 'line2\\n', 'line3\\n', 'line4\\n', 'line5']"
      ]
     },
     "metadata": {},
     "output_type": "display_data"
    }
   ],
   "source": [
    "with open (\"./abc.txt\") as file:\n",
    "    display(type(file))\n",
    "    display(file.readlines())\n",
    "\n"
   ]
  },
  {
   "cell_type": "code",
   "execution_count": 13,
   "metadata": {},
   "outputs": [
    {
     "data": {
      "text/plain": [
       "_io.TextIOWrapper"
      ]
     },
     "metadata": {},
     "output_type": "display_data"
    },
    {
     "data": {
      "text/plain": [
       "['line1\\n', 'line2\\n', 'line3\\n']"
      ]
     },
     "metadata": {},
     "output_type": "display_data"
    }
   ],
   "source": [
    "with open (\"./abc.txt\") as file:\n",
    "    display(type(file))\n",
    "    display(file.readlines()[:3])\n",
    "\n"
   ]
  },
  {
   "cell_type": "code",
   "execution_count": 14,
   "metadata": {},
   "outputs": [
    {
     "data": {
      "text/plain": [
       "_io.TextIOWrapper"
      ]
     },
     "metadata": {},
     "output_type": "display_data"
    },
    {
     "data": {
      "text/plain": [
       "'line1\\n'"
      ]
     },
     "metadata": {},
     "output_type": "display_data"
    },
    {
     "data": {
      "text/plain": [
       "'line2\\n'"
      ]
     },
     "metadata": {},
     "output_type": "display_data"
    }
   ],
   "source": [
    "with open (\"./abc.txt\") as file:\n",
    "    display(type(file))\n",
    "    display(file.readline())\n",
    "    display(file.readline())\n",
    "\n"
   ]
  },
  {
   "cell_type": "markdown",
   "metadata": {},
   "source": [
    "# r mode only read and cursor point is at the beginning\n",
    "# r+ mode read and write and cursor point is at the beginning\n",
    "# w mode can write and if file is not exist it will create cursor point is at the beginning\n",
    "# w+ mode can read and write and if file is not exist it will create cursor point is at the beginning\n",
    "# a mode can write and if file is not exist it will create and cursor point is at the ending\n",
    "# a+ mode can read and write and if file is not exist it will create and cursor point is at the ending"
   ]
  },
  {
   "cell_type": "code",
   "execution_count": 19,
   "metadata": {},
   "outputs": [
    {
     "data": {
      "text/plain": [
       "'line1\\nline2\\nline3\\nline4\\nline5'"
      ]
     },
     "metadata": {},
     "output_type": "display_data"
    },
    {
     "ename": "UnsupportedOperation",
     "evalue": "not writable",
     "output_type": "error",
     "traceback": [
      "\u001b[1;31m---------------------------------------------------------------------------\u001b[0m",
      "\u001b[1;31mUnsupportedOperation\u001b[0m                      Traceback (most recent call last)",
      "\u001b[1;32md:\\coding\\Python\\12_class(error_and_file_handling)\\class12.ipynb Cell 19\u001b[0m line \u001b[0;36m3\n\u001b[0;32m      <a href='vscode-notebook-cell:/d%3A/coding/Python/12_class%28error_and_file_handling%29/class12.ipynb#X25sZmlsZQ%3D%3D?line=0'>1</a>\u001b[0m \u001b[39mwith\u001b[39;00m \u001b[39mopen\u001b[39m (\u001b[39m\"\u001b[39m\u001b[39m./abc.txt\u001b[39m\u001b[39m\"\u001b[39m,\u001b[39m'\u001b[39m\u001b[39mr\u001b[39m\u001b[39m'\u001b[39m) \u001b[39mas\u001b[39;00m file:\n\u001b[0;32m      <a href='vscode-notebook-cell:/d%3A/coding/Python/12_class%28error_and_file_handling%29/class12.ipynb#X25sZmlsZQ%3D%3D?line=1'>2</a>\u001b[0m     display(file\u001b[39m.\u001b[39mread())\n\u001b[1;32m----> <a href='vscode-notebook-cell:/d%3A/coding/Python/12_class%28error_and_file_handling%29/class12.ipynb#X25sZmlsZQ%3D%3D?line=2'>3</a>\u001b[0m     file\u001b[39m.\u001b[39;49mwrite(\u001b[39m\"\u001b[39;49m\u001b[39mPakistan Zindabad\u001b[39;49m\u001b[39m\"\u001b[39;49m)\n",
      "\u001b[1;31mUnsupportedOperation\u001b[0m: not writable"
     ]
    }
   ],
   "source": [
    "with open (\"./abc.txt\",'r') as file: #r for read\n",
    "    display(file.read())\n",
    "    file.write(\"Pakistan Zindabad\")\n",
    "\n"
   ]
  },
  {
   "cell_type": "code",
   "execution_count": 20,
   "metadata": {},
   "outputs": [
    {
     "ename": "UnsupportedOperation",
     "evalue": "not readable",
     "output_type": "error",
     "traceback": [
      "\u001b[1;31m---------------------------------------------------------------------------\u001b[0m",
      "\u001b[1;31mUnsupportedOperation\u001b[0m                      Traceback (most recent call last)",
      "\u001b[1;32md:\\coding\\Python\\12_class(error_and_file_handling)\\class12.ipynb Cell 20\u001b[0m line \u001b[0;36m2\n\u001b[0;32m      <a href='vscode-notebook-cell:/d%3A/coding/Python/12_class%28error_and_file_handling%29/class12.ipynb#X26sZmlsZQ%3D%3D?line=0'>1</a>\u001b[0m \u001b[39mwith\u001b[39;00m \u001b[39mopen\u001b[39m (\u001b[39m\"\u001b[39m\u001b[39m./abc.txt\u001b[39m\u001b[39m\"\u001b[39m,\u001b[39m'\u001b[39m\u001b[39mw\u001b[39m\u001b[39m'\u001b[39m) \u001b[39mas\u001b[39;00m file: \u001b[39m#w for write\u001b[39;00m\n\u001b[1;32m----> <a href='vscode-notebook-cell:/d%3A/coding/Python/12_class%28error_and_file_handling%29/class12.ipynb#X26sZmlsZQ%3D%3D?line=1'>2</a>\u001b[0m     display(file\u001b[39m.\u001b[39;49mread())\n\u001b[0;32m      <a href='vscode-notebook-cell:/d%3A/coding/Python/12_class%28error_and_file_handling%29/class12.ipynb#X26sZmlsZQ%3D%3D?line=2'>3</a>\u001b[0m     file\u001b[39m.\u001b[39mwrite(\u001b[39m\"\u001b[39m\u001b[39mPakistan Zindabad\u001b[39m\u001b[39m\"\u001b[39m)\n",
      "\u001b[1;31mUnsupportedOperation\u001b[0m: not readable"
     ]
    }
   ],
   "source": [
    "with open (\"./abc.txt\",'w') as file: #w for write\n",
    "    display(file.read())\n",
    "    file.write(\"Pakistan Zindabad\")\n",
    "\n"
   ]
  },
  {
   "cell_type": "code",
   "execution_count": 21,
   "metadata": {},
   "outputs": [],
   "source": [
    "with open (\"./abc1.txt\",'w') as file: #w for write\n",
    "    file.write(\"Pakistan Zindabad\")\n",
    "\n"
   ]
  },
  {
   "cell_type": "code",
   "execution_count": 22,
   "metadata": {},
   "outputs": [
    {
     "data": {
      "text/plain": [
       "'Pakistan Zindabad'"
      ]
     },
     "metadata": {},
     "output_type": "display_data"
    }
   ],
   "source": [
    "with open (\"./abc1.txt\",'r+') as file: #r+ for read and write\n",
    "    display(file.read())\n",
    "    file.write(\"We love Pakistan!\")\n",
    "\n"
   ]
  },
  {
   "cell_type": "code",
   "execution_count": 14,
   "metadata": {},
   "outputs": [
    {
     "data": {
      "text/plain": [
       "'Pakistan ZindabadWe love pakistan'"
      ]
     },
     "metadata": {},
     "output_type": "display_data"
    },
    {
     "data": {
      "text/plain": [
       "'Pakistan ZindabadWe love pakistanWe love pakistan'"
      ]
     },
     "metadata": {},
     "output_type": "display_data"
    }
   ],
   "source": [
    "with open(\"./abc1.txt\", 'r+') as file: \n",
    "    display(file.read())\n",
    "\n",
    "    file.write(\"We love pakistan\")\n",
    "    file.seek(0)\n",
    "\n",
    "    display(file.read())\n",
    "\n"
   ]
  },
  {
   "cell_type": "code",
   "execution_count": 18,
   "metadata": {},
   "outputs": [],
   "source": [
    "with open(\"./abc2.txt\",'w') as file:\n",
    "    file.write(\"Pakistan\")"
   ]
  },
  {
   "cell_type": "code",
   "execution_count": 19,
   "metadata": {},
   "outputs": [],
   "source": [
    "with open(\"./abc3.txt\",'a') as file: # append mode\n",
    "    file.write(\"Pakistan\")"
   ]
  },
  {
   "cell_type": "code",
   "execution_count": 20,
   "metadata": {},
   "outputs": [],
   "source": [
    "with open(\"./abc3.txt\",'a') as file: # append mode\n",
    "    file.write(\"line2\")"
   ]
  },
  {
   "cell_type": "code",
   "execution_count": 21,
   "metadata": {},
   "outputs": [],
   "source": [
    "with open(\"./abc4.txt\",'x') as file: # append mode\n",
    "    file.write(\"Pakistan\")"
   ]
  },
  {
   "cell_type": "code",
   "execution_count": 22,
   "metadata": {},
   "outputs": [
    {
     "ename": "FileExistsError",
     "evalue": "[Errno 17] File exists: './abc4.txt'",
     "output_type": "error",
     "traceback": [
      "\u001b[1;31m---------------------------------------------------------------------------\u001b[0m",
      "\u001b[1;31mFileExistsError\u001b[0m                           Traceback (most recent call last)",
      "\u001b[1;32md:\\coding\\Python\\12_class(error_and_file_handling)\\class12.ipynb Cell 28\u001b[0m line \u001b[0;36m1\n\u001b[1;32m----> <a href='vscode-notebook-cell:/d%3A/coding/Python/12_class%28error_and_file_handling%29/class12.ipynb#X36sZmlsZQ%3D%3D?line=0'>1</a>\u001b[0m \u001b[39mwith\u001b[39;00m \u001b[39mopen\u001b[39;49m(\u001b[39m\"\u001b[39;49m\u001b[39m./abc4.txt\u001b[39;49m\u001b[39m\"\u001b[39;49m,\u001b[39m'\u001b[39;49m\u001b[39mx\u001b[39;49m\u001b[39m'\u001b[39;49m) \u001b[39mas\u001b[39;00m file: \u001b[39m# append mode\u001b[39;00m\n\u001b[0;32m      <a href='vscode-notebook-cell:/d%3A/coding/Python/12_class%28error_and_file_handling%29/class12.ipynb#X36sZmlsZQ%3D%3D?line=1'>2</a>\u001b[0m     file\u001b[39m.\u001b[39mwrite(\u001b[39m\"\u001b[39m\u001b[39mline3\u001b[39m\u001b[39m\"\u001b[39m)\n",
      "File \u001b[1;32mc:\\Users\\zain\\anaconda3\\envs\\python12\\Lib\\site-packages\\IPython\\core\\interactiveshell.py:286\u001b[0m, in \u001b[0;36m_modified_open\u001b[1;34m(file, *args, **kwargs)\u001b[0m\n\u001b[0;32m    279\u001b[0m \u001b[39mif\u001b[39;00m file \u001b[39min\u001b[39;00m {\u001b[39m0\u001b[39m, \u001b[39m1\u001b[39m, \u001b[39m2\u001b[39m}:\n\u001b[0;32m    280\u001b[0m     \u001b[39mraise\u001b[39;00m \u001b[39mValueError\u001b[39;00m(\n\u001b[0;32m    281\u001b[0m         \u001b[39mf\u001b[39m\u001b[39m\"\u001b[39m\u001b[39mIPython won\u001b[39m\u001b[39m'\u001b[39m\u001b[39mt let you open fd=\u001b[39m\u001b[39m{\u001b[39;00mfile\u001b[39m}\u001b[39;00m\u001b[39m by default \u001b[39m\u001b[39m\"\u001b[39m\n\u001b[0;32m    282\u001b[0m         \u001b[39m\"\u001b[39m\u001b[39mas it is likely to crash IPython. If you know what you are doing, \u001b[39m\u001b[39m\"\u001b[39m\n\u001b[0;32m    283\u001b[0m         \u001b[39m\"\u001b[39m\u001b[39myou can use builtins\u001b[39m\u001b[39m'\u001b[39m\u001b[39m open.\u001b[39m\u001b[39m\"\u001b[39m\n\u001b[0;32m    284\u001b[0m     )\n\u001b[1;32m--> 286\u001b[0m \u001b[39mreturn\u001b[39;00m io_open(file, \u001b[39m*\u001b[39;49margs, \u001b[39m*\u001b[39;49m\u001b[39m*\u001b[39;49mkwargs)\n",
      "\u001b[1;31mFileExistsError\u001b[0m: [Errno 17] File exists: './abc4.txt'"
     ]
    }
   ],
   "source": [
    "with open(\"./abc4.txt\",'x') as file: # create new file\n",
    "    file.write(\"line3\")"
   ]
  },
  {
   "cell_type": "code",
   "execution_count": 28,
   "metadata": {},
   "outputs": [
    {
     "data": {
      "text/plain": [
       "b'Pakistan'"
      ]
     },
     "metadata": {},
     "output_type": "display_data"
    }
   ],
   "source": [
    "with open(\"./abc4.txt\",'rb+') as file: # append mode\n",
    "    display(file.read())"
   ]
  },
  {
   "cell_type": "markdown",
   "metadata": {},
   "source": [
    "# read some real world data files\n",
    "* image\n",
    "* csv\n",
    "* live camera"
   ]
  },
  {
   "cell_type": "code",
   "execution_count": 30,
   "metadata": {},
   "outputs": [
    {
     "data": {
      "text/html": [
       "<div>\n",
       "<style scoped>\n",
       "    .dataframe tbody tr th:only-of-type {\n",
       "        vertical-align: middle;\n",
       "    }\n",
       "\n",
       "    .dataframe tbody tr th {\n",
       "        vertical-align: top;\n",
       "    }\n",
       "\n",
       "    .dataframe thead th {\n",
       "        text-align: right;\n",
       "    }\n",
       "</style>\n",
       "<table border=\"1\" class=\"dataframe\">\n",
       "  <thead>\n",
       "    <tr style=\"text-align: right;\">\n",
       "      <th></th>\n",
       "      <th>id</th>\n",
       "      <th>name</th>\n",
       "      <th>education</th>\n",
       "    </tr>\n",
       "  </thead>\n",
       "  <tbody>\n",
       "    <tr>\n",
       "      <th>0</th>\n",
       "      <td>1</td>\n",
       "      <td>Sir Zia</td>\n",
       "      <td>Master</td>\n",
       "    </tr>\n",
       "    <tr>\n",
       "      <th>1</th>\n",
       "      <td>2</td>\n",
       "      <td>Sir Inam</td>\n",
       "      <td>Master</td>\n",
       "    </tr>\n",
       "    <tr>\n",
       "      <th>2</th>\n",
       "      <td>3</td>\n",
       "      <td>Zain Babar</td>\n",
       "      <td>MFIN</td>\n",
       "    </tr>\n",
       "  </tbody>\n",
       "</table>\n",
       "</div>"
      ],
      "text/plain": [
       "   id        name education\n",
       "0   1     Sir Zia    Master\n",
       "1   2    Sir Inam    Master\n",
       "2   3  Zain Babar      MFIN"
      ]
     },
     "execution_count": 30,
     "metadata": {},
     "output_type": "execute_result"
    }
   ],
   "source": [
    "import pandas as pd\n",
    "\n",
    "df : pd.DataFrame = pd.read_csv(\"./data.csv\")\n",
    "\n",
    "df"
   ]
  },
  {
   "cell_type": "code",
   "execution_count": 33,
   "metadata": {},
   "outputs": [
    {
     "data": {
      "text/html": [
       "<div>\n",
       "<style scoped>\n",
       "    .dataframe tbody tr th:only-of-type {\n",
       "        vertical-align: middle;\n",
       "    }\n",
       "\n",
       "    .dataframe tbody tr th {\n",
       "        vertical-align: top;\n",
       "    }\n",
       "\n",
       "    .dataframe thead th {\n",
       "        text-align: right;\n",
       "    }\n",
       "</style>\n",
       "<table border=\"1\" class=\"dataframe\">\n",
       "  <thead>\n",
       "    <tr style=\"text-align: right;\">\n",
       "      <th></th>\n",
       "      <th>Sr #</th>\n",
       "      <th>Name</th>\n",
       "      <th>Education</th>\n",
       "    </tr>\n",
       "  </thead>\n",
       "  <tbody>\n",
       "    <tr>\n",
       "      <th>0</th>\n",
       "      <td>1</td>\n",
       "      <td>Sir Zia</td>\n",
       "      <td>Master</td>\n",
       "    </tr>\n",
       "    <tr>\n",
       "      <th>1</th>\n",
       "      <td>2</td>\n",
       "      <td>Sir Inam</td>\n",
       "      <td>Master</td>\n",
       "    </tr>\n",
       "    <tr>\n",
       "      <th>2</th>\n",
       "      <td>3</td>\n",
       "      <td>Zain</td>\n",
       "      <td>MFIN</td>\n",
       "    </tr>\n",
       "    <tr>\n",
       "      <th>3</th>\n",
       "      <td>4</td>\n",
       "      <td>Dr Noman</td>\n",
       "      <td>PHD</td>\n",
       "    </tr>\n",
       "  </tbody>\n",
       "</table>\n",
       "</div>"
      ],
      "text/plain": [
       "   Sr #      Name Education\n",
       "0     1   Sir Zia    Master\n",
       "1     2  Sir Inam    Master\n",
       "2     3      Zain      MFIN\n",
       "3     4  Dr Noman       PHD"
      ]
     },
     "execution_count": 33,
     "metadata": {},
     "output_type": "execute_result"
    }
   ],
   "source": [
    "import pandas as pd\n",
    "\n",
    "df : pd.DataFrame = pd.read_excel(\"./Demo.xlsx\")\n",
    "\n",
    "df"
   ]
  },
  {
   "cell_type": "code",
   "execution_count": 32,
   "metadata": {},
   "outputs": [
    {
     "name": "stdout",
     "output_type": "stream",
     "text": [
      "Collecting openpyxl\n",
      "  Downloading openpyxl-3.1.2-py2.py3-none-any.whl (249 kB)\n",
      "     ---------------------------------------- 0.0/250.0 kB ? eta -:--:--\n",
      "     - -------------------------------------- 10.2/250.0 kB ? eta -:--:--\n",
      "     - -------------------------------------- 10.2/250.0 kB ? eta -:--:--\n",
      "     ---- -------------------------------- 30.7/250.0 kB 262.6 kB/s eta 0:00:01\n",
      "     ------ ------------------------------ 41.0/250.0 kB 245.8 kB/s eta 0:00:01\n",
      "     ------------ ------------------------ 81.9/250.0 kB 416.7 kB/s eta 0:00:01\n",
      "     ----------------- ------------------ 122.9/250.0 kB 514.3 kB/s eta 0:00:01\n",
      "     ------------------------- ---------- 174.1/250.0 kB 655.4 kB/s eta 0:00:01\n",
      "     ---------------------------- ------- 194.6/250.0 kB 620.6 kB/s eta 0:00:01\n",
      "     ----------------------------- ------ 204.8/250.0 kB 593.2 kB/s eta 0:00:01\n",
      "     -------------------------------- --- 225.3/250.0 kB 573.4 kB/s eta 0:00:01\n",
      "     -----------------------------------  245.8/250.0 kB 578.7 kB/s eta 0:00:01\n",
      "     ------------------------------------ 250.0/250.0 kB 547.4 kB/s eta 0:00:00\n",
      "Collecting et-xmlfile (from openpyxl)\n",
      "  Downloading et_xmlfile-1.1.0-py3-none-any.whl (4.7 kB)\n",
      "Installing collected packages: et-xmlfile, openpyxl\n",
      "Successfully installed et-xmlfile-1.1.0 openpyxl-3.1.2\n",
      "Note: you may need to restart the kernel to use updated packages.\n"
     ]
    }
   ],
   "source": [
    "pip install openpyxl"
   ]
  },
  {
   "cell_type": "code",
   "execution_count": 35,
   "metadata": {},
   "outputs": [
    {
     "name": "stdout",
     "output_type": "stream",
     "text": [
      "Collecting matplotlib\n",
      "  Obtaining dependency information for matplotlib from https://files.pythonhosted.org/packages/59/c7/f8da659997fe3210fdda689cf2d7720b3a079578fb8aecc3623c4e091a77/matplotlib-3.8.0-cp312-cp312-win_amd64.whl.metadata\n",
      "  Using cached matplotlib-3.8.0-cp312-cp312-win_amd64.whl.metadata (5.9 kB)\n",
      "Collecting contourpy>=1.0.1 (from matplotlib)\n",
      "  Obtaining dependency information for contourpy>=1.0.1 from https://files.pythonhosted.org/packages/75/d4/c3b7a9a0d1f99b528e5a46266b0b9f13aad5a0dd1156d071418df314c427/contourpy-1.1.1-cp312-cp312-win_amd64.whl.metadata\n",
      "  Using cached contourpy-1.1.1-cp312-cp312-win_amd64.whl.metadata (5.9 kB)\n",
      "Collecting cycler>=0.10 (from matplotlib)\n",
      "  Obtaining dependency information for cycler>=0.10 from https://files.pythonhosted.org/packages/e7/05/c19819d5e3d95294a6f5947fb9b9629efb316b96de511b418c53d245aae6/cycler-0.12.1-py3-none-any.whl.metadata\n",
      "  Using cached cycler-0.12.1-py3-none-any.whl.metadata (3.8 kB)\n",
      "Collecting fonttools>=4.22.0 (from matplotlib)\n",
      "  Obtaining dependency information for fonttools>=4.22.0 from https://files.pythonhosted.org/packages/24/01/9bb5e115206b5c7f7894978f9af57a3d17c94fbc0df913389f1eaf334a68/fonttools-4.43.1-cp312-cp312-win_amd64.whl.metadata\n",
      "  Using cached fonttools-4.43.1-cp312-cp312-win_amd64.whl.metadata (155 kB)\n",
      "Collecting kiwisolver>=1.0.1 (from matplotlib)\n",
      "  Obtaining dependency information for kiwisolver>=1.0.1 from https://files.pythonhosted.org/packages/63/50/2746566bdf4a6a842d117367d05c90cfb87ac04e9e2845aa1fa21f071362/kiwisolver-1.4.5-cp312-cp312-win_amd64.whl.metadata\n",
      "  Using cached kiwisolver-1.4.5-cp312-cp312-win_amd64.whl.metadata (6.5 kB)\n",
      "Requirement already satisfied: numpy<2,>=1.21 in c:\\users\\zain\\anaconda3\\envs\\python12\\lib\\site-packages (from matplotlib) (1.26.1)\n",
      "Requirement already satisfied: packaging>=20.0 in c:\\users\\zain\\anaconda3\\envs\\python12\\lib\\site-packages (from matplotlib) (23.2)\n",
      "Collecting pillow>=6.2.0 (from matplotlib)\n",
      "  Obtaining dependency information for pillow>=6.2.0 from https://files.pythonhosted.org/packages/32/e4/978865107d097dd9cb650331676d8dc29ed9fcd0aaab46486e9d6e5123f0/Pillow-10.1.0-cp312-cp312-win_amd64.whl.metadata\n",
      "  Using cached Pillow-10.1.0-cp312-cp312-win_amd64.whl.metadata (9.6 kB)\n",
      "Collecting pyparsing>=2.3.1 (from matplotlib)\n",
      "  Obtaining dependency information for pyparsing>=2.3.1 from https://files.pythonhosted.org/packages/39/92/8486ede85fcc088f1b3dba4ce92dd29d126fd96b0008ea213167940a2475/pyparsing-3.1.1-py3-none-any.whl.metadata\n",
      "  Using cached pyparsing-3.1.1-py3-none-any.whl.metadata (5.1 kB)\n",
      "Requirement already satisfied: python-dateutil>=2.7 in c:\\users\\zain\\anaconda3\\envs\\python12\\lib\\site-packages (from matplotlib) (2.8.2)\n",
      "Requirement already satisfied: six>=1.5 in c:\\users\\zain\\anaconda3\\envs\\python12\\lib\\site-packages (from python-dateutil>=2.7->matplotlib) (1.16.0)\n",
      "Using cached matplotlib-3.8.0-cp312-cp312-win_amd64.whl (7.6 MB)\n",
      "Using cached contourpy-1.1.1-cp312-cp312-win_amd64.whl (486 kB)\n",
      "Using cached cycler-0.12.1-py3-none-any.whl (8.3 kB)\n",
      "Using cached fonttools-4.43.1-cp312-cp312-win_amd64.whl (2.1 MB)\n",
      "Using cached kiwisolver-1.4.5-cp312-cp312-win_amd64.whl (56 kB)\n",
      "Using cached Pillow-10.1.0-cp312-cp312-win_amd64.whl (2.6 MB)\n",
      "Using cached pyparsing-3.1.1-py3-none-any.whl (103 kB)\n",
      "Installing collected packages: pyparsing, pillow, kiwisolver, fonttools, cycler, contourpy, matplotlib\n"
     ]
    },
    {
     "name": "stderr",
     "output_type": "stream",
     "text": [
      "ERROR: Could not install packages due to an OSError: [Errno 13] Permission denied: 'C:\\\\Users\\\\zain\\\\anaconda3\\\\envs\\\\python12\\\\Lib\\\\site-packages\\\\Pillow-10.1.0.dist-info\\\\INSTALLER'\n",
      "Consider using the `--user` option or check the permissions.\n",
      "\n"
     ]
    },
    {
     "name": "stdout",
     "output_type": "stream",
     "text": [
      "Collecting matplotlib\n",
      "  Obtaining dependency information for matplotlib from https://files.pythonhosted.org/packages/59/c7/f8da659997fe3210fdda689cf2d7720b3a079578fb8aecc3623c4e091a77/matplotlib-3.8.0-cp312-cp312-win_amd64.whl.metadata\n",
      "  Downloading matplotlib-3.8.0-cp312-cp312-win_amd64.whl.metadata (5.9 kB)\n",
      "Collecting contourpy>=1.0.1 (from matplotlib)\n",
      "  Obtaining dependency information for contourpy>=1.0.1 from https://files.pythonhosted.org/packages/75/d4/c3b7a9a0d1f99b528e5a46266b0b9f13aad5a0dd1156d071418df314c427/contourpy-1.1.1-cp312-cp312-win_amd64.whl.metadata\n",
      "  Downloading contourpy-1.1.1-cp312-cp312-win_amd64.whl.metadata (5.9 kB)\n",
      "Collecting cycler>=0.10 (from matplotlib)\n",
      "  Obtaining dependency information for cycler>=0.10 from https://files.pythonhosted.org/packages/e7/05/c19819d5e3d95294a6f5947fb9b9629efb316b96de511b418c53d245aae6/cycler-0.12.1-py3-none-any.whl.metadata\n",
      "  Downloading cycler-0.12.1-py3-none-any.whl.metadata (3.8 kB)\n",
      "Collecting fonttools>=4.22.0 (from matplotlib)\n",
      "  Obtaining dependency information for fonttools>=4.22.0 from https://files.pythonhosted.org/packages/24/01/9bb5e115206b5c7f7894978f9af57a3d17c94fbc0df913389f1eaf334a68/fonttools-4.43.1-cp312-cp312-win_amd64.whl.metadata\n",
      "  Downloading fonttools-4.43.1-cp312-cp312-win_amd64.whl.metadata (155 kB)\n",
      "     ---------------------------------------- 0.0/155.5 kB ? eta -:--:--\n",
      "     -- ------------------------------------- 10.2/155.5 kB ? eta -:--:--\n",
      "     ------- ----------------------------- 30.7/155.5 kB 330.3 kB/s eta 0:00:01\n",
      "     -------------- ---------------------- 61.4/155.5 kB 469.7 kB/s eta 0:00:01\n",
      "     --------------------- --------------- 92.2/155.5 kB 525.1 kB/s eta 0:00:01\n",
      "     ---------------------------- ------- 122.9/155.5 kB 602.4 kB/s eta 0:00:01\n",
      "     ------------------------------------ 155.5/155.5 kB 620.9 kB/s eta 0:00:00\n",
      "Collecting kiwisolver>=1.0.1 (from matplotlib)\n",
      "  Obtaining dependency information for kiwisolver>=1.0.1 from https://files.pythonhosted.org/packages/63/50/2746566bdf4a6a842d117367d05c90cfb87ac04e9e2845aa1fa21f071362/kiwisolver-1.4.5-cp312-cp312-win_amd64.whl.metadata\n",
      "  Downloading kiwisolver-1.4.5-cp312-cp312-win_amd64.whl.metadata (6.5 kB)\n",
      "Requirement already satisfied: numpy<2,>=1.21 in c:\\users\\zain\\anaconda3\\envs\\python12\\lib\\site-packages (from matplotlib) (1.26.1)\n",
      "Requirement already satisfied: packaging>=20.0 in c:\\users\\zain\\anaconda3\\envs\\python12\\lib\\site-packages (from matplotlib) (23.2)\n",
      "Collecting pillow>=6.2.0 (from matplotlib)\n",
      "  Obtaining dependency information for pillow>=6.2.0 from https://files.pythonhosted.org/packages/32/e4/978865107d097dd9cb650331676d8dc29ed9fcd0aaab46486e9d6e5123f0/Pillow-10.1.0-cp312-cp312-win_amd64.whl.metadata\n",
      "  Downloading Pillow-10.1.0-cp312-cp312-win_amd64.whl.metadata (9.6 kB)\n",
      "Collecting pyparsing>=2.3.1 (from matplotlib)\n",
      "  Obtaining dependency information for pyparsing>=2.3.1 from https://files.pythonhosted.org/packages/39/92/8486ede85fcc088f1b3dba4ce92dd29d126fd96b0008ea213167940a2475/pyparsing-3.1.1-py3-none-any.whl.metadata\n",
      "  Downloading pyparsing-3.1.1-py3-none-any.whl.metadata (5.1 kB)\n",
      "Requirement already satisfied: python-dateutil>=2.7 in c:\\users\\zain\\anaconda3\\envs\\python12\\lib\\site-packages (from matplotlib) (2.8.2)\n",
      "Requirement already satisfied: six>=1.5 in c:\\users\\zain\\anaconda3\\envs\\python12\\lib\\site-packages (from python-dateutil>=2.7->matplotlib) (1.16.0)\n",
      "Downloading matplotlib-3.8.0-cp312-cp312-win_amd64.whl (7.6 MB)\n",
      "   ---------------------------------------- 0.0/7.6 MB ? eta -:--:--\n",
      "   ---------------------------------------- 0.1/7.6 MB 5.1 MB/s eta 0:00:02\n",
      "    --------------------------------------- 0.1/7.6 MB 1.7 MB/s eta 0:00:05\n",
      "    --------------------------------------- 0.1/7.6 MB 1.2 MB/s eta 0:00:07\n",
      "    --------------------------------------- 0.2/7.6 MB 766.6 kB/s eta 0:00:10\n",
      "    --------------------------------------- 0.2/7.6 MB 700.2 kB/s eta 0:00:11\n",
      "    --------------------------------------- 0.2/7.6 MB 700.2 kB/s eta 0:00:11\n",
      "    --------------------------------------- 0.2/7.6 MB 700.2 kB/s eta 0:00:11\n",
      "    --------------------------------------- 0.2/7.6 MB 700.2 kB/s eta 0:00:11\n",
      "    --------------------------------------- 0.2/7.6 MB 700.2 kB/s eta 0:00:11\n",
      "   - -------------------------------------- 0.2/7.6 MB 380.8 kB/s eta 0:00:20\n",
      "   - -------------------------------------- 0.2/7.6 MB 380.8 kB/s eta 0:00:20\n",
      "   - -------------------------------------- 0.2/7.6 MB 355.7 kB/s eta 0:00:21\n",
      "   - -------------------------------------- 0.3/7.6 MB 454.0 kB/s eta 0:00:17\n",
      "   - -------------------------------------- 0.3/7.6 MB 491.5 kB/s eta 0:00:15\n",
      "   - -------------------------------------- 0.3/7.6 MB 477.0 kB/s eta 0:00:16\n",
      "   - -------------------------------------- 0.4/7.6 MB 484.2 kB/s eta 0:00:16\n",
      "   - -------------------------------------- 0.4/7.6 MB 467.9 kB/s eta 0:00:16\n",
      "   -- ------------------------------------- 0.4/7.6 MB 461.0 kB/s eta 0:00:16\n",
      "   -- ------------------------------------- 0.4/7.6 MB 461.0 kB/s eta 0:00:16\n",
      "   -- ------------------------------------- 0.4/7.6 MB 461.0 kB/s eta 0:00:16\n",
      "   -- ------------------------------------- 0.4/7.6 MB 461.0 kB/s eta 0:00:16\n",
      "   -- ------------------------------------- 0.4/7.6 MB 461.0 kB/s eta 0:00:16\n",
      "   -- ------------------------------------- 0.4/7.6 MB 461.0 kB/s eta 0:00:16\n",
      "   -- ------------------------------------- 0.4/7.6 MB 355.0 kB/s eta 0:00:21\n",
      "   -- ------------------------------------- 0.5/7.6 MB 375.7 kB/s eta 0:00:20\n",
      "   -- ------------------------------------- 0.5/7.6 MB 381.7 kB/s eta 0:00:19\n",
      "   -- ------------------------------------- 0.5/7.6 MB 386.9 kB/s eta 0:00:19\n",
      "   -- ------------------------------------- 0.5/7.6 MB 393.3 kB/s eta 0:00:19\n",
      "   -- ------------------------------------- 0.5/7.6 MB 393.3 kB/s eta 0:00:19\n",
      "   -- ------------------------------------- 0.5/7.6 MB 393.3 kB/s eta 0:00:19\n",
      "   -- ------------------------------------- 0.5/7.6 MB 393.3 kB/s eta 0:00:19\n",
      "   -- ------------------------------------- 0.5/7.6 MB 393.3 kB/s eta 0:00:19\n",
      "   -- ------------------------------------- 0.5/7.6 MB 393.3 kB/s eta 0:00:19\n",
      "   -- ------------------------------------- 0.5/7.6 MB 393.3 kB/s eta 0:00:19\n",
      "   -- ------------------------------------- 0.5/7.6 MB 393.3 kB/s eta 0:00:19\n",
      "   -- ------------------------------------- 0.5/7.6 MB 393.3 kB/s eta 0:00:19\n",
      "   --- ------------------------------------ 0.7/7.6 MB 396.7 kB/s eta 0:00:18\n",
      "   --- ------------------------------------ 0.7/7.6 MB 397.7 kB/s eta 0:00:18\n",
      "   --- ------------------------------------ 0.7/7.6 MB 396.6 kB/s eta 0:00:18\n",
      "   ---- ----------------------------------- 0.8/7.6 MB 397.6 kB/s eta 0:00:18\n",
      "   ---- ----------------------------------- 0.8/7.6 MB 403.7 kB/s eta 0:00:17\n",
      "   ---- ----------------------------------- 0.8/7.6 MB 404.5 kB/s eta 0:00:17\n",
      "   ---- ----------------------------------- 0.8/7.6 MB 404.5 kB/s eta 0:00:17\n",
      "   ---- ----------------------------------- 0.8/7.6 MB 400.2 kB/s eta 0:00:18\n",
      "   ---- ----------------------------------- 0.8/7.6 MB 400.2 kB/s eta 0:00:18\n",
      "   ---- ----------------------------------- 0.8/7.6 MB 400.2 kB/s eta 0:00:18\n",
      "   ---- ----------------------------------- 0.8/7.6 MB 400.2 kB/s eta 0:00:18\n",
      "   ---- ----------------------------------- 0.8/7.6 MB 400.2 kB/s eta 0:00:18\n",
      "   ---- ----------------------------------- 0.8/7.6 MB 365.6 kB/s eta 0:00:19\n",
      "   ---- ----------------------------------- 0.9/7.6 MB 371.3 kB/s eta 0:00:19\n",
      "   ---- ----------------------------------- 0.9/7.6 MB 376.9 kB/s eta 0:00:18\n",
      "   ---- ----------------------------------- 0.9/7.6 MB 376.9 kB/s eta 0:00:18\n",
      "   ----- ---------------------------------- 1.0/7.6 MB 396.6 kB/s eta 0:00:17\n",
      "   ----- ---------------------------------- 1.0/7.6 MB 393.2 kB/s eta 0:00:17\n",
      "   ----- ---------------------------------- 1.0/7.6 MB 394.0 kB/s eta 0:00:17\n",
      "   ----- ---------------------------------- 1.0/7.6 MB 394.8 kB/s eta 0:00:17\n",
      "   ----- ---------------------------------- 1.0/7.6 MB 391.6 kB/s eta 0:00:17\n",
      "   ----- ---------------------------------- 1.1/7.6 MB 392.5 kB/s eta 0:00:17\n",
      "   ----- ---------------------------------- 1.1/7.6 MB 391.7 kB/s eta 0:00:17\n",
      "   ----- ---------------------------------- 1.1/7.6 MB 392.4 kB/s eta 0:00:17\n",
      "   ----- ---------------------------------- 1.1/7.6 MB 393.3 kB/s eta 0:00:17\n",
      "   ----- ---------------------------------- 1.1/7.6 MB 390.4 kB/s eta 0:00:17\n",
      "   ------ --------------------------------- 1.1/7.6 MB 393.2 kB/s eta 0:00:17\n",
      "   ------ --------------------------------- 1.2/7.6 MB 388.4 kB/s eta 0:00:17\n",
      "   ------ --------------------------------- 1.2/7.6 MB 389.1 kB/s eta 0:00:17\n",
      "   ------ --------------------------------- 1.2/7.6 MB 391.9 kB/s eta 0:00:17\n",
      "   ------ --------------------------------- 1.2/7.6 MB 389.2 kB/s eta 0:00:17\n",
      "   ------ --------------------------------- 1.2/7.6 MB 389.9 kB/s eta 0:00:17\n",
      "   ------ --------------------------------- 1.2/7.6 MB 389.4 kB/s eta 0:00:17\n",
      "   ------ --------------------------------- 1.3/7.6 MB 390.0 kB/s eta 0:00:17\n",
      "   ------ --------------------------------- 1.3/7.6 MB 390.7 kB/s eta 0:00:17\n",
      "   ------ --------------------------------- 1.3/7.6 MB 388.2 kB/s eta 0:00:17\n",
      "   ------ --------------------------------- 1.3/7.6 MB 388.9 kB/s eta 0:00:17\n",
      "   ------ --------------------------------- 1.3/7.6 MB 386.5 kB/s eta 0:00:17\n",
      "   ------- -------------------------------- 1.3/7.6 MB 387.3 kB/s eta 0:00:17\n",
      "   ------- -------------------------------- 1.4/7.6 MB 388.0 kB/s eta 0:00:17\n",
      "   ------- -------------------------------- 1.4/7.6 MB 387.3 kB/s eta 0:00:17\n",
      "   ------- -------------------------------- 1.4/7.6 MB 388.1 kB/s eta 0:00:17\n",
      "   ------- -------------------------------- 1.4/7.6 MB 385.9 kB/s eta 0:00:17\n",
      "   ------- -------------------------------- 1.4/7.6 MB 386.5 kB/s eta 0:00:17\n",
      "   ------- -------------------------------- 1.4/7.6 MB 387.1 kB/s eta 0:00:17\n",
      "   ------- -------------------------------- 1.4/7.6 MB 387.1 kB/s eta 0:00:17\n",
      "   ------- -------------------------------- 1.4/7.6 MB 387.1 kB/s eta 0:00:17\n",
      "   ------- -------------------------------- 1.4/7.6 MB 387.1 kB/s eta 0:00:17\n",
      "   ------- -------------------------------- 1.4/7.6 MB 387.1 kB/s eta 0:00:17\n",
      "   ------- -------------------------------- 1.4/7.6 MB 387.1 kB/s eta 0:00:17\n",
      "   ------- -------------------------------- 1.5/7.6 MB 384.9 kB/s eta 0:00:16\n",
      "   -------- ------------------------------- 1.5/7.6 MB 384.4 kB/s eta 0:00:16\n",
      "   -------- ------------------------------- 1.6/7.6 MB 382.1 kB/s eta 0:00:16\n",
      "   -------- ------------------------------- 1.6/7.6 MB 380.2 kB/s eta 0:00:16\n",
      "   -------- ------------------------------- 1.6/7.6 MB 385.2 kB/s eta 0:00:16\n",
      "   -------- ------------------------------- 1.6/7.6 MB 384.4 kB/s eta 0:00:16\n",
      "   -------- ------------------------------- 1.6/7.6 MB 384.5 kB/s eta 0:00:16\n",
      "   -------- ------------------------------- 1.6/7.6 MB 382.7 kB/s eta 0:00:16\n",
      "   -------- ------------------------------- 1.7/7.6 MB 383.3 kB/s eta 0:00:16\n",
      "   -------- ------------------------------- 1.7/7.6 MB 383.9 kB/s eta 0:00:16\n",
      "   -------- ------------------------------- 1.7/7.6 MB 382.1 kB/s eta 0:00:16\n",
      "   --------- ------------------------------ 1.7/7.6 MB 384.0 kB/s eta 0:00:16\n",
      "   --------- ------------------------------ 1.7/7.6 MB 380.9 kB/s eta 0:00:16\n",
      "   --------- ------------------------------ 1.8/7.6 MB 382.8 kB/s eta 0:00:16\n",
      "   --------- ------------------------------ 1.8/7.6 MB 383.4 kB/s eta 0:00:16\n",
      "   --------- ------------------------------ 1.8/7.6 MB 381.7 kB/s eta 0:00:16\n",
      "   --------- ------------------------------ 1.8/7.6 MB 382.3 kB/s eta 0:00:16\n",
      "   --------- ------------------------------ 1.8/7.6 MB 381.9 kB/s eta 0:00:16\n",
      "   --------- ------------------------------ 1.8/7.6 MB 380.3 kB/s eta 0:00:16\n",
      "   --------- ------------------------------ 1.9/7.6 MB 382.6 kB/s eta 0:00:16\n",
      "   --------- ------------------------------ 1.9/7.6 MB 381.0 kB/s eta 0:00:16\n",
      "   --------- ------------------------------ 1.9/7.6 MB 381.6 kB/s eta 0:00:16\n",
      "   --------- ------------------------------ 1.9/7.6 MB 381.2 kB/s eta 0:00:16\n",
      "   ---------- ----------------------------- 1.9/7.6 MB 380.6 kB/s eta 0:00:16\n",
      "   ---------- ----------------------------- 1.9/7.6 MB 381.1 kB/s eta 0:00:15\n",
      "   ---------- ----------------------------- 2.0/7.6 MB 381.3 kB/s eta 0:00:15\n",
      "   ---------- ----------------------------- 2.0/7.6 MB 379.8 kB/s eta 0:00:15\n",
      "   ---------- ----------------------------- 2.0/7.6 MB 380.3 kB/s eta 0:00:15\n",
      "   ---------- ----------------------------- 2.0/7.6 MB 380.8 kB/s eta 0:00:15\n",
      "   ---------- ----------------------------- 2.0/7.6 MB 379.4 kB/s eta 0:00:15\n",
      "   ---------- ----------------------------- 2.1/7.6 MB 381.0 kB/s eta 0:00:15\n",
      "   ---------- ----------------------------- 2.1/7.6 MB 379.6 kB/s eta 0:00:15\n",
      "   ---------- ----------------------------- 2.1/7.6 MB 379.1 kB/s eta 0:00:15\n",
      "   ----------- ---------------------------- 2.1/7.6 MB 380.6 kB/s eta 0:00:15\n",
      "   ----------- ---------------------------- 2.1/7.6 MB 379.3 kB/s eta 0:00:15\n",
      "   ----------- ---------------------------- 2.1/7.6 MB 379.7 kB/s eta 0:00:15\n",
      "   ----------- ---------------------------- 2.2/7.6 MB 377.3 kB/s eta 0:00:15\n",
      "   ----------- ---------------------------- 2.2/7.6 MB 379.9 kB/s eta 0:00:15\n",
      "   ----------- ---------------------------- 2.2/7.6 MB 379.3 kB/s eta 0:00:15\n",
      "   ----------- ---------------------------- 2.2/7.6 MB 379.3 kB/s eta 0:00:15\n",
      "   ----------- ---------------------------- 2.2/7.6 MB 379.3 kB/s eta 0:00:15\n",
      "   ----------- ---------------------------- 2.2/7.6 MB 379.3 kB/s eta 0:00:15\n",
      "   ----------- ---------------------------- 2.3/7.6 MB 377.7 kB/s eta 0:00:15\n",
      "   ----------- ---------------------------- 2.3/7.6 MB 379.1 kB/s eta 0:00:15\n",
      "   ----------- ---------------------------- 2.3/7.6 MB 377.9 kB/s eta 0:00:15\n",
      "   ------------ --------------------------- 2.3/7.6 MB 379.3 kB/s eta 0:00:15\n",
      "   ------------ --------------------------- 2.3/7.6 MB 378.1 kB/s eta 0:00:15\n",
      "   ------------ --------------------------- 2.3/7.6 MB 378.5 kB/s eta 0:00:15\n",
      "   ------------ --------------------------- 2.4/7.6 MB 379.0 kB/s eta 0:00:14\n",
      "   ------------ --------------------------- 2.4/7.6 MB 377.8 kB/s eta 0:00:14\n",
      "   ------------ --------------------------- 2.4/7.6 MB 378.2 kB/s eta 0:00:14\n",
      "   ------------ --------------------------- 2.4/7.6 MB 378.0 kB/s eta 0:00:14\n",
      "   ------------ --------------------------- 2.4/7.6 MB 377.5 kB/s eta 0:00:14\n",
      "   ------------ --------------------------- 2.4/7.6 MB 378.8 kB/s eta 0:00:14\n",
      "   ------------ --------------------------- 2.4/7.6 MB 377.7 kB/s eta 0:00:14\n",
      "   ------------ --------------------------- 2.5/7.6 MB 377.4 kB/s eta 0:00:14\n",
      "   ------------ --------------------------- 2.5/7.6 MB 378.7 kB/s eta 0:00:14\n",
      "   ------------- -------------------------- 2.5/7.6 MB 377.6 kB/s eta 0:00:14\n",
      "   ------------- -------------------------- 2.5/7.6 MB 377.1 kB/s eta 0:00:14\n",
      "   ------------- -------------------------- 2.5/7.6 MB 376.9 kB/s eta 0:00:14\n",
      "   ------------- -------------------------- 2.5/7.6 MB 376.4 kB/s eta 0:00:14\n",
      "   ------------- -------------------------- 2.6/7.6 MB 377.7 kB/s eta 0:00:14\n",
      "   ------------- -------------------------- 2.6/7.6 MB 376.6 kB/s eta 0:00:14\n",
      "   ------------- -------------------------- 2.6/7.6 MB 377.0 kB/s eta 0:00:14\n",
      "   ------------- -------------------------- 2.6/7.6 MB 376.8 kB/s eta 0:00:14\n",
      "   ------------- -------------------------- 2.6/7.6 MB 376.4 kB/s eta 0:00:14\n",
      "   ------------- -------------------------- 2.6/7.6 MB 376.8 kB/s eta 0:00:14\n",
      "   ------------- -------------------------- 2.7/7.6 MB 375.8 kB/s eta 0:00:14\n",
      "   ------------- -------------------------- 2.7/7.6 MB 376.2 kB/s eta 0:00:14\n",
      "   -------------- ------------------------- 2.7/7.6 MB 375.1 kB/s eta 0:00:14\n",
      "   -------------- ------------------------- 2.7/7.6 MB 376.3 kB/s eta 0:00:14\n",
      "   -------------- ------------------------- 2.7/7.6 MB 376.5 kB/s eta 0:00:14\n",
      "   -------------- ------------------------- 2.7/7.6 MB 375.5 kB/s eta 0:00:14\n",
      "   -------------- ------------------------- 2.8/7.6 MB 376.7 kB/s eta 0:00:13\n",
      "   -------------- ------------------------- 2.8/7.6 MB 375.7 kB/s eta 0:00:13\n",
      "   -------------- ------------------------- 2.8/7.6 MB 376.1 kB/s eta 0:00:13\n",
      "   -------------- ------------------------- 2.8/7.6 MB 376.1 kB/s eta 0:00:13\n",
      "   -------------- ------------------------- 2.8/7.6 MB 376.5 kB/s eta 0:00:13\n",
      "   -------------- ------------------------- 2.8/7.6 MB 375.5 kB/s eta 0:00:13\n",
      "   -------------- ------------------------- 2.9/7.6 MB 375.7 kB/s eta 0:00:13\n",
      "   --------------- ------------------------ 2.9/7.6 MB 376.0 kB/s eta 0:00:13\n",
      "   --------------- ------------------------ 2.9/7.6 MB 376.0 kB/s eta 0:00:13\n",
      "   --------------- ------------------------ 2.9/7.6 MB 375.4 kB/s eta 0:00:13\n",
      "   --------------- ------------------------ 2.9/7.6 MB 375.4 kB/s eta 0:00:13\n",
      "   --------------- ------------------------ 2.9/7.6 MB 374.9 kB/s eta 0:00:13\n",
      "   --------------- ------------------------ 2.9/7.6 MB 374.9 kB/s eta 0:00:13\n",
      "   --------------- ------------------------ 3.0/7.6 MB 375.0 kB/s eta 0:00:13\n",
      "   --------------- ------------------------ 3.0/7.6 MB 375.4 kB/s eta 0:00:13\n",
      "   --------------- ------------------------ 3.0/7.6 MB 375.2 kB/s eta 0:00:13\n",
      "   --------------- ------------------------ 3.0/7.6 MB 375.6 kB/s eta 0:00:13\n",
      "   --------------- ------------------------ 3.1/7.6 MB 375.0 kB/s eta 0:00:13\n",
      "   ---------------- ----------------------- 3.1/7.6 MB 375.4 kB/s eta 0:00:13\n",
      "   ---------------- ----------------------- 3.1/7.6 MB 375.2 kB/s eta 0:00:13\n",
      "   ---------------- ----------------------- 3.1/7.6 MB 375.2 kB/s eta 0:00:13\n",
      "   ---------------- ----------------------- 3.1/7.6 MB 375.2 kB/s eta 0:00:13\n",
      "   ---------------- ----------------------- 3.1/7.6 MB 375.2 kB/s eta 0:00:13\n",
      "   ---------------- ----------------------- 3.1/7.6 MB 375.2 kB/s eta 0:00:13\n",
      "   ---------------- ----------------------- 3.1/7.6 MB 375.2 kB/s eta 0:00:13\n",
      "   ---------------- ----------------------- 3.1/7.6 MB 375.2 kB/s eta 0:00:13\n",
      "   ---------------- ----------------------- 3.1/7.6 MB 375.2 kB/s eta 0:00:13\n",
      "   ---------------- ----------------------- 3.1/7.6 MB 375.2 kB/s eta 0:00:13\n",
      "   ---------------- ----------------------- 3.1/7.6 MB 375.2 kB/s eta 0:00:13\n",
      "   ---------------- ----------------------- 3.1/7.6 MB 375.2 kB/s eta 0:00:13\n",
      "   ---------------- ----------------------- 3.1/7.6 MB 354.7 kB/s eta 0:00:13\n",
      "   ---------------- ----------------------- 3.1/7.6 MB 354.7 kB/s eta 0:00:13\n",
      "   ---------------- ----------------------- 3.2/7.6 MB 356.6 kB/s eta 0:00:13\n",
      "   ---------------- ----------------------- 3.2/7.6 MB 356.4 kB/s eta 0:00:13\n",
      "   ---------------- ----------------------- 3.2/7.6 MB 356.4 kB/s eta 0:00:13\n",
      "   ---------------- ----------------------- 3.2/7.6 MB 355.1 kB/s eta 0:00:13\n",
      "   ---------------- ----------------------- 3.2/7.6 MB 355.1 kB/s eta 0:00:13\n",
      "   ---------------- ----------------------- 3.2/7.6 MB 353.0 kB/s eta 0:00:13\n",
      "   ---------------- ----------------------- 3.2/7.6 MB 353.4 kB/s eta 0:00:13\n",
      "   ----------------- ---------------------- 3.3/7.6 MB 354.4 kB/s eta 0:00:13\n",
      "   ----------------- ---------------------- 3.3/7.6 MB 354.3 kB/s eta 0:00:13\n",
      "   ----------------- ---------------------- 3.3/7.6 MB 355.3 kB/s eta 0:00:13\n",
      "   ----------------- ---------------------- 3.3/7.6 MB 357.3 kB/s eta 0:00:13\n",
      "   ----------------- ---------------------- 3.4/7.6 MB 357.2 kB/s eta 0:00:12\n",
      "   ----------------- ---------------------- 3.4/7.6 MB 358.6 kB/s eta 0:00:12\n",
      "   ----------------- ---------------------- 3.4/7.6 MB 361.2 kB/s eta 0:00:12\n",
      "   ------------------ --------------------- 3.5/7.6 MB 362.1 kB/s eta 0:00:12\n",
      "   ------------------ --------------------- 3.5/7.6 MB 362.4 kB/s eta 0:00:12\n",
      "   ------------------ --------------------- 3.5/7.6 MB 363.4 kB/s eta 0:00:12\n",
      "   ------------------ --------------------- 3.5/7.6 MB 363.7 kB/s eta 0:00:12\n",
      "   ------------------ --------------------- 3.5/7.6 MB 363.0 kB/s eta 0:00:12\n",
      "   ------------------ --------------------- 3.6/7.6 MB 364.0 kB/s eta 0:00:12\n",
      "   ------------------ --------------------- 3.6/7.6 MB 364.0 kB/s eta 0:00:12\n",
      "   ------------------ --------------------- 3.6/7.6 MB 363.6 kB/s eta 0:00:12\n",
      "   ------------------ --------------------- 3.6/7.6 MB 364.0 kB/s eta 0:00:12\n",
      "   ------------------ --------------------- 3.6/7.6 MB 364.0 kB/s eta 0:00:12\n",
      "   ------------------ --------------------- 3.6/7.6 MB 362.7 kB/s eta 0:00:12\n",
      "   ------------------- -------------------- 3.6/7.6 MB 362.5 kB/s eta 0:00:12\n",
      "   ------------------- -------------------- 3.6/7.6 MB 362.9 kB/s eta 0:00:12\n",
      "   ------------------- -------------------- 3.7/7.6 MB 363.7 kB/s eta 0:00:11\n",
      "   ------------------- -------------------- 3.7/7.6 MB 363.0 kB/s eta 0:00:11\n",
      "   ------------------- -------------------- 3.7/7.6 MB 363.9 kB/s eta 0:00:11\n",
      "   ------------------- -------------------- 3.7/7.6 MB 363.7 kB/s eta 0:00:11\n",
      "   ------------------- -------------------- 3.7/7.6 MB 363.1 kB/s eta 0:00:11\n",
      "   ------------------- -------------------- 3.8/7.6 MB 363.8 kB/s eta 0:00:11\n",
      "   ------------------- -------------------- 3.8/7.6 MB 363.1 kB/s eta 0:00:11\n",
      "   ------------------- -------------------- 3.8/7.6 MB 364.0 kB/s eta 0:00:11\n",
      "   ------------------- -------------------- 3.8/7.6 MB 362.8 kB/s eta 0:00:11\n",
      "   -------------------- ------------------- 3.8/7.6 MB 363.7 kB/s eta 0:00:11\n",
      "   -------------------- ------------------- 3.9/7.6 MB 364.0 kB/s eta 0:00:11\n",
      "   -------------------- ------------------- 3.9/7.6 MB 363.3 kB/s eta 0:00:11\n",
      "   -------------------- ------------------- 3.9/7.6 MB 363.7 kB/s eta 0:00:11\n",
      "   -------------------- ------------------- 3.9/7.6 MB 363.0 kB/s eta 0:00:11\n",
      "   -------------------- ------------------- 3.9/7.6 MB 363.9 kB/s eta 0:00:11\n",
      "   -------------------- ------------------- 3.9/7.6 MB 363.7 kB/s eta 0:00:11\n",
      "   -------------------- ------------------- 4.0/7.6 MB 363.6 kB/s eta 0:00:11\n",
      "   -------------------- ------------------- 4.0/7.6 MB 363.8 kB/s eta 0:00:11\n",
      "   -------------------- ------------------- 4.0/7.6 MB 363.7 kB/s eta 0:00:11\n",
      "   --------------------- ------------------ 4.0/7.6 MB 363.5 kB/s eta 0:00:10\n",
      "   --------------------- ------------------ 4.0/7.6 MB 364.3 kB/s eta 0:00:10\n",
      "   --------------------- ------------------ 4.0/7.6 MB 363.7 kB/s eta 0:00:10\n",
      "   --------------------- ------------------ 4.1/7.6 MB 363.5 kB/s eta 0:00:10\n",
      "   --------------------- ------------------ 4.1/7.6 MB 362.9 kB/s eta 0:00:10\n",
      "   --------------------- ------------------ 4.1/7.6 MB 363.7 kB/s eta 0:00:10\n",
      "   --------------------- ------------------ 4.1/7.6 MB 363.7 kB/s eta 0:00:10\n",
      "   --------------------- ------------------ 4.1/7.6 MB 363.7 kB/s eta 0:00:10\n",
      "   --------------------- ------------------ 4.1/7.6 MB 363.7 kB/s eta 0:00:10\n",
      "   --------------------- ------------------ 4.1/7.6 MB 363.7 kB/s eta 0:00:10\n",
      "   --------------------- ------------------ 4.2/7.6 MB 363.3 kB/s eta 0:00:10\n",
      "   ---------------------- ----------------- 4.2/7.6 MB 363.6 kB/s eta 0:00:10\n",
      "   ---------------------- ----------------- 4.2/7.6 MB 362.5 kB/s eta 0:00:10\n",
      "   ---------------------- ----------------- 4.2/7.6 MB 363.3 kB/s eta 0:00:10\n",
      "   ---------------------- ----------------- 4.3/7.6 MB 364.1 kB/s eta 0:00:10\n",
      "   ---------------------- ----------------- 4.3/7.6 MB 364.3 kB/s eta 0:00:10\n",
      "   ---------------------- ----------------- 4.3/7.6 MB 363.2 kB/s eta 0:00:10\n",
      "   ---------------------- ----------------- 4.3/7.6 MB 364.0 kB/s eta 0:00:10\n",
      "   ---------------------- ----------------- 4.3/7.6 MB 364.3 kB/s eta 0:00:10\n",
      "   ---------------------- ----------------- 4.4/7.6 MB 363.7 kB/s eta 0:00:10\n",
      "   ---------------------- ----------------- 4.4/7.6 MB 364.0 kB/s eta 0:00:09\n",
      "   ---------------------- ----------------- 4.4/7.6 MB 363.4 kB/s eta 0:00:09\n",
      "   ----------------------- ---------------- 4.4/7.6 MB 363.7 kB/s eta 0:00:09\n",
      "   ----------------------- ---------------- 4.4/7.6 MB 364.0 kB/s eta 0:00:09\n",
      "   ----------------------- ---------------- 4.4/7.6 MB 363.3 kB/s eta 0:00:09\n",
      "   ----------------------- ---------------- 4.4/7.6 MB 363.3 kB/s eta 0:00:09\n",
      "   ----------------------- ---------------- 4.5/7.6 MB 363.5 kB/s eta 0:00:09\n",
      "   ----------------------- ---------------- 4.5/7.6 MB 363.3 kB/s eta 0:00:09\n",
      "   ----------------------- ---------------- 4.5/7.6 MB 363.7 kB/s eta 0:00:09\n",
      "   ----------------------- ---------------- 4.5/7.6 MB 364.3 kB/s eta 0:00:09\n",
      "   ----------------------- ---------------- 4.5/7.6 MB 364.3 kB/s eta 0:00:09\n",
      "   ----------------------- ---------------- 4.6/7.6 MB 363.7 kB/s eta 0:00:09\n",
      "   ------------------------ --------------- 4.6/7.6 MB 363.9 kB/s eta 0:00:09\n",
      "   ------------------------ --------------- 4.6/7.6 MB 363.7 kB/s eta 0:00:09\n",
      "   ------------------------ --------------- 4.6/7.6 MB 364.4 kB/s eta 0:00:09\n",
      "   ------------------------ --------------- 4.6/7.6 MB 363.9 kB/s eta 0:00:09\n",
      "   ------------------------ --------------- 4.7/7.6 MB 364.2 kB/s eta 0:00:09\n",
      "   ------------------------ --------------- 4.7/7.6 MB 363.7 kB/s eta 0:00:09\n",
      "   ------------------------ --------------- 4.7/7.6 MB 363.5 kB/s eta 0:00:09\n",
      "   ------------------------ --------------- 4.7/7.6 MB 363.8 kB/s eta 0:00:09\n",
      "   ------------------------ --------------- 4.7/7.6 MB 364.1 kB/s eta 0:00:09\n",
      "   ------------------------ --------------- 4.7/7.6 MB 364.4 kB/s eta 0:00:08\n",
      "   ------------------------ --------------- 4.8/7.6 MB 363.8 kB/s eta 0:00:08\n",
      "   ------------------------ --------------- 4.8/7.6 MB 364.1 kB/s eta 0:00:08\n",
      "   ------------------------- -------------- 4.8/7.6 MB 363.6 kB/s eta 0:00:08\n",
      "   ------------------------- -------------- 4.8/7.6 MB 363.4 kB/s eta 0:00:08\n",
      "   ------------------------- -------------- 4.8/7.6 MB 364.0 kB/s eta 0:00:08\n",
      "   ------------------------- -------------- 4.8/7.6 MB 364.0 kB/s eta 0:00:08\n",
      "   ------------------------- -------------- 4.8/7.6 MB 364.0 kB/s eta 0:00:08\n",
      "   ------------------------- -------------- 4.8/7.6 MB 364.0 kB/s eta 0:00:08\n",
      "   ------------------------- -------------- 4.8/7.6 MB 364.0 kB/s eta 0:00:08\n",
      "   ------------------------- -------------- 4.9/7.6 MB 363.8 kB/s eta 0:00:08\n",
      "   ------------------------- -------------- 4.9/7.6 MB 362.9 kB/s eta 0:00:08\n",
      "   ------------------------- -------------- 4.9/7.6 MB 363.2 kB/s eta 0:00:08\n",
      "   ------------------------- -------------- 5.0/7.6 MB 364.2 kB/s eta 0:00:08\n",
      "   ------------------------- -------------- 5.0/7.6 MB 364.2 kB/s eta 0:00:08\n",
      "   -------------------------- ------------- 5.0/7.6 MB 364.4 kB/s eta 0:00:08\n",
      "   -------------------------- ------------- 5.0/7.6 MB 363.9 kB/s eta 0:00:08\n",
      "   -------------------------- ------------- 5.0/7.6 MB 364.1 kB/s eta 0:00:08\n",
      "   -------------------------- ------------- 5.0/7.6 MB 364.3 kB/s eta 0:00:08\n",
      "   -------------------------- ------------- 5.0/7.6 MB 364.3 kB/s eta 0:00:08\n",
      "   -------------------------- ------------- 5.1/7.6 MB 363.4 kB/s eta 0:00:08\n",
      "   -------------------------- ------------- 5.1/7.6 MB 364.7 kB/s eta 0:00:07\n",
      "   -------------------------- ------------- 5.1/7.6 MB 364.7 kB/s eta 0:00:07\n",
      "   -------------------------- ------------- 5.1/7.6 MB 363.4 kB/s eta 0:00:07\n",
      "   -------------------------- ------------- 5.1/7.6 MB 364.0 kB/s eta 0:00:07\n",
      "   --------------------------- ------------ 5.2/7.6 MB 364.2 kB/s eta 0:00:07\n",
      "   --------------------------- ------------ 5.2/7.6 MB 364.5 kB/s eta 0:00:07\n",
      "   --------------------------- ------------ 5.2/7.6 MB 364.0 kB/s eta 0:00:07\n",
      "   --------------------------- ------------ 5.2/7.6 MB 364.3 kB/s eta 0:00:07\n",
      "   --------------------------- ------------ 5.2/7.6 MB 363.8 kB/s eta 0:00:07\n",
      "   --------------------------- ------------ 5.2/7.6 MB 364.0 kB/s eta 0:00:07\n",
      "   --------------------------- ------------ 5.3/7.6 MB 364.2 kB/s eta 0:00:07\n",
      "   --------------------------- ------------ 5.3/7.6 MB 364.4 kB/s eta 0:00:07\n",
      "   --------------------------- ------------ 5.3/7.6 MB 363.9 kB/s eta 0:00:07\n",
      "   --------------------------- ------------ 5.3/7.6 MB 364.2 kB/s eta 0:00:07\n",
      "   --------------------------- ------------ 5.3/7.6 MB 364.4 kB/s eta 0:00:07\n",
      "   ---------------------------- ----------- 5.4/7.6 MB 363.9 kB/s eta 0:00:07\n",
      "   ---------------------------- ----------- 5.4/7.6 MB 364.2 kB/s eta 0:00:07\n",
      "   ---------------------------- ----------- 5.4/7.6 MB 364.1 kB/s eta 0:00:07\n",
      "   ---------------------------- ----------- 5.4/7.6 MB 363.9 kB/s eta 0:00:07\n",
      "   ---------------------------- ----------- 5.4/7.6 MB 363.9 kB/s eta 0:00:07\n",
      "   ---------------------------- ----------- 5.4/7.6 MB 364.1 kB/s eta 0:00:07\n",
      "   ---------------------------- ----------- 5.5/7.6 MB 364.3 kB/s eta 0:00:07\n",
      "   ---------------------------- ----------- 5.5/7.6 MB 363.9 kB/s eta 0:00:06\n",
      "   ---------------------------- ----------- 5.5/7.6 MB 364.5 kB/s eta 0:00:06\n",
      "   ---------------------------- ----------- 5.5/7.6 MB 364.7 kB/s eta 0:00:06\n",
      "   ---------------------------- ----------- 5.5/7.6 MB 364.2 kB/s eta 0:00:06\n",
      "   ---------------------------- ----------- 5.5/7.6 MB 364.5 kB/s eta 0:00:06\n",
      "   ----------------------------- ---------- 5.6/7.6 MB 364.0 kB/s eta 0:00:06\n",
      "   ----------------------------- ---------- 5.6/7.6 MB 364.2 kB/s eta 0:00:06\n",
      "   ----------------------------- ---------- 5.6/7.6 MB 364.5 kB/s eta 0:00:06\n",
      "   ----------------------------- ---------- 5.6/7.6 MB 364.0 kB/s eta 0:00:06\n",
      "   ----------------------------- ---------- 5.6/7.6 MB 364.6 kB/s eta 0:00:06\n",
      "   ----------------------------- ---------- 5.6/7.6 MB 364.2 kB/s eta 0:00:06\n",
      "   ----------------------------- ---------- 5.7/7.6 MB 364.4 kB/s eta 0:00:06\n",
      "   ----------------------------- ---------- 5.7/7.6 MB 364.6 kB/s eta 0:00:06\n",
      "   ----------------------------- ---------- 5.7/7.6 MB 364.4 kB/s eta 0:00:06\n",
      "   ----------------------------- ---------- 5.7/7.6 MB 364.7 kB/s eta 0:00:06\n",
      "   ----------------------------- ---------- 5.7/7.6 MB 364.2 kB/s eta 0:00:06\n",
      "   ------------------------------ --------- 5.7/7.6 MB 364.5 kB/s eta 0:00:06\n",
      "   ------------------------------ --------- 5.8/7.6 MB 364.0 kB/s eta 0:00:06\n",
      "   ------------------------------ --------- 5.8/7.6 MB 364.6 kB/s eta 0:00:06\n",
      "   ------------------------------ --------- 5.8/7.6 MB 364.4 kB/s eta 0:00:06\n",
      "   ------------------------------ --------- 5.8/7.6 MB 364.4 kB/s eta 0:00:06\n",
      "   ------------------------------ --------- 5.8/7.6 MB 364.6 kB/s eta 0:00:05\n",
      "   ------------------------------ --------- 5.8/7.6 MB 364.2 kB/s eta 0:00:05\n",
      "   ------------------------------ --------- 5.9/7.6 MB 364.4 kB/s eta 0:00:05\n",
      "   ------------------------------ --------- 5.9/7.6 MB 364.4 kB/s eta 0:00:05\n",
      "   ------------------------------ --------- 5.9/7.6 MB 364.5 kB/s eta 0:00:05\n",
      "   ------------------------------ --------- 5.9/7.6 MB 364.5 kB/s eta 0:00:05\n",
      "   ------------------------------ --------- 5.9/7.6 MB 364.3 kB/s eta 0:00:05\n",
      "   ------------------------------- -------- 5.9/7.6 MB 364.5 kB/s eta 0:00:05\n",
      "   ------------------------------- -------- 5.9/7.6 MB 364.5 kB/s eta 0:00:05\n",
      "   ------------------------------- -------- 6.0/7.6 MB 364.7 kB/s eta 0:00:05\n",
      "   ------------------------------- -------- 6.0/7.6 MB 364.3 kB/s eta 0:00:05\n",
      "   ------------------------------- -------- 6.0/7.6 MB 364.5 kB/s eta 0:00:05\n",
      "   ------------------------------- -------- 6.0/7.6 MB 364.4 kB/s eta 0:00:05\n",
      "   ------------------------------- -------- 6.0/7.6 MB 364.6 kB/s eta 0:00:05\n",
      "   ------------------------------- -------- 6.0/7.6 MB 364.9 kB/s eta 0:00:05\n",
      "   ------------------------------- -------- 6.1/7.6 MB 364.4 kB/s eta 0:00:05\n",
      "   ------------------------------- -------- 6.1/7.6 MB 364.6 kB/s eta 0:00:05\n",
      "   ------------------------------- -------- 6.1/7.6 MB 364.2 kB/s eta 0:00:05\n",
      "   ------------------------------- -------- 6.1/7.6 MB 364.4 kB/s eta 0:00:05\n",
      "   -------------------------------- ------- 6.1/7.6 MB 364.6 kB/s eta 0:00:05\n",
      "   -------------------------------- ------- 6.1/7.6 MB 364.2 kB/s eta 0:00:05\n",
      "   -------------------------------- ------- 6.2/7.6 MB 364.8 kB/s eta 0:00:05\n",
      "   -------------------------------- ------- 6.2/7.6 MB 364.4 kB/s eta 0:00:05\n",
      "   -------------------------------- ------- 6.2/7.6 MB 364.6 kB/s eta 0:00:05\n",
      "   -------------------------------- ------- 6.2/7.6 MB 364.8 kB/s eta 0:00:04\n",
      "   -------------------------------- ------- 6.2/7.6 MB 364.8 kB/s eta 0:00:04\n",
      "   -------------------------------- ------- 6.2/7.6 MB 364.8 kB/s eta 0:00:04\n",
      "   -------------------------------- ------- 6.2/7.6 MB 364.8 kB/s eta 0:00:04\n",
      "   -------------------------------- ------- 6.2/7.6 MB 364.8 kB/s eta 0:00:04\n",
      "   -------------------------------- ------- 6.2/7.6 MB 364.8 kB/s eta 0:00:04\n",
      "   -------------------------------- ------- 6.2/7.6 MB 364.8 kB/s eta 0:00:04\n",
      "   -------------------------------- ------- 6.2/7.6 MB 364.8 kB/s eta 0:00:04\n",
      "   -------------------------------- ------- 6.2/7.6 MB 364.8 kB/s eta 0:00:04\n",
      "   -------------------------------- ------- 6.2/7.6 MB 364.8 kB/s eta 0:00:04\n",
      "   -------------------------------- ------- 6.2/7.6 MB 364.8 kB/s eta 0:00:04\n",
      "   -------------------------------- ------- 6.2/7.6 MB 364.8 kB/s eta 0:00:04\n",
      "   -------------------------------- ------- 6.3/7.6 MB 356.6 kB/s eta 0:00:04\n",
      "   -------------------------------- ------- 6.3/7.6 MB 356.6 kB/s eta 0:00:04\n",
      "   -------------------------------- ------- 6.3/7.6 MB 355.8 kB/s eta 0:00:04\n",
      "   -------------------------------- ------- 6.3/7.6 MB 355.8 kB/s eta 0:00:04\n",
      "   -------------------------------- ------- 6.3/7.6 MB 354.5 kB/s eta 0:00:04\n",
      "   -------------------------------- ------- 6.3/7.6 MB 354.5 kB/s eta 0:00:04\n",
      "   --------------------------------- ------ 6.3/7.6 MB 353.8 kB/s eta 0:00:04\n",
      "   --------------------------------- ------ 6.3/7.6 MB 353.8 kB/s eta 0:00:04\n",
      "   --------------------------------- ------ 6.3/7.6 MB 353.7 kB/s eta 0:00:04\n",
      "   --------------------------------- ------ 6.3/7.6 MB 353.1 kB/s eta 0:00:04\n",
      "   --------------------------------- ------ 6.4/7.6 MB 353.3 kB/s eta 0:00:04\n",
      "   --------------------------------- ------ 6.4/7.6 MB 353.8 kB/s eta 0:00:04\n",
      "   --------------------------------- ------ 6.4/7.6 MB 354.0 kB/s eta 0:00:04\n",
      "   --------------------------------- ------ 6.4/7.6 MB 353.9 kB/s eta 0:00:04\n",
      "   --------------------------------- ------ 6.5/7.6 MB 354.4 kB/s eta 0:00:04\n",
      "   --------------------------------- ------ 6.5/7.6 MB 354.9 kB/s eta 0:00:04\n",
      "   ---------------------------------- ----- 6.5/7.6 MB 355.7 kB/s eta 0:00:04\n",
      "   ---------------------------------- ----- 6.5/7.6 MB 356.1 kB/s eta 0:00:04\n",
      "   ---------------------------------- ----- 6.6/7.6 MB 356.7 kB/s eta 0:00:04\n",
      "   ---------------------------------- ----- 6.6/7.6 MB 357.1 kB/s eta 0:00:03\n",
      "   ---------------------------------- ----- 6.6/7.6 MB 357.9 kB/s eta 0:00:03\n",
      "   ---------------------------------- ----- 6.6/7.6 MB 358.4 kB/s eta 0:00:03\n",
      "   ---------------------------------- ----- 6.7/7.6 MB 358.6 kB/s eta 0:00:03\n",
      "   ---------------------------------- ----- 6.7/7.6 MB 358.5 kB/s eta 0:00:03\n",
      "   ----------------------------------- ---- 6.7/7.6 MB 358.7 kB/s eta 0:00:03\n",
      "   ----------------------------------- ---- 6.7/7.6 MB 358.3 kB/s eta 0:00:03\n",
      "   ----------------------------------- ---- 6.7/7.6 MB 358.5 kB/s eta 0:00:03\n",
      "   ----------------------------------- ---- 6.8/7.6 MB 358.7 kB/s eta 0:00:03\n",
      "   ----------------------------------- ---- 6.8/7.6 MB 358.6 kB/s eta 0:00:03\n",
      "   ----------------------------------- ---- 6.8/7.6 MB 358.6 kB/s eta 0:00:03\n",
      "   ----------------------------------- ---- 6.8/7.6 MB 358.6 kB/s eta 0:00:03\n",
      "   ----------------------------------- ---- 6.8/7.6 MB 358.6 kB/s eta 0:00:03\n",
      "   ----------------------------------- ---- 6.8/7.6 MB 358.6 kB/s eta 0:00:03\n",
      "   ----------------------------------- ---- 6.8/7.6 MB 358.6 kB/s eta 0:00:03\n",
      "   ----------------------------------- ---- 6.8/7.6 MB 358.6 kB/s eta 0:00:03\n",
      "   ----------------------------------- ---- 6.8/7.6 MB 358.6 kB/s eta 0:00:03\n",
      "   ----------------------------------- ---- 6.8/7.6 MB 358.6 kB/s eta 0:00:03\n",
      "   ----------------------------------- ---- 6.8/7.6 MB 358.6 kB/s eta 0:00:03\n",
      "   ----------------------------------- ---- 6.8/7.6 MB 353.7 kB/s eta 0:00:03\n",
      "   ----------------------------------- ---- 6.8/7.6 MB 353.7 kB/s eta 0:00:03\n",
      "   ----------------------------------- ---- 6.8/7.6 MB 353.7 kB/s eta 0:00:03\n",
      "   ----------------------------------- ---- 6.9/7.6 MB 351.6 kB/s eta 0:00:03\n",
      "   ----------------------------------- ---- 6.9/7.6 MB 351.6 kB/s eta 0:00:03\n",
      "   ----------------------------------- ---- 6.9/7.6 MB 351.0 kB/s eta 0:00:03\n",
      "   ----------------------------------- ---- 6.9/7.6 MB 351.0 kB/s eta 0:00:03\n",
      "   ------------------------------------ --- 6.9/7.6 MB 350.1 kB/s eta 0:00:03\n",
      "   ------------------------------------ --- 6.9/7.6 MB 350.3 kB/s eta 0:00:03\n",
      "   ------------------------------------ --- 6.9/7.6 MB 350.5 kB/s eta 0:00:03\n",
      "   ------------------------------------ --- 6.9/7.6 MB 350.2 kB/s eta 0:00:03\n",
      "   ------------------------------------ --- 7.0/7.6 MB 350.9 kB/s eta 0:00:02\n",
      "   ------------------------------------ --- 7.0/7.6 MB 351.1 kB/s eta 0:00:02\n",
      "   ------------------------------------ --- 7.0/7.6 MB 350.8 kB/s eta 0:00:02\n",
      "   ------------------------------------ --- 7.0/7.6 MB 351.3 kB/s eta 0:00:02\n",
      "   ------------------------------------ --- 7.0/7.6 MB 351.5 kB/s eta 0:00:02\n",
      "   ------------------------------------ --- 7.1/7.6 MB 351.9 kB/s eta 0:00:02\n",
      "   ------------------------------------- -- 7.1/7.6 MB 352.1 kB/s eta 0:00:02\n",
      "   ------------------------------------- -- 7.1/7.6 MB 352.1 kB/s eta 0:00:02\n",
      "   ------------------------------------- -- 7.1/7.6 MB 352.8 kB/s eta 0:00:02\n",
      "   ------------------------------------- -- 7.1/7.6 MB 353.0 kB/s eta 0:00:02\n",
      "   ------------------------------------- -- 7.2/7.6 MB 353.5 kB/s eta 0:00:02\n",
      "   ------------------------------------- -- 7.2/7.6 MB 353.9 kB/s eta 0:00:02\n",
      "   ------------------------------------- -- 7.2/7.6 MB 353.8 kB/s eta 0:00:02\n",
      "   ------------------------------------- -- 7.2/7.6 MB 354.8 kB/s eta 0:00:02\n",
      "   ------------------------------------- -- 7.3/7.6 MB 354.5 kB/s eta 0:00:02\n",
      "   -------------------------------------- - 7.3/7.6 MB 354.7 kB/s eta 0:00:02\n",
      "   -------------------------------------- - 7.3/7.6 MB 355.1 kB/s eta 0:00:01\n",
      "   -------------------------------------- - 7.3/7.6 MB 355.3 kB/s eta 0:00:01\n",
      "   -------------------------------------- - 7.3/7.6 MB 354.9 kB/s eta 0:00:01\n",
      "   -------------------------------------- - 7.4/7.6 MB 354.9 kB/s eta 0:00:01\n",
      "   -------------------------------------- - 7.4/7.6 MB 355.1 kB/s eta 0:00:01\n",
      "   -------------------------------------- - 7.4/7.6 MB 355.1 kB/s eta 0:00:01\n",
      "   -------------------------------------- - 7.4/7.6 MB 355.5 kB/s eta 0:00:01\n",
      "   -------------------------------------- - 7.4/7.6 MB 355.1 kB/s eta 0:00:01\n",
      "   -------------------------------------- - 7.4/7.6 MB 355.3 kB/s eta 0:00:01\n",
      "   ---------------------------------------  7.5/7.6 MB 355.0 kB/s eta 0:00:01\n",
      "   ---------------------------------------  7.5/7.6 MB 355.2 kB/s eta 0:00:01\n",
      "   ---------------------------------------  7.5/7.6 MB 355.7 kB/s eta 0:00:01\n",
      "   ---------------------------------------  7.5/7.6 MB 355.3 kB/s eta 0:00:01\n",
      "   ---------------------------------------  7.5/7.6 MB 355.5 kB/s eta 0:00:01\n",
      "   ---------------------------------------  7.5/7.6 MB 355.2 kB/s eta 0:00:01\n",
      "   ---------------------------------------  7.6/7.6 MB 355.4 kB/s eta 0:00:01\n",
      "   ---------------------------------------  7.6/7.6 MB 355.6 kB/s eta 0:00:01\n",
      "   ---------------------------------------  7.6/7.6 MB 355.3 kB/s eta 0:00:01\n",
      "   ---------------------------------------  7.6/7.6 MB 355.5 kB/s eta 0:00:01\n",
      "   ---------------------------------------  7.6/7.6 MB 355.2 kB/s eta 0:00:01\n",
      "   ---------------------------------------  7.6/7.6 MB 355.3 kB/s eta 0:00:01\n",
      "   ---------------------------------------- 7.6/7.6 MB 354.6 kB/s eta 0:00:00\n",
      "Downloading contourpy-1.1.1-cp312-cp312-win_amd64.whl (486 kB)\n",
      "   ---------------------------------------- 0.0/486.7 kB ? eta -:--:--\n",
      "    --------------------------------------- 10.2/486.7 kB ? eta -:--:--\n",
      "   -- ------------------------------------ 30.7/486.7 kB 660.6 kB/s eta 0:00:01\n",
      "   --- ----------------------------------- 41.0/486.7 kB 393.8 kB/s eta 0:00:02\n",
      "   ------ -------------------------------- 81.9/486.7 kB 512.0 kB/s eta 0:00:01\n",
      "   ------- ------------------------------- 92.2/486.7 kB 525.1 kB/s eta 0:00:01\n",
      "   --------- ---------------------------- 122.9/486.7 kB 481.4 kB/s eta 0:00:01\n",
      "   ----------- -------------------------- 143.4/486.7 kB 502.3 kB/s eta 0:00:01\n",
      "   ------------- ------------------------ 174.1/486.7 kB 499.5 kB/s eta 0:00:01\n",
      "   ------------- ------------------------ 174.1/486.7 kB 499.5 kB/s eta 0:00:01\n",
      "   --------------- ---------------------- 204.8/486.7 kB 498.9 kB/s eta 0:00:01\n",
      "   ----------------- -------------------- 225.3/486.7 kB 509.6 kB/s eta 0:00:01\n",
      "   ----------------- -------------------- 225.3/486.7 kB 509.6 kB/s eta 0:00:01\n",
      "   ------------------- ------------------ 245.8/486.7 kB 486.6 kB/s eta 0:00:01\n",
      "   ------------------- ------------------ 245.8/486.7 kB 486.6 kB/s eta 0:00:01\n",
      "   ------------------- ------------------ 245.8/486.7 kB 486.6 kB/s eta 0:00:01\n",
      "   ------------------- ------------------ 245.8/486.7 kB 486.6 kB/s eta 0:00:01\n",
      "   ------------------- ------------------ 245.8/486.7 kB 486.6 kB/s eta 0:00:01\n",
      "   ------------------- ------------------ 245.8/486.7 kB 486.6 kB/s eta 0:00:01\n",
      "   ------------------- ------------------ 245.8/486.7 kB 486.6 kB/s eta 0:00:01\n",
      "   ------------------- ------------------ 245.8/486.7 kB 486.6 kB/s eta 0:00:01\n",
      "   ------------------- ------------------ 245.8/486.7 kB 486.6 kB/s eta 0:00:01\n",
      "   ------------------- ------------------ 245.8/486.7 kB 486.6 kB/s eta 0:00:01\n",
      "   ----------------------- -------------- 297.0/486.7 kB 286.7 kB/s eta 0:00:01\n",
      "   ----------------------- -------------- 297.0/486.7 kB 286.7 kB/s eta 0:00:01\n",
      "   ------------------------ ------------- 317.4/486.7 kB 280.8 kB/s eta 0:00:01\n",
      "   ------------------------ ------------- 317.4/486.7 kB 280.8 kB/s eta 0:00:01\n",
      "   ------------------------ ------------- 317.4/486.7 kB 280.8 kB/s eta 0:00:01\n",
      "   ------------------------- ------------ 327.7/486.7 kB 263.9 kB/s eta 0:00:01\n",
      "   ------------------------- ------------ 327.7/486.7 kB 263.9 kB/s eta 0:00:01\n",
      "   --------------------------- ---------- 348.2/486.7 kB 257.6 kB/s eta 0:00:01\n",
      "   --------------------------- ---------- 348.2/486.7 kB 257.6 kB/s eta 0:00:01\n",
      "   ---------------------------- --------- 368.6/486.7 kB 260.7 kB/s eta 0:00:01\n",
      "   ----------------------------- -------- 378.9/486.7 kB 256.5 kB/s eta 0:00:01\n",
      "   ------------------------------- ------ 399.4/486.7 kB 264.9 kB/s eta 0:00:01\n",
      "   --------------------------------- ---- 430.1/486.7 kB 271.4 kB/s eta 0:00:01\n",
      "   ----------------------------------- -- 450.6/486.7 kB 276.2 kB/s eta 0:00:01\n",
      "   ----------------------------------- -- 460.8/486.7 kB 277.3 kB/s eta 0:00:01\n",
      "   -------------------------------------- 486.7/486.7 kB 284.9 kB/s eta 0:00:00\n",
      "Downloading cycler-0.12.1-py3-none-any.whl (8.3 kB)\n",
      "Downloading fonttools-4.43.1-cp312-cp312-win_amd64.whl (2.1 MB)\n",
      "   ---------------------------------------- 0.0/2.1 MB ? eta -:--:--\n",
      "   ---------------------------------------- 0.0/2.1 MB ? eta -:--:--\n",
      "    --------------------------------------- 0.0/2.1 MB 435.7 kB/s eta 0:00:05\n",
      "   - -------------------------------------- 0.1/2.1 MB 469.7 kB/s eta 0:00:05\n",
      "   - -------------------------------------- 0.1/2.1 MB 476.3 kB/s eta 0:00:05\n",
      "   -- ------------------------------------- 0.1/2.1 MB 504.4 kB/s eta 0:00:05\n",
      "   -- ------------------------------------- 0.1/2.1 MB 502.3 kB/s eta 0:00:04\n",
      "   --- ------------------------------------ 0.2/2.1 MB 517.2 kB/s eta 0:00:04\n",
      "   --- ------------------------------------ 0.2/2.1 MB 513.4 kB/s eta 0:00:04\n",
      "   --- ------------------------------------ 0.2/2.1 MB 498.9 kB/s eta 0:00:04\n",
      "   --- ------------------------------------ 0.2/2.1 MB 498.9 kB/s eta 0:00:04\n",
      "   --- ------------------------------------ 0.2/2.1 MB 498.9 kB/s eta 0:00:04\n",
      "   --- ------------------------------------ 0.2/2.1 MB 498.9 kB/s eta 0:00:04\n",
      "   --- ------------------------------------ 0.2/2.1 MB 498.9 kB/s eta 0:00:04\n",
      "   --- ------------------------------------ 0.2/2.1 MB 498.9 kB/s eta 0:00:04\n",
      "   --- ------------------------------------ 0.2/2.1 MB 498.9 kB/s eta 0:00:04\n",
      "   --- ------------------------------------ 0.2/2.1 MB 498.9 kB/s eta 0:00:04\n",
      "   --- ------------------------------------ 0.2/2.1 MB 498.9 kB/s eta 0:00:04\n",
      "   --- ------------------------------------ 0.2/2.1 MB 498.9 kB/s eta 0:00:04\n",
      "   --- ------------------------------------ 0.2/2.1 MB 498.9 kB/s eta 0:00:04\n",
      "   ---- ----------------------------------- 0.2/2.1 MB 237.3 kB/s eta 0:00:09\n",
      "   ---- ----------------------------------- 0.2/2.1 MB 237.3 kB/s eta 0:00:09\n",
      "   ----- ---------------------------------- 0.3/2.1 MB 266.2 kB/s eta 0:00:07\n",
      "   ----- ---------------------------------- 0.3/2.1 MB 260.3 kB/s eta 0:00:08\n",
      "   ----- ---------------------------------- 0.3/2.1 MB 260.3 kB/s eta 0:00:08\n",
      "   ----- ---------------------------------- 0.3/2.1 MB 260.5 kB/s eta 0:00:08\n",
      "   ----- ---------------------------------- 0.3/2.1 MB 260.5 kB/s eta 0:00:08\n",
      "   ------ --------------------------------- 0.3/2.1 MB 254.0 kB/s eta 0:00:08\n",
      "   ------ --------------------------------- 0.3/2.1 MB 249.8 kB/s eta 0:00:08\n",
      "   ------ --------------------------------- 0.4/2.1 MB 256.2 kB/s eta 0:00:07\n",
      "   ------ --------------------------------- 0.4/2.1 MB 254.9 kB/s eta 0:00:07\n",
      "   ------- -------------------------------- 0.4/2.1 MB 263.7 kB/s eta 0:00:07\n",
      "   ------- -------------------------------- 0.4/2.1 MB 266.2 kB/s eta 0:00:07\n",
      "   ------- -------------------------------- 0.4/2.1 MB 264.8 kB/s eta 0:00:07\n",
      "   -------- ------------------------------- 0.4/2.1 MB 275.3 kB/s eta 0:00:07\n",
      "   -------- ------------------------------- 0.5/2.1 MB 281.0 kB/s eta 0:00:06\n",
      "   -------- ------------------------------- 0.5/2.1 MB 281.0 kB/s eta 0:00:06\n",
      "   --------- ------------------------------ 0.5/2.1 MB 285.3 kB/s eta 0:00:06\n",
      "   --------- ------------------------------ 0.5/2.1 MB 290.1 kB/s eta 0:00:06\n",
      "   --------- ------------------------------ 0.5/2.1 MB 290.6 kB/s eta 0:00:06\n",
      "   ---------- ----------------------------- 0.6/2.1 MB 294.5 kB/s eta 0:00:06\n",
      "   ---------- ----------------------------- 0.6/2.1 MB 295.5 kB/s eta 0:00:06\n",
      "   ---------- ----------------------------- 0.6/2.1 MB 296.0 kB/s eta 0:00:06\n",
      "   ----------- ---------------------------- 0.6/2.1 MB 299.4 kB/s eta 0:00:06\n",
      "   ----------- ---------------------------- 0.6/2.1 MB 305.1 kB/s eta 0:00:05\n",
      "   ------------ --------------------------- 0.7/2.1 MB 308.2 kB/s eta 0:00:05\n",
      "   ------------ --------------------------- 0.7/2.1 MB 308.4 kB/s eta 0:00:05\n",
      "   ------------- -------------------------- 0.7/2.1 MB 311.4 kB/s eta 0:00:05\n",
      "   ------------- -------------------------- 0.7/2.1 MB 311.4 kB/s eta 0:00:05\n",
      "   ------------- -------------------------- 0.7/2.1 MB 318.7 kB/s eta 0:00:05\n",
      "   -------------- ------------------------- 0.7/2.1 MB 316.7 kB/s eta 0:00:05\n",
      "   -------------- ------------------------- 0.8/2.1 MB 321.2 kB/s eta 0:00:05\n",
      "   -------------- ------------------------- 0.8/2.1 MB 323.5 kB/s eta 0:00:05\n",
      "   --------------- ------------------------ 0.8/2.1 MB 327.8 kB/s eta 0:00:05\n",
      "   --------------- ------------------------ 0.8/2.1 MB 327.7 kB/s eta 0:00:04\n",
      "   ---------------- ----------------------- 0.9/2.1 MB 329.7 kB/s eta 0:00:04\n",
      "   ---------------- ----------------------- 0.9/2.1 MB 331.6 kB/s eta 0:00:04\n",
      "   ---------------- ----------------------- 0.9/2.1 MB 333.4 kB/s eta 0:00:04\n",
      "   ----------------- ---------------------- 0.9/2.1 MB 335.3 kB/s eta 0:00:04\n",
      "   ----------------- ---------------------- 0.9/2.1 MB 337.0 kB/s eta 0:00:04\n",
      "   ------------------ --------------------- 1.0/2.1 MB 340.5 kB/s eta 0:00:04\n",
      "   ------------------ --------------------- 1.0/2.1 MB 338.6 kB/s eta 0:00:04\n",
      "   ------------------ --------------------- 1.0/2.1 MB 341.9 kB/s eta 0:00:04\n",
      "   ------------------ --------------------- 1.0/2.1 MB 338.2 kB/s eta 0:00:04\n",
      "   ------------------- -------------------- 1.0/2.1 MB 341.6 kB/s eta 0:00:04\n",
      "   ------------------- -------------------- 1.0/2.1 MB 343.0 kB/s eta 0:00:04\n",
      "   ------------------- -------------------- 1.1/2.1 MB 344.5 kB/s eta 0:00:04\n",
      "   -------------------- ------------------- 1.1/2.1 MB 342.5 kB/s eta 0:00:04\n",
      "   -------------------- ------------------- 1.1/2.1 MB 342.2 kB/s eta 0:00:04\n",
      "   -------------------- ------------------- 1.1/2.1 MB 340.5 kB/s eta 0:00:04\n",
      "   --------------------- ------------------ 1.1/2.1 MB 341.9 kB/s eta 0:00:03\n",
      "   --------------------- ------------------ 1.1/2.1 MB 341.9 kB/s eta 0:00:03\n",
      "   --------------------- ------------------ 1.2/2.1 MB 339.8 kB/s eta 0:00:03\n",
      "   ---------------------- ----------------- 1.2/2.1 MB 341.1 kB/s eta 0:00:03\n",
      "   ---------------------- ----------------- 1.2/2.1 MB 341.0 kB/s eta 0:00:03\n",
      "   ---------------------- ----------------- 1.2/2.1 MB 342.3 kB/s eta 0:00:03\n",
      "   ----------------------- ---------------- 1.2/2.1 MB 343.5 kB/s eta 0:00:03\n",
      "   ----------------------- ---------------- 1.2/2.1 MB 343.5 kB/s eta 0:00:03\n",
      "   ----------------------- ---------------- 1.2/2.1 MB 339.0 kB/s eta 0:00:03\n",
      "   ----------------------- ---------------- 1.3/2.1 MB 340.1 kB/s eta 0:00:03\n",
      "   ----------------------- ---------------- 1.3/2.1 MB 340.1 kB/s eta 0:00:03\n",
      "   ------------------------ --------------- 1.3/2.1 MB 341.2 kB/s eta 0:00:03\n",
      "   ------------------------ --------------- 1.3/2.1 MB 339.7 kB/s eta 0:00:03\n",
      "   ------------------------ --------------- 1.3/2.1 MB 340.9 kB/s eta 0:00:03\n",
      "   ------------------------ --------------- 1.3/2.1 MB 340.9 kB/s eta 0:00:03\n",
      "   ------------------------- -------------- 1.4/2.1 MB 340.6 kB/s eta 0:00:03\n",
      "   ------------------------- -------------- 1.4/2.1 MB 340.4 kB/s eta 0:00:03\n",
      "   -------------------------- ------------- 1.4/2.1 MB 340.3 kB/s eta 0:00:03\n",
      "   -------------------------- ------------- 1.4/2.1 MB 340.3 kB/s eta 0:00:03\n",
      "   -------------------------- ------------- 1.4/2.1 MB 338.9 kB/s eta 0:00:03\n",
      "   -------------------------- ------------- 1.4/2.1 MB 338.7 kB/s eta 0:00:03\n",
      "   --------------------------- ------------ 1.4/2.1 MB 338.6 kB/s eta 0:00:03\n",
      "   --------------------------- ------------ 1.5/2.1 MB 338.3 kB/s eta 0:00:02\n",
      "   --------------------------- ------------ 1.5/2.1 MB 338.3 kB/s eta 0:00:02\n",
      "   --------------------------- ------------ 1.5/2.1 MB 338.3 kB/s eta 0:00:02\n",
      "   ---------------------------- ----------- 1.5/2.1 MB 340.4 kB/s eta 0:00:02\n",
      "   ---------------------------- ----------- 1.5/2.1 MB 336.8 kB/s eta 0:00:02\n",
      "   ----------------------------- ---------- 1.5/2.1 MB 337.8 kB/s eta 0:00:02\n",
      "   ----------------------------- ---------- 1.6/2.1 MB 336.7 kB/s eta 0:00:02\n",
      "   ----------------------------- ---------- 1.6/2.1 MB 336.7 kB/s eta 0:00:02\n",
      "   ----------------------------- ---------- 1.6/2.1 MB 336.7 kB/s eta 0:00:02\n",
      "   ----------------------------- ---------- 1.6/2.1 MB 331.0 kB/s eta 0:00:02\n",
      "   ----------------------------- ---------- 1.6/2.1 MB 331.0 kB/s eta 0:00:02\n",
      "   ----------------------------- ---------- 1.6/2.1 MB 331.0 kB/s eta 0:00:02\n",
      "   ----------------------------- ---------- 1.6/2.1 MB 331.0 kB/s eta 0:00:02\n",
      "   ----------------------------- ---------- 1.6/2.1 MB 331.0 kB/s eta 0:00:02\n",
      "   ----------------------------- ---------- 1.6/2.1 MB 317.4 kB/s eta 0:00:02\n",
      "   ------------------------------ --------- 1.6/2.1 MB 323.6 kB/s eta 0:00:02\n",
      "   ------------------------------ --------- 1.6/2.1 MB 323.6 kB/s eta 0:00:02\n",
      "   ------------------------------ --------- 1.6/2.1 MB 323.6 kB/s eta 0:00:02\n",
      "   ------------------------------- -------- 1.7/2.1 MB 323.7 kB/s eta 0:00:02\n",
      "   ------------------------------- -------- 1.7/2.1 MB 323.8 kB/s eta 0:00:02\n",
      "   ------------------------------- -------- 1.7/2.1 MB 321.8 kB/s eta 0:00:02\n",
      "   -------------------------------- ------- 1.7/2.1 MB 321.9 kB/s eta 0:00:02\n",
      "   -------------------------------- ------- 1.7/2.1 MB 321.9 kB/s eta 0:00:02\n",
      "   -------------------------------- ------- 1.8/2.1 MB 322.0 kB/s eta 0:00:02\n",
      "   --------------------------------- ------ 1.8/2.1 MB 323.9 kB/s eta 0:00:02\n",
      "   --------------------------------- ------ 1.8/2.1 MB 324.0 kB/s eta 0:00:02\n",
      "   ---------------------------------- ----- 1.8/2.1 MB 325.8 kB/s eta 0:00:01\n",
      "   ---------------------------------- ----- 1.8/2.1 MB 325.8 kB/s eta 0:00:01\n",
      "   ---------------------------------- ----- 1.8/2.1 MB 325.9 kB/s eta 0:00:01\n",
      "   ---------------------------------- ----- 1.8/2.1 MB 325.9 kB/s eta 0:00:01\n",
      "   ---------------------------------- ----- 1.9/2.1 MB 326.8 kB/s eta 0:00:01\n",
      "   ----------------------------------- ---- 1.9/2.1 MB 327.7 kB/s eta 0:00:01\n",
      "   ----------------------------------- ---- 1.9/2.1 MB 326.8 kB/s eta 0:00:01\n",
      "   ----------------------------------- ---- 1.9/2.1 MB 327.7 kB/s eta 0:00:01\n",
      "   ------------------------------------ --- 1.9/2.1 MB 326.8 kB/s eta 0:00:01\n",
      "   ------------------------------------ --- 1.9/2.1 MB 326.8 kB/s eta 0:00:01\n",
      "   ------------------------------------ --- 1.9/2.1 MB 326.8 kB/s eta 0:00:01\n",
      "   ------------------------------------- -- 2.0/2.1 MB 327.7 kB/s eta 0:00:01\n",
      "   ------------------------------------- -- 2.0/2.1 MB 328.5 kB/s eta 0:00:01\n",
      "   ------------------------------------- -- 2.0/2.1 MB 327.7 kB/s eta 0:00:01\n",
      "   ------------------------------------- -- 2.0/2.1 MB 327.7 kB/s eta 0:00:01\n",
      "   -------------------------------------- - 2.0/2.1 MB 326.8 kB/s eta 0:00:01\n",
      "   -------------------------------------- - 2.0/2.1 MB 327.7 kB/s eta 0:00:01\n",
      "   -------------------------------------- - 2.1/2.1 MB 328.5 kB/s eta 0:00:01\n",
      "   -------------------------------------- - 2.1/2.1 MB 329.3 kB/s eta 0:00:01\n",
      "   ---------------------------------------  2.1/2.1 MB 328.5 kB/s eta 0:00:01\n",
      "   ---------------------------------------  2.1/2.1 MB 330.1 kB/s eta 0:00:01\n",
      "   ---------------------------------------- 2.1/2.1 MB 329.6 kB/s eta 0:00:00\n",
      "Downloading kiwisolver-1.4.5-cp312-cp312-win_amd64.whl (56 kB)\n",
      "   ---------------------------------------- 0.0/56.0 kB ? eta -:--:--\n",
      "   ------- -------------------------------- 10.2/56.0 kB ? eta -:--:--\n",
      "   ----------------------------- ---------- 41.0/56.0 kB 487.6 kB/s eta 0:00:01\n",
      "   ---------------------------------------- 56.0/56.0 kB 579.3 kB/s eta 0:00:00\n",
      "Downloading Pillow-10.1.0-cp312-cp312-win_amd64.whl (2.6 MB)\n",
      "   ---------------------------------------- 0.0/2.6 MB ? eta -:--:--\n",
      "   ---------------------------------------- 0.0/2.6 MB ? eta -:--:--\n",
      "    --------------------------------------- 0.0/2.6 MB 495.5 kB/s eta 0:00:06\n",
      "   - -------------------------------------- 0.1/2.6 MB 573.4 kB/s eta 0:00:05\n",
      "   - -------------------------------------- 0.1/2.6 MB 525.1 kB/s eta 0:00:05\n",
      "   - -------------------------------------- 0.1/2.6 MB 516.7 kB/s eta 0:00:05\n",
      "   -- ------------------------------------- 0.1/2.6 MB 532.5 kB/s eta 0:00:05\n",
      "   -- ------------------------------------- 0.2/2.6 MB 525.1 kB/s eta 0:00:05\n",
      "   --- ------------------------------------ 0.2/2.6 MB 541.9 kB/s eta 0:00:05\n",
      "   --- ------------------------------------ 0.2/2.6 MB 529.7 kB/s eta 0:00:05\n",
      "   --- ------------------------------------ 0.2/2.6 MB 519.9 kB/s eta 0:00:05\n",
      "   --- ------------------------------------ 0.3/2.6 MB 507.8 kB/s eta 0:00:05\n",
      "   ---- ----------------------------------- 0.3/2.6 MB 501.4 kB/s eta 0:00:05\n",
      "   ---- ----------------------------------- 0.3/2.6 MB 478.3 kB/s eta 0:00:05\n",
      "   ---- ----------------------------------- 0.3/2.6 MB 475.1 kB/s eta 0:00:05\n",
      "   ----- ---------------------------------- 0.3/2.6 MB 473.1 kB/s eta 0:00:05\n",
      "   ----- ---------------------------------- 0.3/2.6 MB 456.4 kB/s eta 0:00:05\n",
      "   ----- ---------------------------------- 0.4/2.6 MB 455.1 kB/s eta 0:00:05\n",
      "   ----- ---------------------------------- 0.4/2.6 MB 441.4 kB/s eta 0:00:06\n",
      "   ----- ---------------------------------- 0.4/2.6 MB 449.4 kB/s eta 0:00:05\n",
      "   ------ --------------------------------- 0.4/2.6 MB 448.7 kB/s eta 0:00:05\n",
      "   ------ --------------------------------- 0.4/2.6 MB 429.8 kB/s eta 0:00:06\n",
      "   ------ --------------------------------- 0.4/2.6 MB 437.1 kB/s eta 0:00:05\n",
      "   ------ --------------------------------- 0.5/2.6 MB 427.1 kB/s eta 0:00:06\n",
      "   ------- -------------------------------- 0.5/2.6 MB 433.9 kB/s eta 0:00:05\n",
      "   ------- -------------------------------- 0.5/2.6 MB 433.9 kB/s eta 0:00:05\n",
      "   ------- -------------------------------- 0.5/2.6 MB 419.7 kB/s eta 0:00:06\n",
      "   ------- -------------------------------- 0.5/2.6 MB 419.7 kB/s eta 0:00:06\n",
      "   -------- ------------------------------- 0.5/2.6 MB 414.9 kB/s eta 0:00:06\n",
      "   -------- ------------------------------- 0.5/2.6 MB 412.8 kB/s eta 0:00:06\n",
      "   -------- ------------------------------- 0.6/2.6 MB 413.7 kB/s eta 0:00:05\n",
      "   -------- ------------------------------- 0.6/2.6 MB 414.4 kB/s eta 0:00:05\n",
      "   -------- ------------------------------- 0.6/2.6 MB 412.5 kB/s eta 0:00:05\n",
      "   --------- ------------------------------ 0.6/2.6 MB 406.2 kB/s eta 0:00:05\n",
      "   --------- ------------------------------ 0.6/2.6 MB 407.1 kB/s eta 0:00:05\n",
      "   --------- ------------------------------ 0.6/2.6 MB 401.3 kB/s eta 0:00:05\n",
      "   --------- ------------------------------ 0.6/2.6 MB 402.3 kB/s eta 0:00:05\n",
      "   ---------- ----------------------------- 0.7/2.6 MB 403.3 kB/s eta 0:00:05\n",
      "   ---------- ----------------------------- 0.7/2.6 MB 401.9 kB/s eta 0:00:05\n",
      "   ---------- ----------------------------- 0.7/2.6 MB 402.9 kB/s eta 0:00:05\n",
      "   ---------- ----------------------------- 0.7/2.6 MB 397.9 kB/s eta 0:00:05\n",
      "   ----------- ---------------------------- 0.7/2.6 MB 399.1 kB/s eta 0:00:05\n",
      "   ----------- ---------------------------- 0.7/2.6 MB 400.0 kB/s eta 0:00:05\n",
      "   ----------- ---------------------------- 0.8/2.6 MB 395.5 kB/s eta 0:00:05\n",
      "   ----------- ---------------------------- 0.8/2.6 MB 399.8 kB/s eta 0:00:05\n",
      "   ------------ --------------------------- 0.8/2.6 MB 395.4 kB/s eta 0:00:05\n",
      "   ------------ --------------------------- 0.8/2.6 MB 396.4 kB/s eta 0:00:05\n",
      "   ------------ --------------------------- 0.8/2.6 MB 397.3 kB/s eta 0:00:05\n",
      "   ------------ --------------------------- 0.8/2.6 MB 393.3 kB/s eta 0:00:05\n",
      "   ------------- -------------------------- 0.9/2.6 MB 394.2 kB/s eta 0:00:05\n",
      "   ------------- -------------------------- 0.9/2.6 MB 393.3 kB/s eta 0:00:05\n",
      "   ------------- -------------------------- 0.9/2.6 MB 391.4 kB/s eta 0:00:05\n",
      "   ------------- -------------------------- 0.9/2.6 MB 395.1 kB/s eta 0:00:05\n",
      "   -------------- ------------------------- 0.9/2.6 MB 391.5 kB/s eta 0:00:05\n",
      "   -------------- ------------------------- 0.9/2.6 MB 392.4 kB/s eta 0:00:05\n",
      "   -------------- ------------------------- 1.0/2.6 MB 389.1 kB/s eta 0:00:05\n",
      "   -------------- ------------------------- 1.0/2.6 MB 389.1 kB/s eta 0:00:05\n",
      "   --------------- ------------------------ 1.0/2.6 MB 390.9 kB/s eta 0:00:05\n",
      "   --------------- ------------------------ 1.0/2.6 MB 390.1 kB/s eta 0:00:05\n",
      "   --------------- ------------------------ 1.0/2.6 MB 391.0 kB/s eta 0:00:05\n",
      "   --------------- ------------------------ 1.0/2.6 MB 391.0 kB/s eta 0:00:05\n",
      "   --------------- ------------------------ 1.0/2.6 MB 387.9 kB/s eta 0:00:05\n",
      "   ---------------- ----------------------- 1.1/2.6 MB 388.7 kB/s eta 0:00:04\n",
      "   ---------------- ----------------------- 1.1/2.6 MB 389.5 kB/s eta 0:00:04\n",
      "   ---------------- ----------------------- 1.1/2.6 MB 386.6 kB/s eta 0:00:04\n",
      "   ---------------- ----------------------- 1.1/2.6 MB 387.4 kB/s eta 0:00:04\n",
      "   ----------------- ---------------------- 1.1/2.6 MB 386.8 kB/s eta 0:00:04\n",
      "   ----------------- ---------------------- 1.1/2.6 MB 385.6 kB/s eta 0:00:04\n",
      "   ----------------- ---------------------- 1.2/2.6 MB 388.4 kB/s eta 0:00:04\n",
      "   ----------------- ---------------------- 1.2/2.6 MB 385.7 kB/s eta 0:00:04\n",
      "   ------------------ --------------------- 1.2/2.6 MB 386.6 kB/s eta 0:00:04\n",
      "   ------------------ --------------------- 1.2/2.6 MB 385.9 kB/s eta 0:00:04\n",
      "   ------------------ --------------------- 1.2/2.6 MB 385.9 kB/s eta 0:00:04\n",
      "   ------------------ --------------------- 1.2/2.6 MB 387.5 kB/s eta 0:00:04\n",
      "   ------------------ --------------------- 1.2/2.6 MB 387.5 kB/s eta 0:00:04\n",
      "   ------------------- -------------------- 1.3/2.6 MB 385.8 kB/s eta 0:00:04\n",
      "   ------------------- -------------------- 1.3/2.6 MB 383.4 kB/s eta 0:00:04\n",
      "   ------------------- -------------------- 1.3/2.6 MB 386.0 kB/s eta 0:00:04\n",
      "   -------------------- ------------------- 1.3/2.6 MB 383.6 kB/s eta 0:00:04\n",
      "   -------------------- ------------------- 1.3/2.6 MB 384.3 kB/s eta 0:00:04\n",
      "   -------------------- ------------------- 1.3/2.6 MB 384.3 kB/s eta 0:00:04\n",
      "   -------------------- ------------------- 1.3/2.6 MB 384.3 kB/s eta 0:00:04\n",
      "   -------------------- ------------------- 1.3/2.6 MB 384.3 kB/s eta 0:00:04\n",
      "   -------------------- ------------------- 1.3/2.6 MB 384.3 kB/s eta 0:00:04\n",
      "   -------------------- ------------------- 1.3/2.6 MB 384.3 kB/s eta 0:00:04\n",
      "   -------------------- ------------------- 1.3/2.6 MB 384.3 kB/s eta 0:00:04\n",
      "   -------------------- ------------------- 1.3/2.6 MB 384.3 kB/s eta 0:00:04\n",
      "   -------------------- ------------------- 1.3/2.6 MB 384.3 kB/s eta 0:00:04\n",
      "   -------------------- ------------------- 1.3/2.6 MB 384.3 kB/s eta 0:00:04\n",
      "   -------------------- ------------------- 1.3/2.6 MB 384.3 kB/s eta 0:00:04\n",
      "   --------------------- ------------------ 1.4/2.6 MB 356.3 kB/s eta 0:00:04\n",
      "   --------------------- ------------------ 1.4/2.6 MB 356.3 kB/s eta 0:00:04\n",
      "   --------------------- ------------------ 1.4/2.6 MB 356.3 kB/s eta 0:00:04\n",
      "   --------------------- ------------------ 1.4/2.6 MB 347.8 kB/s eta 0:00:04\n",
      "   --------------------- ------------------ 1.4/2.6 MB 347.8 kB/s eta 0:00:04\n",
      "   ---------------------- ----------------- 1.4/2.6 MB 343.7 kB/s eta 0:00:04\n",
      "   ---------------------- ----------------- 1.4/2.6 MB 343.7 kB/s eta 0:00:04\n",
      "   ---------------------- ----------------- 1.5/2.6 MB 342.1 kB/s eta 0:00:04\n",
      "   ---------------------- ----------------- 1.5/2.6 MB 340.9 kB/s eta 0:00:04\n",
      "   ---------------------- ----------------- 1.5/2.6 MB 341.9 kB/s eta 0:00:04\n",
      "   ----------------------- ---------------- 1.5/2.6 MB 344.0 kB/s eta 0:00:04\n",
      "   ----------------------- ---------------- 1.6/2.6 MB 347.2 kB/s eta 0:00:04\n",
      "   ------------------------ --------------- 1.6/2.6 MB 345.9 kB/s eta 0:00:04\n",
      "   ------------------------ --------------- 1.6/2.6 MB 349.3 kB/s eta 0:00:03\n",
      "   ------------------------ --------------- 1.6/2.6 MB 351.2 kB/s eta 0:00:03\n",
      "   ------------------------- -------------- 1.6/2.6 MB 353.3 kB/s eta 0:00:03\n",
      "   ------------------------- -------------- 1.7/2.6 MB 355.1 kB/s eta 0:00:03\n",
      "   -------------------------- ------------- 1.7/2.6 MB 356.9 kB/s eta 0:00:03\n",
      "   -------------------------- ------------- 1.7/2.6 MB 360.0 kB/s eta 0:00:03\n",
      "   -------------------------- ------------- 1.7/2.6 MB 358.7 kB/s eta 0:00:03\n",
      "   --------------------------- ------------ 1.8/2.6 MB 363.7 kB/s eta 0:00:03\n",
      "   --------------------------- ------------ 1.8/2.6 MB 362.3 kB/s eta 0:00:03\n",
      "   --------------------------- ------------ 1.8/2.6 MB 364.2 kB/s eta 0:00:03\n",
      "   --------------------------- ------------ 1.8/2.6 MB 361.6 kB/s eta 0:00:03\n",
      "   ---------------------------- ----------- 1.8/2.6 MB 361.2 kB/s eta 0:00:03\n",
      "   ---------------------------- ----------- 1.9/2.6 MB 363.0 kB/s eta 0:00:03\n",
      "   ---------------------------- ----------- 1.9/2.6 MB 361.6 kB/s eta 0:00:03\n",
      "   ---------------------------- ----------- 1.9/2.6 MB 362.4 kB/s eta 0:00:03\n",
      "   ----------------------------- ---------- 1.9/2.6 MB 361.1 kB/s eta 0:00:02\n",
      "   ----------------------------- ---------- 1.9/2.6 MB 361.8 kB/s eta 0:00:02\n",
      "   ----------------------------- ---------- 1.9/2.6 MB 363.5 kB/s eta 0:00:02\n",
      "   ----------------------------- ---------- 1.9/2.6 MB 361.1 kB/s eta 0:00:02\n",
      "   ----------------------------- ---------- 1.9/2.6 MB 361.1 kB/s eta 0:00:02\n",
      "   ----------------------------- ---------- 1.9/2.6 MB 361.1 kB/s eta 0:00:02\n",
      "   ----------------------------- ---------- 1.9/2.6 MB 361.1 kB/s eta 0:00:02\n",
      "   ----------------------------- ---------- 1.9/2.6 MB 361.1 kB/s eta 0:00:02\n",
      "   ----------------------------- ---------- 1.9/2.6 MB 361.1 kB/s eta 0:00:02\n",
      "   ----------------------------- ---------- 1.9/2.6 MB 361.1 kB/s eta 0:00:02\n",
      "   ----------------------------- ---------- 1.9/2.6 MB 361.1 kB/s eta 0:00:02\n",
      "   ----------------------------- ---------- 1.9/2.6 MB 361.1 kB/s eta 0:00:02\n",
      "   ----------------------------- ---------- 1.9/2.6 MB 361.1 kB/s eta 0:00:02\n",
      "   ------------------------------ --------- 2.0/2.6 MB 344.4 kB/s eta 0:00:02\n",
      "   ------------------------------ --------- 2.0/2.6 MB 344.4 kB/s eta 0:00:02\n",
      "   ------------------------------- -------- 2.0/2.6 MB 340.7 kB/s eta 0:00:02\n",
      "   ------------------------------- -------- 2.0/2.6 MB 340.7 kB/s eta 0:00:02\n",
      "   ------------------------------- -------- 2.0/2.6 MB 340.5 kB/s eta 0:00:02\n",
      "   ------------------------------- -------- 2.0/2.6 MB 340.5 kB/s eta 0:00:02\n",
      "   ------------------------------- -------- 2.1/2.6 MB 336.1 kB/s eta 0:00:02\n",
      "   -------------------------------- ------- 2.1/2.6 MB 336.9 kB/s eta 0:00:02\n",
      "   -------------------------------- ------- 2.1/2.6 MB 336.9 kB/s eta 0:00:02\n",
      "   -------------------------------- ------- 2.1/2.6 MB 339.1 kB/s eta 0:00:02\n",
      "   -------------------------------- ------- 2.1/2.6 MB 338.3 kB/s eta 0:00:02\n",
      "   --------------------------------- ------ 2.2/2.6 MB 339.8 kB/s eta 0:00:02\n",
      "   --------------------------------- ------ 2.2/2.6 MB 341.3 kB/s eta 0:00:02\n",
      "   ---------------------------------- ----- 2.2/2.6 MB 342.8 kB/s eta 0:00:02\n",
      "   ---------------------------------- ----- 2.2/2.6 MB 343.4 kB/s eta 0:00:02\n",
      "   ---------------------------------- ----- 2.3/2.6 MB 343.4 kB/s eta 0:00:02\n",
      "   ----------------------------------- ---- 2.3/2.6 MB 346.4 kB/s eta 0:00:01\n",
      "   ----------------------------------- ---- 2.3/2.6 MB 346.2 kB/s eta 0:00:01\n",
      "   ----------------------------------- ---- 2.3/2.6 MB 347.6 kB/s eta 0:00:01\n",
      "   ------------------------------------ --- 2.4/2.6 MB 348.9 kB/s eta 0:00:01\n",
      "   ------------------------------------ --- 2.4/2.6 MB 349.7 kB/s eta 0:00:01\n",
      "   ------------------------------------ --- 2.4/2.6 MB 350.3 kB/s eta 0:00:01\n",
      "   ------------------------------------- -- 2.4/2.6 MB 350.7 kB/s eta 0:00:01\n",
      "   ------------------------------------- -- 2.4/2.6 MB 351.3 kB/s eta 0:00:01\n",
      "   ------------------------------------- -- 2.5/2.6 MB 350.4 kB/s eta 0:00:01\n",
      "   ------------------------------------- -- 2.5/2.6 MB 351.0 kB/s eta 0:00:01\n",
      "   -------------------------------------- - 2.5/2.6 MB 351.6 kB/s eta 0:00:01\n",
      "   -------------------------------------- - 2.5/2.6 MB 350.7 kB/s eta 0:00:01\n",
      "   -------------------------------------- - 2.5/2.6 MB 351.3 kB/s eta 0:00:01\n",
      "   -------------------------------------- - 2.5/2.6 MB 351.1 kB/s eta 0:00:01\n",
      "   ---------------------------------------  2.6/2.6 MB 351.7 kB/s eta 0:00:01\n",
      "   ---------------------------------------  2.6/2.6 MB 351.5 kB/s eta 0:00:01\n",
      "   ---------------------------------------  2.6/2.6 MB 351.4 kB/s eta 0:00:01\n",
      "   ---------------------------------------- 2.6/2.6 MB 351.7 kB/s eta 0:00:00\n",
      "Downloading pyparsing-3.1.1-py3-none-any.whl (103 kB)\n",
      "   ---------------------------------------- 0.0/103.1 kB ? eta -:--:--\n",
      "   --- ------------------------------------ 10.2/103.1 kB ? eta -:--:--\n",
      "   ----------- --------------------------- 30.7/103.1 kB 660.6 kB/s eta 0:00:01\n",
      "   ----------------------- --------------- 61.4/103.1 kB 469.7 kB/s eta 0:00:01\n",
      "   --------------------------- ----------- 71.7/103.1 kB 438.9 kB/s eta 0:00:01\n",
      "   -------------------------------------- 103.1/103.1 kB 457.6 kB/s eta 0:00:00\n",
      "Installing collected packages: pyparsing, pillow, kiwisolver, fonttools, cycler, contourpy, matplotlib\n",
      "Successfully installed contourpy-1.1.1 cycler-0.12.1 fonttools-4.43.1 kiwisolver-1.4.5 matplotlib-3.8.0 pillow-10.1.0 pyparsing-3.1.1\n"
     ]
    }
   ],
   "source": [
    "!pip install matplotlib"
   ]
  },
  {
   "cell_type": "code",
   "execution_count": 39,
   "metadata": {},
   "outputs": [
    {
     "data": {
      "text/plain": [
       "<matplotlib.image.AxesImage at 0x1f28dec9160>"
      ]
     },
     "execution_count": 39,
     "metadata": {},
     "output_type": "execute_result"
    },
    {
     "data": {
      "image/png": "[encoded data removed]",
      "text/plain": [
       "<Figure size 640x480 with 1 Axes>"
      ]
     },
     "metadata": {},
     "output_type": "display_data"
    }
   ],
   "source": [
    "import matplotlib.pyplot as plt\n",
    "import matplotlib.image as mpimg\n",
    "\n",
    "img = mpimg.imread(\"img.jpeg\")\n",
    "plt.imshow(img)"
   ]
  },
  {
   "cell_type": "code",
   "execution_count": 40,
   "metadata": {},
   "outputs": [
    {
     "name": "stdout",
     "output_type": "stream",
     "text": [
      "Collecting PyPDF2\n",
      "  Downloading pypdf2-3.0.1-py3-none-any.whl (232 kB)\n",
      "     ---------------------------------------- 0.0/232.6 kB ? eta -:--:--\n",
      "     - -------------------------------------- 10.2/232.6 kB ? eta -:--:--\n",
      "     - -------------------------------------- 10.2/232.6 kB ? eta -:--:--\n",
      "     ---- -------------------------------- 30.7/232.6 kB 187.9 kB/s eta 0:00:02\n",
      "     --------- --------------------------- 61.4/232.6 kB 297.7 kB/s eta 0:00:01\n",
      "     -------------- ---------------------- 92.2/232.6 kB 375.8 kB/s eta 0:00:01\n",
      "     ---------------------- ------------- 143.4/232.6 kB 502.3 kB/s eta 0:00:01\n",
      "     ------------------------------ ----- 194.6/232.6 kB 590.8 kB/s eta 0:00:01\n",
      "     ------------------------------- ---- 204.8/232.6 kB 541.9 kB/s eta 0:00:01\n",
      "     ---------------------------------- - 225.3/232.6 kB 529.7 kB/s eta 0:00:01\n",
      "     ------------------------------------ 232.6/232.6 kB 526.9 kB/s eta 0:00:00\n",
      "Installing collected packages: PyPDF2\n",
      "Successfully installed PyPDF2-3.0.1\n"
     ]
    }
   ],
   "source": [
    "!pip install PyPDF2"
   ]
  },
  {
   "cell_type": "code",
   "execution_count": 42,
   "metadata": {},
   "outputs": [],
   "source": [
    "from typing import List\n",
    "import PyPDF2"
   ]
  },
  {
   "cell_type": "code",
   "execution_count": null,
   "metadata": {},
   "outputs": [],
   "source": [
    "def read_pdf(file_path:str)-> list[str]:\n",
    "    with open(file_path,'rb') as file:\n",
    "    reader: PyPDF2,PdfReader"
   ]
  },
  {
   "cell_type": "code",
   "execution_count": null,
   "metadata": {},
   "outputs": [],
   "source": [
    "import matplotlib.pyplot as plt\n",
    "import numpy as np\n",
    "import wave\n",
    "import sys\n",
    "\n",
    "audio_file = wave.open(\"./\")\n",
    "\n",
    "signals = audio_file.readframes(-1)\n",
    "signals = np.frombuffer(signals,dtype=np.int16)\n",
    "\n",
    "plt.figure(1)\n",
    "plt.title(\"Signals waves...\")\n",
    "plt.plot(signals)\n",
    "plt.show"
   ]
  }
 ],
 "metadata": {
  "kernelspec": {
   "display_name": "python12",
   "language": "python",
   "name": "python3"
  },
  "language_info": {
   "codemirror_mode": {
    "name": "ipython",
    "version": 3
   },
   "file_extension": ".py",
   "mimetype": "text/x-python",
   "name": "python",
   "nbconvert_exporter": "python",
   "pygments_lexer": "ipython3",
   "version": "3.12.2"
  }
 },
 "nbformat": 4,
 "nbformat_minor": 2
}
