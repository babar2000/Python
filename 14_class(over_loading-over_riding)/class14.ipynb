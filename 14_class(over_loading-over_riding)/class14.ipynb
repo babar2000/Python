{
 "cells": [
  {
   "cell_type": "code",
   "execution_count": 1,
   "metadata": {},
   "outputs": [
    {
     "data": {
      "text/plain": [
       "'object height 6 Feet'"
      ]
     },
     "metadata": {},
     "output_type": "display_data"
    },
    {
     "data": {
      "text/plain": [
       "'object eye color Blue'"
      ]
     },
     "metadata": {},
     "output_type": "display_data"
    },
    {
     "data": {
      "text/plain": [
       "'Mother speaking function: Pakistan Zindabad'"
      ]
     },
     "metadata": {},
     "output_type": "display_data"
    }
   ],
   "source": [
    "class Mother:\n",
    "    def __init__(self, name : str) -> None:\n",
    "        self.name : str = name\n",
    "        self.eye_color : str = \"Blue\"\n",
    "\n",
    "    def speaking(self, words : str)->str:\n",
    "        return f\"Mother speaking function: {words}\"\n",
    "\n",
    "\n",
    "class Father:\n",
    "    def __init__(self, name : str) -> None:\n",
    "        self.name : str = name\n",
    "        self.height : str = \"6 Feet\"\n",
    "\n",
    "    def speaking(self, words : str)->str:\n",
    "        return f\"Father speaking function: {words}\"\n",
    "\n",
    "class Child(Mother, Father):\n",
    "    def __init__(self, mother_name: str, father_name : str, child_name : str) -> None:\n",
    "        Mother.__init__(self,mother_name)\n",
    "        Father.__init__(self,father_name)\n",
    "        self.child_name : str = child_name\n",
    "\n",
    "\n",
    "zain : Child = Child(\"Iram Babar\",\"Babar Mumtaz Bhatti\",\"Zain Babar\")\n",
    "\n",
    "display(f\"object height {zain.height}\")\n",
    "display(f\"object eye color {zain.eye_color}\")\n",
    "display(zain.speaking(\"Pakistan Zindabad\"))"
   ]
  },
  {
   "cell_type": "code",
   "execution_count": 3,
   "metadata": {},
   "outputs": [
    {
     "data": {
      "text/plain": [
       "['__class__',\n",
       " '__delattr__',\n",
       " '__dict__',\n",
       " '__dir__',\n",
       " '__doc__',\n",
       " '__eq__',\n",
       " '__format__',\n",
       " '__ge__',\n",
       " '__getattribute__',\n",
       " '__getstate__',\n",
       " '__gt__',\n",
       " '__hash__',\n",
       " '__init__',\n",
       " '__init_subclass__',\n",
       " '__le__',\n",
       " '__lt__',\n",
       " '__module__',\n",
       " '__ne__',\n",
       " '__new__',\n",
       " '__reduce__',\n",
       " '__reduce_ex__',\n",
       " '__repr__',\n",
       " '__setattr__',\n",
       " '__sizeof__',\n",
       " '__str__',\n",
       " '__subclasshook__',\n",
       " '__weakref__',\n",
       " 'child_name',\n",
       " 'eye_color',\n",
       " 'height',\n",
       " 'name',\n",
       " 'speaking']"
      ]
     },
     "execution_count": 3,
     "metadata": {},
     "output_type": "execute_result"
    }
   ],
   "source": [
    "dir(zain)"
   ]
  },
  {
   "cell_type": "code",
   "execution_count": 1,
   "metadata": {},
   "outputs": [
    {
     "data": {
      "text/plain": [
       "'object height 6 Feet'"
      ]
     },
     "metadata": {},
     "output_type": "display_data"
    },
    {
     "data": {
      "text/plain": [
       "'object eye color Blue'"
      ]
     },
     "metadata": {},
     "output_type": "display_data"
    },
    {
     "data": {
      "text/plain": [
       "'Father speaking function: Pakistan Zindabad'"
      ]
     },
     "metadata": {},
     "output_type": "display_data"
    }
   ],
   "source": [
    "class Mother:\n",
    "    def __init__(self, name : str) -> None:\n",
    "        self.name : str = name\n",
    "        self.eye_color : str = \"Blue\"\n",
    "\n",
    "    def speaking(self, words : str)->str:\n",
    "        return f\"Mother speaking function: {words}\"\n",
    "\n",
    "\n",
    "class Father:\n",
    "    def __init__(self, name : str) -> None:\n",
    "        self.name : str = name\n",
    "        self.height : str = \"6 Feet\"\n",
    "\n",
    "    def speaking(self, words : str)->str:\n",
    "        return f\"Father speaking function: {words}\"\n",
    "\n",
    "class Child(Father, Mother):\n",
    "    def __init__(self, mother_name: str, father_name : str, child_name : str) -> None:\n",
    "        Mother.__init__(self,mother_name)\n",
    "        Father.__init__(self,father_name)\n",
    "        self.child_name : str = child_name\n",
    "\n",
    "\n",
    "zain : Child = Child(\"Iram Babar\",\"Babar Mumtaz Bhatti\",\"Zain Babar\")\n",
    "\n",
    "display(f\"object height {zain.height}\")\n",
    "display(f\"object eye color {zain.eye_color}\")\n",
    "display(zain.speaking(\"Pakistan Zindabad\"))"
   ]
  },
  {
   "cell_type": "markdown",
   "metadata": {},
   "source": [
    "# Overloading\n",
    "* Function overloading is the ability to have multiple functions with the same name but with different signatures/implementations"
   ]
  },
  {
   "cell_type": "code",
   "execution_count": 4,
   "metadata": {},
   "outputs": [
    {
     "data": {
      "text/plain": [
       "10.0"
      ]
     },
     "metadata": {},
     "output_type": "display_data"
    },
    {
     "data": {
      "text/plain": [
       "10"
      ]
     },
     "metadata": {},
     "output_type": "display_data"
    }
   ],
   "source": [
    "from typing import Union, overload\n",
    "@overload\n",
    "class Adder():\n",
    "    def add(self,x:int,y:int)->int:\n",
    "        return x + y\n",
    "    def add(self,x:float,y:float)->float:\n",
    "        return x + y\n",
    "    \n",
    "obj: Adder = Adder()\n",
    "display(obj.add(7.0, 3.0))\n",
    "display(obj.add(7,3))\n"
   ]
  },
  {
   "cell_type": "code",
   "execution_count": 5,
   "metadata": {},
   "outputs": [],
   "source": [
    "from typing import Union, overload\n",
    "\n",
    "@overload\n",
    "def add(x: int, y: int)->int:\n",
    "\n",
    "    ...\n",
    "@overload\n",
    "def add(x: float, y: float)->float:\n",
    "\n",
    "    ...\n",
    "@overload\n",
    "def add(x: str, y: str)->str:\n",
    "\n",
    "    ...\n",
    "\n",
    "def add(x:Union[int, float, str], y: Union[int,float,str])->Union[int, float, str]:\n",
    "    if isinstance(x, int) and isinstance(y, int):\n",
    "        return x + y\n",
    "    elif isinstance(x,float) and isinstance(y, float):\n",
    "        return x + y\n",
    "    elif isinstance(x, str) and isinstance (y,str):\n",
    "        return x + y\n",
    "    else:\n",
    "        raise TypeError(\"Invalid argument types!\")\n",
    "    \n",
    "# usage examples\n",
    "result1 = add(1,2) # should return 3\n",
    "result2 = add(1.5, 2.5) # should return 4.0\n",
    "result3 = add(\"Hello,\", \"World!\") # should return \"Hello, World!\"\n",
    "\n",
    "\n",
    "\n"
   ]
  },
  {
   "cell_type": "code",
   "execution_count": 6,
   "metadata": {},
   "outputs": [
    {
     "data": {
      "text/plain": [
       "6"
      ]
     },
     "metadata": {},
     "output_type": "display_data"
    },
    {
     "data": {
      "text/plain": [
       "43"
      ]
     },
     "metadata": {},
     "output_type": "display_data"
    }
   ],
   "source": [
    "def my_sum(*nums: int)->int:\n",
    "    total: int = 0\n",
    "    for i in nums:\n",
    "        total += i\n",
    "    return total\n",
    "\n",
    "display(my_sum(1,2,3))\n",
    "display(my_sum(3,4,5,6,6,5,4,3,5,2))"
   ]
  },
  {
   "cell_type": "markdown",
   "metadata": {},
   "source": [
    "# overriding and polymorphism"
   ]
  },
  {
   "cell_type": "code",
   "execution_count": null,
   "metadata": {},
   "outputs": [],
   "source": []
  }
 ],
 "metadata": {
  "kernelspec": {
   "display_name": "python12",
   "language": "python",
   "name": "python3"
  },
  "language_info": {
   "codemirror_mode": {
    "name": "ipython",
    "version": 3
   },
   "file_extension": ".py",
   "mimetype": "text/x-python",
   "name": "python",
   "nbconvert_exporter": "python",
   "pygments_lexer": "ipython3",
   "version": "3.11.5"
  }
 },
 "nbformat": 4,
 "nbformat_minor": 2
}
