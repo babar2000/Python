{
 "cells": [
  {
   "cell_type": "code",
   "execution_count": 1,
   "metadata": {},
   "outputs": [],
   "source": [
    "# List\n",
    "data : list[str] = [\"Zain Babar\",\"M Qasim\",\"MFIN\"]\n"
   ]
  },
  {
   "cell_type": "code",
   "execution_count": 8,
   "metadata": {},
   "outputs": [
    {
     "data": {
      "text/plain": [
       "{0, 1, 4, 6, 7, 8, 9}"
      ]
     },
     "metadata": {},
     "output_type": "display_data"
    }
   ],
   "source": [
    "# set datatype\n",
    "data : set = {4,4,6,7,8,8,8,9,4,0,1}\n",
    "display(data) # return unique"
   ]
  },
  {
   "cell_type": "code",
   "execution_count": 9,
   "metadata": {},
   "outputs": [
    {
     "data": {
      "text/plain": [
       "['add',\n",
       " 'clear',\n",
       " 'copy',\n",
       " 'difference',\n",
       " 'discard',\n",
       " 'intersection',\n",
       " 'isdisjoint',\n",
       " 'issubset',\n",
       " 'issuperset',\n",
       " 'pop',\n",
       " 'remove',\n",
       " 'union',\n",
       " 'update']"
      ]
     },
     "execution_count": 9,
     "metadata": {},
     "output_type": "execute_result"
    }
   ],
   "source": [
    "[i for i in dir(data) if \"_\" not in i]"
   ]
  },
  {
   "cell_type": "markdown",
   "metadata": {},
   "source": [
    "# Dictionary\n",
    "* Key: value (items)\n",
    "    * key replacement of indexes\n",
    "    * value item\n",
    "    * starting and ending from {}\n",
    "    * object like javascript\n",
    "* dict_variable[key]\n",
    "    * dict_variable[new_key] = new_value\n",
    "        * add new value\n",
    "        * update value\n",
    "* key value pairs example\n",
    "    * \"name\":\"Zain Babar\"\n",
    "    *    key :    Value"
   ]
  },
  {
   "cell_type": "code",
   "execution_count": 3,
   "metadata": {},
   "outputs": [
    {
     "name": "stdout",
     "output_type": "stream",
     "text": [
      "{'education': 'MFIN', 'fname': 'Babar Mumtaz', 'name': 'Zain Babar'}\n"
     ]
    }
   ],
   "source": [
    "from typing import Dict\n",
    "import pprint # print in beautiful style and function is pprint.pprint(variable name)\n",
    "# List                      0               1         2\n",
    "data : Dict[str,str] = {\"fname\":\"Babar Mumtaz\",\n",
    "                        \"name\":\"Zain Babar\",\n",
    "                        \"education\":\"MFIN\"}\n",
    "pprint.pprint(data)\n"
   ]
  },
  {
   "cell_type": "code",
   "execution_count": 1,
   "metadata": {},
   "outputs": [
    {
     "name": "stdout",
     "output_type": "stream",
     "text": [
      "{0: 'Pakistan',\n",
      " 'abc': [1, 2, 3],\n",
      " 'cde': {'a': 1, 'b': 2},\n",
      " 'education': 'MFIN',\n",
      " 'efg': (1, 2, 3),\n",
      " 'fname': 'Babar Mumtaz',\n",
      " 'name': 'Zain Babar',\n",
      " 'xyz': {1, 2, 3}}\n"
     ]
    },
    {
     "data": {
      "text/plain": [
       "'Zain Babar'"
      ]
     },
     "metadata": {},
     "output_type": "display_data"
    },
    {
     "data": {
      "text/plain": [
       "'Babar Mumtaz'"
      ]
     },
     "metadata": {},
     "output_type": "display_data"
    },
    {
     "data": {
      "text/plain": [
       "{1, 2, 3}"
      ]
     },
     "metadata": {},
     "output_type": "display_data"
    },
    {
     "data": {
      "text/plain": [
       "'MFIN'"
      ]
     },
     "metadata": {},
     "output_type": "display_data"
    },
    {
     "data": {
      "text/plain": [
       "'Pakistan'"
      ]
     },
     "metadata": {},
     "output_type": "display_data"
    }
   ],
   "source": [
    "from typing import Dict, Union, Optional\n",
    "import pprint # print in beautiful style and function is pprint.pprint(variable name)\n",
    "\n",
    "Key = Union[int,str] # create custom type\n",
    "Value = Union[int, str, list, dict, tuple, set]\n",
    "# List                      0               1         2\n",
    "data : Dict[str,str] = {\"fname\":\"Babar Mumtaz\",\n",
    "                        \"name\":\"Zain Babar\",\n",
    "                        \"education\":\"MFIN\",\n",
    "                        0 : \"Pakistan\",\n",
    "                        \"abc\" : [1,2,3], # list\n",
    "                        \"xyz\" : {1,2,3}, # set\n",
    "                        \"efg\" : (1,2,3), # tuple\n",
    "                        \"cde\" : {\"a\":1, \"b\":2} # Dict or set\n",
    "                        # [1,2,3] : \"Pakistan\", # error\n",
    "                        # (1,2,3) : \"Pakistan\", # error\n",
    "                        # {1,2,3} : \"Pakistan\", # error\n",
    "                        }\n",
    "pprint.pprint(data)\n",
    "display(data[\"name\"])\n",
    "display(data[\"fname\"])\n",
    "\n",
    "display(data[\"xyz\"])\n",
    "display(data[\"education\"])\n",
    "display(data[0])"
   ]
  },
  {
   "cell_type": "code",
   "execution_count": 2,
   "metadata": {},
   "outputs": [
    {
     "data": {
      "text/plain": [
       "{1, 2, 3, 4}"
      ]
     },
     "metadata": {},
     "output_type": "display_data"
    },
    {
     "data": {
      "text/plain": [
       "[1, 2, 3, 4]"
      ]
     },
     "metadata": {},
     "output_type": "display_data"
    }
   ],
   "source": [
    "abc : set = {1,2,2,2,3,3,4}\n",
    "display(abc)\n",
    "xyz : list[int] = list(abc)\n",
    "display(xyz)"
   ]
  },
  {
   "cell_type": "code",
   "execution_count": 3,
   "metadata": {},
   "outputs": [
    {
     "name": "stdout",
     "output_type": "stream",
     "text": [
      "{0: 'Pakistan',\n",
      " 'abc': [1, 2, 3],\n",
      " 'cde': {'a': 1, 'b': 2},\n",
      " 'education': 'MFIN',\n",
      " 'efg': (1, 2, 3),\n",
      " 'fname': 'Babar Mumtaz',\n",
      " 'name': 'Zain Babar',\n",
      " 'xyz': {1, 2, 3}}\n"
     ]
    },
    {
     "data": {
      "text/plain": [
       "'Zain Babar'"
      ]
     },
     "metadata": {},
     "output_type": "display_data"
    },
    {
     "data": {
      "text/plain": [
       "'Babar Mumtaz'"
      ]
     },
     "metadata": {},
     "output_type": "display_data"
    },
    {
     "data": {
      "text/plain": [
       "{1, 2, 3}"
      ]
     },
     "metadata": {},
     "output_type": "display_data"
    },
    {
     "data": {
      "text/plain": [
       "'MFIN'"
      ]
     },
     "metadata": {},
     "output_type": "display_data"
    },
    {
     "data": {
      "text/plain": [
       "'Pakistan'"
      ]
     },
     "metadata": {},
     "output_type": "display_data"
    },
    {
     "data": {
      "text/plain": [
       "2"
      ]
     },
     "execution_count": 3,
     "metadata": {},
     "output_type": "execute_result"
    }
   ],
   "source": [
    "from typing import Dict, Union, Optional\n",
    "import pprint # print in beautiful style and function is pprint.pprint(variable name)\n",
    "\n",
    "Key = Union[int,str] # create custom type\n",
    "Value = Union[int, str, list, dict, tuple, set]\n",
    "# List                      0               1         2\n",
    "data : Dict[str,str] = {\"fname\":\"Babar Mumtaz\",\n",
    "                        \"name\":\"Zain Babar\",\n",
    "                        \"education\":\"MFIN\",\n",
    "                        0 : \"Pakistan\",\n",
    "                        \"abc\" : [1,2,3], # list\n",
    "                        \"xyz\" : {1,2,3}, # set\n",
    "                        \"efg\" : (1,2,3), # tuple\n",
    "                        \"cde\" : {\"a\":1, \"b\":2} # Dict or set\n",
    "                        # [1,2,3] : \"Pakistan\", # error\n",
    "                        # (1,2,3) : \"Pakistan\", # error\n",
    "                        # {1,2,3} : \"Pakistan\", # error\n",
    "                        }\n",
    "pprint.pprint(data)\n",
    "display(data[\"name\"])\n",
    "display(data[\"fname\"])\n",
    "\n",
    "display(data[\"xyz\"])\n",
    "display(data[\"education\"])\n",
    "display(data[0])\n",
    "data[\"cde\"][\"b\"]"
   ]
  },
  {
   "cell_type": "code",
   "execution_count": 4,
   "metadata": {},
   "outputs": [
    {
     "data": {
      "text/plain": [
       "{'name': 'Zain Babar', 'fname': 'Babar Mumtaz', 'education': 'MFIN'}"
      ]
     },
     "metadata": {},
     "output_type": "display_data"
    }
   ],
   "source": [
    "from typing import Dict, Union, Optional\n",
    "import pprint \n",
    "\n",
    "Key = Union[int,str] # create custom type\n",
    "Value = Union[int, str, list, dict, tuple, set]\n",
    "\n",
    "data : dict[Key,Value] = {}\n",
    "\n",
    "data[\"name\"] = \"Zain Babar\"\n",
    "data[\"fname\"] = \"Babar Mumtaz\"\n",
    "data[\"education\"] = \"MFIN\"\n",
    "\n",
    "display(data)"
   ]
  },
  {
   "cell_type": "code",
   "execution_count": 5,
   "metadata": {},
   "outputs": [
    {
     "data": {
      "text/plain": [
       "{'fname': 'Babar Mumtaz', 'name': 'Zain Babar', 'education': 'MFIN'}"
      ]
     },
     "metadata": {},
     "output_type": "display_data"
    },
    {
     "data": {
      "text/plain": [
       "{'fname': 'Babar Mumtaz', 'name': 'Zain.Babar', 'education': 'MFIN'}"
      ]
     },
     "metadata": {},
     "output_type": "display_data"
    }
   ],
   "source": [
    "from typing import Dict, Union, Optional\n",
    "import pprint # print in beautiful style and function is pprint.pprint(variable name)\n",
    "\n",
    "Key = Union[int,str] # create custom type\n",
    "Value = Union[int, str, list, dict, tuple, set]\n",
    "# List                      0               1         2\n",
    "data : Dict[str,str] = {\"fname\":\"Babar Mumtaz\",\n",
    "                        \"name\":\"Zain Babar\",\n",
    "                        \"education\":\"MFIN\",\n",
    "                        }\n",
    "display(data)\n",
    "data[\"name\"] = \"Zain.Babar\"\n",
    "display(data)"
   ]
  },
  {
   "cell_type": "code",
   "execution_count": 7,
   "metadata": {},
   "outputs": [
    {
     "data": {
      "text/plain": [
       "'NA'"
      ]
     },
     "metadata": {},
     "output_type": "display_data"
    },
    {
     "data": {
      "text/plain": [
       "'Zain Babar'"
      ]
     },
     "metadata": {},
     "output_type": "display_data"
    },
    {
     "data": {
      "text/plain": [
       "['clear',\n",
       " 'copy',\n",
       " 'fromkeys',\n",
       " 'get',\n",
       " 'items',\n",
       " 'keys',\n",
       " 'pop',\n",
       " 'popitem',\n",
       " 'setdefault',\n",
       " 'update',\n",
       " 'values']"
      ]
     },
     "execution_count": 7,
     "metadata": {},
     "output_type": "execute_result"
    }
   ],
   "source": [
    "from typing import Dict, Union, Optional\n",
    "import pprint # print in beautiful style and function is pprint.pprint(variable name)\n",
    "\n",
    "Key = Union[int,str] # create custom type\n",
    "Value = Union[int, str, list, dict, tuple, set]\n",
    "# List                      0               1         2\n",
    "data : Dict[str,str] = {\"fname\":\"Babar Mumtaz\",\n",
    "                        \"name\":\"Zain Babar\",\n",
    "                        \"education\":\"MFIN\",\n",
    "                        }\n",
    "display(data.get(\"Pakistan\",\"NA\"))\n",
    "display(data.get(\"name\",\"NA\"))\n",
    "[i for i in dir(data) if \"_\" not in i]"
   ]
  },
  {
   "cell_type": "code",
   "execution_count": 10,
   "metadata": {},
   "outputs": [
    {
     "data": {
      "text/plain": [
       "'fname'"
      ]
     },
     "metadata": {},
     "output_type": "display_data"
    },
    {
     "data": {
      "text/plain": [
       "'name'"
      ]
     },
     "metadata": {},
     "output_type": "display_data"
    },
    {
     "data": {
      "text/plain": [
       "'education'"
      ]
     },
     "metadata": {},
     "output_type": "display_data"
    },
    {
     "data": {
      "text/plain": [
       "dict_keys(['fname', 'name', 'education'])"
      ]
     },
     "metadata": {},
     "output_type": "display_data"
    },
    {
     "data": {
      "text/plain": [
       "dict_values(['Babar Mumtaz', 'Zain Babar', 'MFIN'])"
      ]
     },
     "metadata": {},
     "output_type": "display_data"
    },
    {
     "data": {
      "text/plain": [
       "dict_items([('fname', 'Babar Mumtaz'), ('name', 'Zain Babar'), ('education', 'MFIN')])"
      ]
     },
     "metadata": {},
     "output_type": "display_data"
    }
   ],
   "source": [
    "from typing import Dict, Union, Optional\n",
    "import pprint # print in beautiful style and function is pprint.pprint(variable name)\n",
    "\n",
    "Key = Union[int,str] # create custom type\n",
    "Value = Union[int, str, list, dict, tuple, set]\n",
    "                     \n",
    "data : Dict[str,str] = {\"fname\":\"Babar Mumtaz\",\n",
    "                        \"name\":\"Zain Babar\",\n",
    "                        \"education\":\"MFIN\",\n",
    "                        }\n",
    "for i in data:\n",
    "    display(i)  # keys\n",
    "display(data.keys())    # keys\n",
    "display(data.values())  # values\n",
    "display(data.items())   # keys and values"
   ]
  },
  {
   "cell_type": "code",
   "execution_count": 12,
   "metadata": {},
   "outputs": [
    {
     "data": {
      "text/plain": [
       "dict_keys(['fname', 'name', 'education'])"
      ]
     },
     "metadata": {},
     "output_type": "display_data"
    },
    {
     "data": {
      "text/plain": [
       "dict_values(['Babar Mumtaz', 'Zain Babar', 'MFIN'])"
      ]
     },
     "metadata": {},
     "output_type": "display_data"
    },
    {
     "data": {
      "text/plain": [
       "dict_items([('fname', 'Babar Mumtaz'), ('name', 'Zain Babar'), ('education', 'MFIN')])"
      ]
     },
     "metadata": {},
     "output_type": "display_data"
    },
    {
     "data": {
      "text/plain": [
       "'fname'"
      ]
     },
     "metadata": {},
     "output_type": "display_data"
    },
    {
     "data": {
      "text/plain": [
       "'Babar Mumtaz'"
      ]
     },
     "metadata": {},
     "output_type": "display_data"
    },
    {
     "data": {
      "text/plain": [
       "'name'"
      ]
     },
     "metadata": {},
     "output_type": "display_data"
    },
    {
     "data": {
      "text/plain": [
       "'Zain Babar'"
      ]
     },
     "metadata": {},
     "output_type": "display_data"
    },
    {
     "data": {
      "text/plain": [
       "'education'"
      ]
     },
     "metadata": {},
     "output_type": "display_data"
    },
    {
     "data": {
      "text/plain": [
       "'MFIN'"
      ]
     },
     "metadata": {},
     "output_type": "display_data"
    }
   ],
   "source": [
    "from typing import Dict, Union, Optional\n",
    "import pprint # print in beautiful style and function is pprint.pprint(variable name)\n",
    "\n",
    "Key = Union[int,str] # create custom type\n",
    "Value = Union[int, str, list, dict, tuple, set]\n",
    "                     \n",
    "data : Dict[str,str] = {\"fname\":\"Babar Mumtaz\",\n",
    "                        \"name\":\"Zain Babar\",\n",
    "                        \"education\":\"MFIN\",\n",
    "                        }\n",
    "\n",
    "display(data.keys())    # keys\n",
    "display(data.values())  # values\n",
    "display(data.items())   # keys and values\n",
    "\n",
    "for y,j, in data.items():\n",
    "    display(y,j)"
   ]
  },
  {
   "cell_type": "code",
   "execution_count": 15,
   "metadata": {},
   "outputs": [
    {
     "data": {
      "text/plain": [
       "{'fname': 'Babar Mumtaz', 'name': 'Zain Babar', 'education': 'MFIN'}"
      ]
     },
     "execution_count": 15,
     "metadata": {},
     "output_type": "execute_result"
    }
   ],
   "source": [
    "# comprehensive style\n",
    "\n",
    "{ y:j for y,j in data.items()}"
   ]
  },
  {
   "cell_type": "code",
   "execution_count": 17,
   "metadata": {},
   "outputs": [
    {
     "data": {
      "text/plain": [
       "{'Babar Mumtaz': 'fname', 'Zain Babar': 'name', 'MFIN': 'education'}"
      ]
     },
     "execution_count": 17,
     "metadata": {},
     "output_type": "execute_result"
    }
   ],
   "source": [
    "{ j:y for y,j in data.items()} # shuffle"
   ]
  },
  {
   "cell_type": "code",
   "execution_count": 18,
   "metadata": {},
   "outputs": [
    {
     "data": {
      "text/plain": [
       "9"
      ]
     },
     "metadata": {},
     "output_type": "display_data"
    },
    {
     "data": {
      "text/plain": [
       "7"
      ]
     },
     "metadata": {},
     "output_type": "display_data"
    }
   ],
   "source": [
    "a : int = 7\n",
    "b : int = 9\n",
    "\n",
    "a,b = b,a # shuffle\n",
    "\n",
    "display(a,b)"
   ]
  },
  {
   "cell_type": "code",
   "execution_count": 22,
   "metadata": {},
   "outputs": [
    {
     "data": {
      "text/plain": [
       "{}"
      ]
     },
     "metadata": {},
     "output_type": "display_data"
    },
    {
     "data": {
      "text/plain": [
       "{'id': None, 'name': None, 'fname': None, 'course': None}"
      ]
     },
     "metadata": {},
     "output_type": "display_data"
    }
   ],
   "source": [
    "keys : list[str] = [\"id\",\"name\",\"fname\",\"course\"]\n",
    "data : dict[Key,Value] = {}\n",
    "display(data)\n",
    "data=data.fromkeys(keys)\n",
    "display(data)"
   ]
  }
 ],
 "metadata": {
  "kernelspec": {
   "display_name": "python12",
   "language": "python",
   "name": "python3"
  },
  "language_info": {
   "codemirror_mode": {
    "name": "ipython",
    "version": 3
   },
   "file_extension": ".py",
   "mimetype": "text/x-python",
   "name": "python",
   "nbconvert_exporter": "python",
   "pygments_lexer": "ipython3",
   "version": "3.12.0"
  }
 },
 "nbformat": 4,
 "nbformat_minor": 2
}
