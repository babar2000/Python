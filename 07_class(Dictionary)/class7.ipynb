{
 "cells": [
  {
   "cell_type": "code",
   "execution_count": 1,
   "metadata": {},
   "outputs": [],
   "source": [
    "# List\n",
    "data : list[str] = [\"Zain Babar\",\"M Qasim\",\"MFIN\"]\n"
   ]
  },
  {
   "cell_type": "code",
   "execution_count": 8,
   "metadata": {},
   "outputs": [
    {
     "data": {
      "text/plain": [
       "{0, 1, 4, 6, 7, 8, 9}"
      ]
     },
     "metadata": {},
     "output_type": "display_data"
    }
   ],
   "source": [
    "# set datatype\n",
    "data : set = {4,4,6,7,8,8,8,9,4,0,1}\n",
    "display(data) # return unique"
   ]
  },
  {
   "cell_type": "code",
   "execution_count": 9,
   "metadata": {},
   "outputs": [
    {
     "data": {
      "text/plain": [
       "['add',\n",
       " 'clear',\n",
       " 'copy',\n",
       " 'difference',\n",
       " 'discard',\n",
       " 'intersection',\n",
       " 'isdisjoint',\n",
       " 'issubset',\n",
       " 'issuperset',\n",
       " 'pop',\n",
       " 'remove',\n",
       " 'union',\n",
       " 'update']"
      ]
     },
     "execution_count": 9,
     "metadata": {},
     "output_type": "execute_result"
    }
   ],
   "source": [
    "[i for i in dir(data) if \"_\" not in i]"
   ]
  },
  {
   "cell_type": "markdown",
   "metadata": {},
   "source": [
    "# Dictionary\n",
    "* Key: value (items)\n",
    "    * key replacement of indexes\n",
    "    * value item\n",
    "    * starting and ending from {}\n",
    "    * object like javascript\n",
    "* dict_variable[key]\n",
    "    * dict_variable[new_key] = new_value\n",
    "        * add new value\n",
    "        * update value\n",
    "* key value pairs example\n",
    "    * \"name\":\"Zain Babar\"\n",
    "    *    key :    Value"
   ]
  },
  {
   "cell_type": "code",
   "execution_count": 3,
   "metadata": {},
   "outputs": [
    {
     "name": "stdout",
     "output_type": "stream",
     "text": [
      "{'education': 'MFIN', 'fname': 'Babar Mumtaz', 'name': 'Zain Babar'}\n"
     ]
    }
   ],
   "source": [
    "from typing import Dict\n",
    "import pprint # print in beautiful style and function is pprint.pprint(variable name)\n",
    "# List                      0               1         2\n",
    "data : Dict[str,str] = {\"fname\":\"Babar Mumtaz\",\n",
    "                        \"name\":\"Zain Babar\",\n",
    "                        \"education\":\"MFIN\"}\n",
    "pprint.pprint(data)\n"
   ]
  },
  {
   "cell_type": "code",
   "execution_count": 13,
   "metadata": {},
   "outputs": [
    {
     "name": "stdout",
     "output_type": "stream",
     "text": [
      "{0: 'Pakistan',\n",
      " 'abc': [1, 2, 3],\n",
      " 'cde': {'a': 1, 'b': 2},\n",
      " 'education': 'MFIN',\n",
      " 'efg': (1, 2, 3),\n",
      " 'fname': 'Babar Mumtaz',\n",
      " 'name': 'Zain Babar',\n",
      " 'xyz': {1, 2, 3}}\n"
     ]
    },
    {
     "data": {
      "text/plain": [
       "'Zain Babar'"
      ]
     },
     "metadata": {},
     "output_type": "display_data"
    },
    {
     "data": {
      "text/plain": [
       "'Babar Mumtaz'"
      ]
     },
     "metadata": {},
     "output_type": "display_data"
    },
    {
     "data": {
      "text/plain": [
       "{1, 2, 3}"
      ]
     },
     "metadata": {},
     "output_type": "display_data"
    },
    {
     "data": {
      "text/plain": [
       "'MFIN'"
      ]
     },
     "metadata": {},
     "output_type": "display_data"
    },
    {
     "data": {
      "text/plain": [
       "'Pakistan'"
      ]
     },
     "metadata": {},
     "output_type": "display_data"
    }
   ],
   "source": [
    "from typing import Dict, Union, Optional\n",
    "import pprint # print in beautiful style and function is pprint.pprint(variable name)\n",
    "\n",
    "Key = Union[int,str] # create custom type\n",
    "Value = Union[int, str, list, dict, tuple, set]\n",
    "# List                      0               1         2\n",
    "data : Dict[str,str] = {\"fname\":\"Babar Mumtaz\",\n",
    "                        \"name\":\"Zain Babar\",\n",
    "                        \"education\":\"MFIN\",\n",
    "                        0 : \"Pakistan\",\n",
    "                        \"abc\" : [1,2,3], # list\n",
    "                        \"xyz\" : {1,2,3}, # set\n",
    "                        \"efg\" : (1,2,3), # tuple\n",
    "                        \"cde\" : {\"a\":1, \"b\":2} # Dict or set\n",
    "                        # [1,2,3] : \"Pakistan\", # error\n",
    "                        # (1,2,3) : \"Pakistan\", # error\n",
    "                        # {1,2,3} : \"Pakistan\", # error\n",
    "                        }\n",
    "pprint.pprint(data)\n",
    "display(data[\"name\"])\n",
    "display(data[\"fname\"])\n",
    "\n",
    "display(data[\"xyz\"])\n",
    "display(data[\"education\"])\n",
    "display(data[0])"
   ]
  }
 ],
 "metadata": {
  "kernelspec": {
   "display_name": "python12",
   "language": "python",
   "name": "python3"
  },
  "language_info": {
   "codemirror_mode": {
    "name": "ipython",
    "version": 3
   },
   "file_extension": ".py",
   "mimetype": "text/x-python",
   "name": "python",
   "nbconvert_exporter": "python",
   "pygments_lexer": "ipython3",
   "version": "3.12.0"
  }
 },
 "nbformat": 4,
 "nbformat_minor": 2
}
