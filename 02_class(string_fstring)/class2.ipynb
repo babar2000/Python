{
 "cells": [
  {
   "cell_type": "code",
   "execution_count": 1,
   "metadata": {},
   "outputs": [
    {
     "name": "stdout",
     "output_type": "stream",
     "text": [
      "Zain Babar\n"
     ]
    }
   ],
   "source": [
    "name:str = \"Zain Babar\"\n",
    "print(name)"
   ]
  },
  {
   "cell_type": "markdown",
   "metadata": {},
   "source": [
    "# String Data type in python\n"
   ]
  },
  {
   "cell_type": "code",
   "execution_count": 2,
   "metadata": {},
   "outputs": [
    {
     "name": "stdout",
     "output_type": "stream",
     "text": [
      "<class 'str'>\n",
      "Zain Babar\n"
     ]
    }
   ],
   "source": [
    "# boundaries\n",
    "# 'string text', \"string text\", ''' string text''', \"\"\"string text\"\"\"\n",
    "# `string text` backtick only in typescript not in python\n",
    "name: str = \"Zain Babar\"\n",
    "print(type(name))\n",
    "print(name)\n"
   ]
  },
  {
   "cell_type": "code",
   "execution_count": 7,
   "metadata": {},
   "outputs": [
    {
     "name": "stdout",
     "output_type": "stream",
     "text": [
      "PIAIC student card\n",
      "Father's name\n"
     ]
    }
   ],
   "source": [
    "# convert any special character into simple character,place \\ before character\n",
    "# place \\n between text if text start from next line(line change) just like below example\n",
    "messgae : str = 'PIAIC student card\\nFather\\'s name'\n",
    "print(messgae)"
   ]
  },
  {
   "cell_type": "code",
   "execution_count": null,
   "metadata": {},
   "outputs": [],
   "source": []
  },
  {
   "cell_type": "code",
   "execution_count": 13,
   "metadata": {},
   "outputs": [
    {
     "name": "stdout",
     "output_type": "stream",
     "text": [
      "PIAIC Student Card\n",
      "Student Name:Zain Babar\n",
      "Age:33\n"
     ]
    }
   ],
   "source": [
    "name: str = \"Zain Babar\"\n",
    "father_name: str = \"Babar Mumtaz\"\n",
    "education: str = \"Master's in finance\"\n",
    "age: int = 33 \n",
    "\n",
    "card : str = \"PIAIC Student Card\\nStudent Name:\" + name + \"\\nAge:\" + str(age)\n",
    "print(card)"
   ]
  },
  {
   "cell_type": "markdown",
   "metadata": {},
   "source": [
    "# \\\\ line continue"
   ]
  },
  {
   "cell_type": "code",
   "execution_count": 14,
   "metadata": {},
   "outputs": [
    {
     "name": "stdout",
     "output_type": "stream",
     "text": [
      "PIAIC Student Card\n",
      "Student Name:Zain Babar\n",
      "Age:33\n",
      "Education: Master's in finance\n"
     ]
    }
   ],
   "source": [
    "name: str = \"Zain Babar\"\n",
    "father_name: str = \"Babar Mumtaz\"\n",
    "education: str = \"Master's in finance\"\n",
    "age: int = 33 \n",
    "\n",
    "card : str = \"PIAIC Student Card\\nStudent Name:\" + name +\\\n",
    "\"\\nAge:\" + str(age)+ \"\\n\"+\\\n",
    "\"Education: \" + education \n",
    "print(card)"
   ]
  },
  {
   "cell_type": "markdown",
   "metadata": {},
   "source": [
    "## Define Multiline string \"\"\" \"\"\" , ''' '''"
   ]
  },
  {
   "cell_type": "code",
   "execution_count": 15,
   "metadata": {},
   "outputs": [
    {
     "name": "stdout",
     "output_type": "stream",
     "text": [
      " \n",
      "PIAIC Student Card\n",
      "Student Name: .....\n",
      "Father's Name: .....\n",
      "Age: .....\n",
      "Education: .......\n",
      "\n"
     ]
    }
   ],
   "source": [
    "name: str = \"Zain Babar\"\n",
    "father_name: str = \"Babar Mumtaz\"\n",
    "education: str = \"Master's in finance\"\n",
    "age: int = 33 \n",
    "\n",
    "\n",
    "card: str = \"\"\" \n",
    "PIAIC Student Card\n",
    "Student Name: .....\n",
    "Father's Name: .....\n",
    "Age: .....\n",
    "Education: .......\n",
    "\"\"\"\n",
    "print(card)"
   ]
  },
  {
   "cell_type": "markdown",
   "metadata": {},
   "source": [
    "F-string if assigned after = then all type of data types values can be assigned with \"\"\" \"\"\", ''' '''"
   ]
  },
  {
   "cell_type": "code",
   "execution_count": 18,
   "metadata": {},
   "outputs": [
    {
     "name": "stdout",
     "output_type": "stream",
     "text": [
      " \n",
      "PIAIC Student Card\n",
      "Student Name: Zain Babar \n",
      "Father's Name: Babar Mumtaz \n",
      "Age: 33\n",
      "Education: Master's in finance \n",
      "Total 20\n",
      "\n"
     ]
    }
   ],
   "source": [
    "name: str = \"Zain Babar\"\n",
    "father_name: str = \"Babar Mumtaz\"\n",
    "education: str = \"Master's in finance\"\n",
    "age: int = 33 \n",
    "\n",
    "card: str = f\"\"\" \n",
    "PIAIC Student Card\n",
    "Student Name: {name} \n",
    "Father's Name: {father_name} \n",
    "Age: {age}\n",
    "Education: {education} \n",
    "Total {2 + 4 + 6 + 8}\n",
    "\"\"\"\n",
    "print(card)"
   ]
  },
  {
   "cell_type": "markdown",
   "metadata": {},
   "source": [
    "#F-string and Jinja style"
   ]
  },
  {
   "cell_type": "code",
   "execution_count": null,
   "metadata": {},
   "outputs": [],
   "source": [
    "# F-string\n",
    "# f place after = and before \"\"\" and {} use to place value\n",
    "# Jinja Style\n",
    "# \"\"\"\"\n",
    "# student name {{name}}\n",
    "# \"\"\"\n"
   ]
  }
 ],
 "metadata": {
  "kernelspec": {
   "display_name": "python12",
   "language": "python",
   "name": "python3"
  },
  "language_info": {
   "codemirror_mode": {
    "name": "ipython",
    "version": 3
   },
   "file_extension": ".py",
   "mimetype": "text/x-python",
   "name": "python",
   "nbconvert_exporter": "python",
   "pygments_lexer": "ipython3",
   "version": "3.12.0"
  }
 },
 "nbformat": 4,
 "nbformat_minor": 2
}
