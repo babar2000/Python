{
 "cells": [
  {
   "cell_type": "code",
   "execution_count": 10,
   "metadata": {},
   "outputs": [
    {
     "name": "stdout",
     "output_type": "stream",
     "text": [
      "Zain Babar\n"
     ]
    }
   ],
   "source": [
    "name:str = \"Zain Babar\"\n",
    "print(name)"
   ]
  },
  {
   "cell_type": "markdown",
   "metadata": {},
   "source": [
    "# String Data type in python\n"
   ]
  },
  {
   "cell_type": "code",
   "execution_count": 11,
   "metadata": {},
   "outputs": [
    {
     "name": "stdout",
     "output_type": "stream",
     "text": [
      "<class 'str'>\n",
      "Zain Babar\n"
     ]
    }
   ],
   "source": [
    "# boundaries\n",
    "# 'string text', \"string text\", ''' string text''', \"\"\"string text\"\"\"\n",
    "# `string text` backtick only in typescript not in python\n",
    "name: str = \"Zain Babar\"\n",
    "print(type(name))\n",
    "print(name)\n"
   ]
  },
  {
   "cell_type": "code",
   "execution_count": 12,
   "metadata": {},
   "outputs": [
    {
     "name": "stdout",
     "output_type": "stream",
     "text": [
      "PIAIC student card\n",
      "Father's name\n"
     ]
    }
   ],
   "source": [
    "# convert any special character into simple character,place \\ before character\n",
    "# place \\n between text if text start from next line(line change) just like below example\n",
    "messgae : str = 'PIAIC student card\\nFather\\'s name'\n",
    "print(messgae)"
   ]
  },
  {
   "cell_type": "code",
   "execution_count": null,
   "metadata": {},
   "outputs": [],
   "source": []
  },
  {
   "cell_type": "code",
   "execution_count": 13,
   "metadata": {},
   "outputs": [
    {
     "name": "stdout",
     "output_type": "stream",
     "text": [
      "PIAIC Student Card\n",
      "Student Name:Zain Babar\n",
      "Age:33\n"
     ]
    }
   ],
   "source": [
    "name: str = \"Zain Babar\"\n",
    "father_name: str = \"Babar Mumtaz\"\n",
    "education: str = \"Master's in finance\"\n",
    "age: int = 33 \n",
    "\n",
    "card : str = \"PIAIC Student Card\\nStudent Name:\" + name + \"\\nAge:\" + str(age)\n",
    "print(card)"
   ]
  },
  {
   "cell_type": "markdown",
   "metadata": {},
   "source": [
    "# \\\\ line continue"
   ]
  },
  {
   "cell_type": "code",
   "execution_count": 14,
   "metadata": {},
   "outputs": [
    {
     "name": "stdout",
     "output_type": "stream",
     "text": [
      "PIAIC Student Card\n",
      "Student Name:Zain Babar\n",
      "Age:33\n",
      "Education: Master's in finance\n"
     ]
    }
   ],
   "source": [
    "name: str = \"Zain Babar\"\n",
    "father_name: str = \"Babar Mumtaz\"\n",
    "education: str = \"Master's in finance\"\n",
    "age: int = 33 \n",
    "\n",
    "card : str = \"PIAIC Student Card\\nStudent Name:\" + name +\\\n",
    "\"\\nAge:\" + str(age)+ \"\\n\"+\\\n",
    "\"Education: \" + education \n",
    "print(card)"
   ]
  },
  {
   "cell_type": "markdown",
   "metadata": {},
   "source": [
    "## Define Multiline string \"\"\" \"\"\" , ''' '''"
   ]
  },
  {
   "cell_type": "code",
   "execution_count": 15,
   "metadata": {},
   "outputs": [
    {
     "name": "stdout",
     "output_type": "stream",
     "text": [
      " \n",
      "PIAIC Student Card\n",
      "Student Name: .....\n",
      "Father's Name: .....\n",
      "Age: .....\n",
      "Education: .......\n",
      "\n"
     ]
    }
   ],
   "source": [
    "name: str = \"Zain Babar\"\n",
    "father_name: str = \"Babar Mumtaz\"\n",
    "education: str = \"Master's in finance\"\n",
    "age: int = 33 \n",
    "\n",
    "\n",
    "card: str = \"\"\" \n",
    "PIAIC Student Card\n",
    "Student Name: .....\n",
    "Father's Name: .....\n",
    "Age: .....\n",
    "Education: .......\n",
    "\"\"\"\n",
    "print(card)"
   ]
  },
  {
   "cell_type": "markdown",
   "metadata": {},
   "source": [
    "F-string if assigned after = then all type of data types values can be assigned with \"\"\" \"\"\", ''' '''"
   ]
  },
  {
   "cell_type": "code",
   "execution_count": 16,
   "metadata": {},
   "outputs": [
    {
     "name": "stdout",
     "output_type": "stream",
     "text": [
      " \n",
      "PIAIC Student Card\n",
      "Student Name: Zain Babar \n",
      "Father's Name: Babar Mumtaz \n",
      "Age: 33\n",
      "Education: Master's in finance \n",
      "Total 20\n",
      "\n"
     ]
    }
   ],
   "source": [
    "name: str = \"Zain Babar\"\n",
    "father_name: str = \"Babar Mumtaz\"\n",
    "education: str = \"Master's in finance\"\n",
    "age: int = 33 \n",
    "\n",
    "card: str = f\"\"\" \n",
    "PIAIC Student Card\n",
    "Student Name: {name} \n",
    "Father's Name: {father_name} \n",
    "Age: {age}\n",
    "Education: {education} \n",
    "Total {2 + 4 + 6 + 8}\n",
    "\"\"\"\n",
    "print(card)"
   ]
  },
  {
   "cell_type": "markdown",
   "metadata": {},
   "source": [
    "#F-string and Jinja style"
   ]
  },
  {
   "cell_type": "code",
   "execution_count": 17,
   "metadata": {},
   "outputs": [],
   "source": [
    "# F-string\n",
    "# f place after = and before \"\"\" and {} use to place value\n",
    "# Jinja Style\n",
    "# \"\"\"\"\n",
    "# student name {{name}}\n",
    "# \"\"\"\n"
   ]
  },
  {
   "cell_type": "markdown",
   "metadata": {},
   "source": [
    "Before in use not now"
   ]
  },
  {
   "cell_type": "code",
   "execution_count": 18,
   "metadata": {},
   "outputs": [
    {
     "name": "stdout",
     "output_type": "stream",
     "text": [
      " \n",
      "PIAIC Student Card\n",
      "Student Name: Zain Babar \n",
      "Father's Name: Babar Mumtaz\n",
      "Age: 33\n",
      "Education: Master's in finance \n",
      "\n"
     ]
    }
   ],
   "source": [
    "card: str = f\"\"\" \n",
    "PIAIC Student Card\n",
    "Student Name: %s \n",
    "Father's Name: %s\n",
    "Age: %d\n",
    "Education: %s \n",
    "\"\"\" % (name,father_name,age,education)\n",
    "print(card)"
   ]
  },
  {
   "cell_type": "markdown",
   "metadata": {},
   "source": [
    "# Methods and Attributes of variables i.e. string,number etc"
   ]
  },
  {
   "cell_type": "code",
   "execution_count": 19,
   "metadata": {},
   "outputs": [
    {
     "data": {
      "text/plain": [
       "['capitalize',\n",
       " 'casefold',\n",
       " 'center',\n",
       " 'count',\n",
       " 'encode',\n",
       " 'endswith',\n",
       " 'expandtabs',\n",
       " 'find',\n",
       " 'format',\n",
       " 'index',\n",
       " 'isalnum',\n",
       " 'isalpha',\n",
       " 'isascii',\n",
       " 'isdecimal',\n",
       " 'isdigit',\n",
       " 'isidentifier',\n",
       " 'islower',\n",
       " 'isnumeric',\n",
       " 'isprintable',\n",
       " 'isspace',\n",
       " 'istitle',\n",
       " 'isupper',\n",
       " 'join',\n",
       " 'ljust',\n",
       " 'lower',\n",
       " 'lstrip',\n",
       " 'maketrans',\n",
       " 'partition',\n",
       " 'removeprefix',\n",
       " 'removesuffix',\n",
       " 'replace',\n",
       " 'rfind',\n",
       " 'rindex',\n",
       " 'rjust',\n",
       " 'rpartition',\n",
       " 'rsplit',\n",
       " 'rstrip',\n",
       " 'split',\n",
       " 'splitlines',\n",
       " 'startswith',\n",
       " 'strip',\n",
       " 'swapcase',\n",
       " 'title',\n",
       " 'translate',\n",
       " 'upper',\n",
       " 'zfill']"
      ]
     },
     "execution_count": 19,
     "metadata": {},
     "output_type": "execute_result"
    }
   ],
   "source": [
    "[i for i in dir(str) if \"_\" not in i]"
   ]
  },
  {
   "cell_type": "code",
   "execution_count": 21,
   "metadata": {},
   "outputs": [
    {
     "name": "stdout",
     "output_type": "stream",
     "text": [
      "Zain babar\n",
      "zain babar\n"
     ]
    }
   ],
   "source": [
    "name: str = \"ZAiN bABAr\"\n",
    "print(name.capitalize())\n",
    "print(name.lower())"
   ]
  },
  {
   "cell_type": "markdown",
   "metadata": {},
   "source": [
    "Format Method {} place holder"
   ]
  },
  {
   "cell_type": "code",
   "execution_count": 22,
   "metadata": {},
   "outputs": [
    {
     "data": {
      "text/plain": [
       "'pakistan value a = 7 and value b = 8'"
      ]
     },
     "execution_count": 22,
     "metadata": {},
     "output_type": "execute_result"
    }
   ],
   "source": [
    "a = 7\n",
    "b = 8\n",
    "\"pakistan value a = {} and value b = {}\".format(a,b)"
   ]
  },
  {
   "cell_type": "markdown",
   "metadata": {},
   "source": []
  },
  {
   "cell_type": "markdown",
   "metadata": {},
   "source": [
    "Explore string methods and attributes\n",
    "pre-define global functions we have used\n",
    "\n",
    "*print\n",
    "*type\n",
    "*id\n",
    "*dir\n",
    "*len"
   ]
  },
  {
   "cell_type": "code",
   "execution_count": 23,
   "metadata": {},
   "outputs": [
    {
     "name": "stdout",
     "output_type": "stream",
     "text": [
      "['capitalize', 'casefold', 'center', 'count', 'encode', 'endswith', 'expandtabs', 'find', 'format', 'index', 'isalnum', 'isalpha', 'isascii', 'isdecimal', 'isdigit', 'isidentifier', 'islower', 'isnumeric', 'isprintable', 'isspace', 'istitle', 'isupper', 'join', 'ljust', 'lower', 'lstrip', 'maketrans', 'partition', 'removeprefix', 'removesuffix', 'replace', 'rfind', 'rindex', 'rjust', 'rpartition', 'rsplit', 'rstrip', 'split', 'splitlines', 'startswith', 'strip', 'swapcase', 'title', 'translate', 'upper', 'zfill']\n",
      "46\n"
     ]
    }
   ],
   "source": [
    "a:list[str] = [i for i in dir(str) if \"_\" not in i]\n",
    "print(a)\n",
    "print(len(a))"
   ]
  },
  {
   "cell_type": "code",
   "execution_count": 35,
   "metadata": {},
   "outputs": [
    {
     "name": "stdout",
     "output_type": "stream",
     "text": [
      "Zain babar\n",
      "zain babar\n",
      "Zain Babar\n",
      "ZAIN BABAR\n",
      "zain babar\n"
     ]
    }
   ],
   "source": [
    "name: str = \"ZAiN BabAr\"\n",
    "print(name.capitalize())\n",
    "print(name.casefold())\n",
    "print(name.title())\n",
    "print(name.upper())\n",
    "print(name.lower())"
   ]
  },
  {
   "cell_type": "code",
   "execution_count": 39,
   "metadata": {},
   "outputs": [
    {
     "data": {
      "text/plain": [
       "'Zain Babar'"
      ]
     },
     "metadata": {},
     "output_type": "display_data"
    },
    {
     "data": {
      "text/plain": [
       "'Zain Babar'"
      ]
     },
     "metadata": {},
     "output_type": "display_data"
    },
    {
     "data": {
      "text/plain": [
       "'Hello,Zain Babar!'"
      ]
     },
     "metadata": {},
     "output_type": "display_data"
    }
   ],
   "source": [
    "first_name: str = \"Zain\"\n",
    "Last_name: str = \"Babar\"\n",
    "full_name: str = f\"{first_name} {Last_name}\"\n",
    "display(full_name)\n",
    "display(full_name.title())\n",
    "messgae: str = f\"Hello,{full_name.title()}!\"\n",
    "display(messgae)"
   ]
  },
  {
   "cell_type": "code",
   "execution_count": 30,
   "metadata": {},
   "outputs": [
    {
     "data": {
      "text/plain": [
       "'ZaiN bABaR     '"
      ]
     },
     "metadata": {},
     "output_type": "display_data"
    },
    {
     "data": {
      "text/plain": [
       "'     ZaiN bABaR'"
      ]
     },
     "metadata": {},
     "output_type": "display_data"
    },
    {
     "data": {
      "text/plain": [
       "'ZaiN bABaR'"
      ]
     },
     "metadata": {},
     "output_type": "display_data"
    }
   ],
   "source": [
    "name: str = \"     ZaiN bABaR     \"\n",
    "display(name.lstrip())\n",
    "display(name.rstrip())\n",
    "display(name.strip())"
   ]
  },
  {
   "cell_type": "code",
   "execution_count": 33,
   "metadata": {},
   "outputs": [
    {
     "data": {
      "text/plain": [
       "'     Zain     Babar     '"
      ]
     },
     "metadata": {},
     "output_type": "display_data"
    },
    {
     "data": {
      "text/plain": [
       "'Zain Babar'"
      ]
     },
     "metadata": {},
     "output_type": "display_data"
    }
   ],
   "source": [
    "# import re (regular expression)\n",
    "import re\n",
    "name: str = \"     Zain     Babar     \"\n",
    "display(name)\n",
    "name1: str = re.sub(' {2,100}',' ',name).strip()\n",
    "display(name1)"
   ]
  },
  {
   "cell_type": "code",
   "execution_count": 43,
   "metadata": {},
   "outputs": [
    {
     "name": "stdout",
     "output_type": "stream",
     "text": [
      "Name:\t\t Zain Babar\n",
      "Name:\n",
      " Zain Babar\n",
      "Name Zain Babar\n"
     ]
    }
   ],
   "source": [
    "#\\n\n",
    "#\\t\n",
    "#\\b\n",
    "\n",
    "print(\"Name:\\t\\t Zain Babar\")\n",
    "print(\"Name:\\n Zain Babar\")\n",
    "print(\"Name:\\b Zain Babar\")"
   ]
  },
  {
   "cell_type": "code",
   "execution_count": 44,
   "metadata": {},
   "outputs": [
    {
     "data": {
      "text/plain": [
       "' Mumtaz Bhatti'"
      ]
     },
     "execution_count": 44,
     "metadata": {},
     "output_type": "execute_result"
    }
   ],
   "source": [
    "name: str = \"Zain Babar Mumtaz Bhatti\"\n",
    "name.removeprefix(\"Zain Babar\")\n"
   ]
  },
  {
   "cell_type": "markdown",
   "metadata": {},
   "source": [
    "variable name cannot start with number, can start with text or _, variable name should not has space can use _"
   ]
  }
 ],
 "metadata": {
  "kernelspec": {
   "display_name": "python12",
   "language": "python",
   "name": "python3"
  },
  "language_info": {
   "codemirror_mode": {
    "name": "ipython",
    "version": 3
   },
   "file_extension": ".py",
   "mimetype": "text/x-python",
   "name": "python",
   "nbconvert_exporter": "python",
   "pygments_lexer": "ipython3",
   "version": "3.12.0"
  }
 },
 "nbformat": 4,
 "nbformat_minor": 2
}
