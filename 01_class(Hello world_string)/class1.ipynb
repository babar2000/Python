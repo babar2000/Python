{
 "cells": [
  {
   "cell_type": "code",
   "execution_count": 9,
   "metadata": {},
   "outputs": [
    {
     "name": "stdout",
     "output_type": "stream",
     "text": [
      "Pakistan 10\n",
      "Pakistan abc\n",
      "Pakistan 08\n",
      "Pakistan 123\n",
      "Pakistan 5gt\n",
      "Zain\n"
     ]
    }
   ],
   "source": [
    "print(\"Pakistan 10\")\n",
    "print(\"Pakistan abc\")\n",
    "print(\"Pakistan 08\")\n",
    "print(\"Pakistan 123\")\n",
    "print(\"Pakistan 5gt\")\n",
    "print(\"Zain\")"
   ]
  },
  {
   "cell_type": "markdown",
   "metadata": {},
   "source": [
    "print(\"Zindabad\")"
   ]
  },
  {
   "cell_type": "markdown",
   "metadata": {},
   "source": [
    "print(\"Zindabad\")"
   ]
  },
  {
   "cell_type": "code",
   "execution_count": 10,
   "metadata": {},
   "outputs": [
    {
     "name": "stdout",
     "output_type": "stream",
     "text": [
      "Zindabad\n"
     ]
    }
   ],
   "source": [
    "print(\"Zindabad\")"
   ]
  },
  {
   "cell_type": "markdown",
   "metadata": {},
   "source": [
    "#string\n"
   ]
  },
  {
   "cell_type": "code",
   "execution_count": 11,
   "metadata": {},
   "outputs": [
    {
     "name": "stdout",
     "output_type": "stream",
     "text": [
      "Zain Babar\n",
      "<class 'str'>\n",
      "2588983338736\n",
      "['capitalize', 'casefold', 'center', 'count', 'encode', 'endswith', 'expandtabs', 'find', 'format', 'index', 'isalnum', 'isalpha', 'isascii', 'isdecimal', 'isdigit', 'isidentifier', 'islower', 'isnumeric', 'isprintable', 'isspace', 'istitle', 'isupper', 'join', 'ljust', 'lower', 'lstrip', 'maketrans', 'partition', 'removeprefix', 'removesuffix', 'replace', 'rfind', 'rindex', 'rjust', 'rpartition', 'rsplit', 'rstrip', 'split', 'splitlines', 'startswith', 'strip', 'swapcase', 'title', 'translate', 'upper', 'zfill']\n"
     ]
    }
   ],
   "source": [
    "name:str=\"Zain Babar\"\n",
    "print(name) #print name\n",
    "print(type(name)) # type\n",
    "print(id(name)) # physical address\n",
    "print([i for i in dir(name) if \"_\" not in i]) # methods and attributes "
   ]
  },
  {
   "cell_type": "code",
   "execution_count": 12,
   "metadata": {},
   "outputs": [
    {
     "name": "stdout",
     "output_type": "stream",
     "text": [
      "1990\n",
      "<class 'int'>\n",
      "2588982256720\n",
      "['conjugate', 'denominator', 'imag', 'numerator', 'real']\n"
     ]
    }
   ],
   "source": [
    "name:int=1990\n",
    "print(name) #print name\n",
    "print(type(name)) # type\n",
    "print(id(name)) # physical address\n",
    "print([i for i in dir(name) if \"_\" not in i]) # methods and attributes "
   ]
  },
  {
   "cell_type": "code",
   "execution_count": 13,
   "metadata": {},
   "outputs": [
    {
     "name": "stdout",
     "output_type": "stream",
     "text": [
      "7.0\n",
      "<class 'float'>\n",
      "2588982254256\n",
      "['conjugate', 'fromhex', 'hex', 'imag', 'real']\n"
     ]
    }
   ],
   "source": [
    "name:float=7.0\n",
    "print(name) #print name\n",
    "print(type(name)) # type\n",
    "print(id(name)) # physical address\n",
    "print([i for i in dir(name) if \"_\" not in i]) # methods and attributes "
   ]
  },
  {
   "cell_type": "code",
   "execution_count": 14,
   "metadata": {},
   "outputs": [
    {
     "name": "stdout",
     "output_type": "stream",
     "text": [
      "True\n",
      "<class 'bool'>\n",
      "140727827967056\n",
      "['conjugate', 'denominator', 'imag', 'numerator', 'real']\n"
     ]
    }
   ],
   "source": [
    "name:bool=True\n",
    "print(name) #print name\n",
    "print(type(name)) # type\n",
    "print(id(name)) # physical address\n",
    "print([i for i in dir(name) if \"_\" not in i]) # methods and attributes "
   ]
  },
  {
   "cell_type": "code",
   "execution_count": 15,
   "metadata": {},
   "outputs": [
    {
     "name": "stdout",
     "output_type": "stream",
     "text": [
      "['a', 'b', 'c']\n",
      "<class 'list'>\n",
      "2588982568320\n",
      "['append', 'clear', 'copy', 'count', 'extend', 'index', 'insert', 'pop', 'remove', 'reverse', 'sort']\n"
     ]
    }
   ],
   "source": [
    "name:list[str]=['a','b','c']\n",
    "print(name) #print name\n",
    "print(type(name)) # type\n",
    "print(id(name)) # physical address\n",
    "print([i for i in dir(name) if \"_\" not in i]) # methods and attributes "
   ]
  },
  {
   "cell_type": "code",
   "execution_count": 16,
   "metadata": {},
   "outputs": [
    {
     "name": "stdout",
     "output_type": "stream",
     "text": [
      "('zain', 78, 3.0)\n",
      "<class 'tuple'>\n",
      "2588982687104\n",
      "['count', 'index']\n"
     ]
    }
   ],
   "source": [
    "name:tuple[str,int,float]=('zain',78,3.0)\n",
    "print(name) #print name\n",
    "print(type(name)) # type\n",
    "print(id(name)) # physical address\n",
    "print([i for i in dir(name) if \"_\" not in i]) # methods and attributes "
   ]
  }
 ],
 "metadata": {
  "kernelspec": {
   "display_name": "base",
   "language": "python",
   "name": "python3"
  },
  "language_info": {
   "codemirror_mode": {
    "name": "ipython",
    "version": 3
   },
   "file_extension": ".py",
   "mimetype": "text/x-python",
   "name": "python",
   "nbconvert_exporter": "python",
   "pygments_lexer": "ipython3",
   "version": "3.12.2"
  }
 },
 "nbformat": 4,
 "nbformat_minor": 2
}
